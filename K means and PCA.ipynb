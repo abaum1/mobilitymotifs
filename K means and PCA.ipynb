{
 "cells": [
  {
   "cell_type": "code",
   "execution_count": 671,
   "metadata": {},
   "outputs": [],
   "source": [
    "import numpy as np\n",
    "import pandas as pd\n",
    "from sklearn.decomposition import PCA\n",
    "from sklearn.preprocessing import StandardScaler\n",
    "import matplotlib.pyplot as plt\n",
    "import seaborn as sns"
   ]
  },
  {
   "cell_type": "code",
   "execution_count": 672,
   "metadata": {},
   "outputs": [],
   "source": [
    "data_path = \"/Users/ameliabaum/Desktop/Amelia/Berkeley Fall 2019/CY PLAN 257/Final Project/data/\""
   ]
  },
  {
   "cell_type": "code",
   "execution_count": 673,
   "metadata": {},
   "outputs": [],
   "source": [
    "# pums = pd.read_csv(data_path+\"csv_hca/psam_h06.csv\")\n",
    "# list(pums.columns)"
   ]
  },
  {
   "cell_type": "code",
   "execution_count": 674,
   "metadata": {},
   "outputs": [],
   "source": [
    "zcode_data = pd.read_csv(data_path+\"bay_all.csv\").rename({\"Unnamed: 0\": \"ZIP\"}, axis=1)\n",
    "\n",
    "\n",
    "modes_zcodes = zcode_data[[col for col in zcode_data.columns if (\"ZIP\" in col)\n",
    "                        or (\"auto\" in col) or (\"walkbk\" in col) or (\"transit\" in col)]]\n",
    "\n",
    "# purposes_zcodes = zcode_data[[col for col in zcode_data.columns if (\"ZIP\" in col)\n",
    "#                         or (\"sch_work\" in col) or (\"discretionary\" in col) or (\"home\" in col)]]\n",
    "\n",
    "# modes_zcodes"
   ]
  },
  {
   "cell_type": "code",
   "execution_count": 675,
   "metadata": {},
   "outputs": [],
   "source": [
    "zcode_data = modes_zcodes"
   ]
  },
  {
   "cell_type": "code",
   "execution_count": 715,
   "metadata": {},
   "outputs": [
    {
     "data": {
      "text/html": [
       "<div>\n",
       "<style scoped>\n",
       "    .dataframe tbody tr th:only-of-type {\n",
       "        vertical-align: middle;\n",
       "    }\n",
       "\n",
       "    .dataframe tbody tr th {\n",
       "        vertical-align: top;\n",
       "    }\n",
       "\n",
       "    .dataframe thead th {\n",
       "        text-align: right;\n",
       "    }\n",
       "</style>\n",
       "<table border=\"1\" class=\"dataframe\">\n",
       "  <thead>\n",
       "    <tr style=\"text-align: right;\">\n",
       "      <th></th>\n",
       "      <th>ZIP</th>\n",
       "      <th>i_transit_hr_0</th>\n",
       "      <th>i_auto_hr_0</th>\n",
       "      <th>i_walkbk_hr_0</th>\n",
       "      <th>i_transit_hr_1</th>\n",
       "      <th>i_auto_hr_1</th>\n",
       "      <th>i_walkbk_hr_1</th>\n",
       "      <th>i_transit_hr_2</th>\n",
       "      <th>i_auto_hr_2</th>\n",
       "      <th>i_walkbk_hr_2</th>\n",
       "      <th>...</th>\n",
       "      <th>i_walkbk_hr_20</th>\n",
       "      <th>i_transit_hr_21</th>\n",
       "      <th>i_auto_hr_21</th>\n",
       "      <th>i_walkbk_hr_21</th>\n",
       "      <th>i_transit_hr_22</th>\n",
       "      <th>i_auto_hr_22</th>\n",
       "      <th>i_walkbk_hr_22</th>\n",
       "      <th>i_transit_hr_23</th>\n",
       "      <th>i_auto_hr_23</th>\n",
       "      <th>i_walkbk_hr_23</th>\n",
       "    </tr>\n",
       "  </thead>\n",
       "  <tbody>\n",
       "    <tr>\n",
       "      <th>0</th>\n",
       "      <td>94002</td>\n",
       "      <td>0</td>\n",
       "      <td>0</td>\n",
       "      <td>125</td>\n",
       "      <td>26</td>\n",
       "      <td>14</td>\n",
       "      <td>24</td>\n",
       "      <td>53</td>\n",
       "      <td>34</td>\n",
       "      <td>35</td>\n",
       "      <td>...</td>\n",
       "      <td>5</td>\n",
       "      <td>0</td>\n",
       "      <td>0</td>\n",
       "      <td>2</td>\n",
       "      <td>0</td>\n",
       "      <td>3</td>\n",
       "      <td>2</td>\n",
       "      <td>8</td>\n",
       "      <td>6</td>\n",
       "      <td>4</td>\n",
       "    </tr>\n",
       "    <tr>\n",
       "      <th>1</th>\n",
       "      <td>94005</td>\n",
       "      <td>0</td>\n",
       "      <td>0</td>\n",
       "      <td>24</td>\n",
       "      <td>6</td>\n",
       "      <td>9</td>\n",
       "      <td>4</td>\n",
       "      <td>7</td>\n",
       "      <td>4</td>\n",
       "      <td>3</td>\n",
       "      <td>...</td>\n",
       "      <td>0</td>\n",
       "      <td>0</td>\n",
       "      <td>0</td>\n",
       "      <td>1</td>\n",
       "      <td>0</td>\n",
       "      <td>0</td>\n",
       "      <td>2</td>\n",
       "      <td>1</td>\n",
       "      <td>0</td>\n",
       "      <td>0</td>\n",
       "    </tr>\n",
       "    <tr>\n",
       "      <th>2</th>\n",
       "      <td>94010</td>\n",
       "      <td>0</td>\n",
       "      <td>1</td>\n",
       "      <td>189</td>\n",
       "      <td>71</td>\n",
       "      <td>48</td>\n",
       "      <td>62</td>\n",
       "      <td>83</td>\n",
       "      <td>61</td>\n",
       "      <td>56</td>\n",
       "      <td>...</td>\n",
       "      <td>2</td>\n",
       "      <td>0</td>\n",
       "      <td>0</td>\n",
       "      <td>4</td>\n",
       "      <td>9</td>\n",
       "      <td>8</td>\n",
       "      <td>8</td>\n",
       "      <td>13</td>\n",
       "      <td>4</td>\n",
       "      <td>11</td>\n",
       "    </tr>\n",
       "    <tr>\n",
       "      <th>3</th>\n",
       "      <td>94014</td>\n",
       "      <td>2</td>\n",
       "      <td>0</td>\n",
       "      <td>71</td>\n",
       "      <td>33</td>\n",
       "      <td>34</td>\n",
       "      <td>29</td>\n",
       "      <td>38</td>\n",
       "      <td>42</td>\n",
       "      <td>21</td>\n",
       "      <td>...</td>\n",
       "      <td>1</td>\n",
       "      <td>0</td>\n",
       "      <td>0</td>\n",
       "      <td>0</td>\n",
       "      <td>7</td>\n",
       "      <td>5</td>\n",
       "      <td>7</td>\n",
       "      <td>4</td>\n",
       "      <td>4</td>\n",
       "      <td>6</td>\n",
       "    </tr>\n",
       "    <tr>\n",
       "      <th>4</th>\n",
       "      <td>94015</td>\n",
       "      <td>2</td>\n",
       "      <td>1</td>\n",
       "      <td>113</td>\n",
       "      <td>38</td>\n",
       "      <td>50</td>\n",
       "      <td>46</td>\n",
       "      <td>44</td>\n",
       "      <td>42</td>\n",
       "      <td>24</td>\n",
       "      <td>...</td>\n",
       "      <td>2</td>\n",
       "      <td>0</td>\n",
       "      <td>0</td>\n",
       "      <td>2</td>\n",
       "      <td>2</td>\n",
       "      <td>5</td>\n",
       "      <td>5</td>\n",
       "      <td>4</td>\n",
       "      <td>0</td>\n",
       "      <td>1</td>\n",
       "    </tr>\n",
       "  </tbody>\n",
       "</table>\n",
       "<p>5 rows × 73 columns</p>\n",
       "</div>"
      ],
      "text/plain": [
       "     ZIP  i_transit_hr_0  i_auto_hr_0  i_walkbk_hr_0  i_transit_hr_1  \\\n",
       "0  94002               0            0            125              26   \n",
       "1  94005               0            0             24               6   \n",
       "2  94010               0            1            189              71   \n",
       "3  94014               2            0             71              33   \n",
       "4  94015               2            1            113              38   \n",
       "\n",
       "   i_auto_hr_1  i_walkbk_hr_1  i_transit_hr_2  i_auto_hr_2  i_walkbk_hr_2  \\\n",
       "0           14             24              53           34             35   \n",
       "1            9              4               7            4              3   \n",
       "2           48             62              83           61             56   \n",
       "3           34             29              38           42             21   \n",
       "4           50             46              44           42             24   \n",
       "\n",
       "   ...  i_walkbk_hr_20  i_transit_hr_21  i_auto_hr_21  i_walkbk_hr_21  \\\n",
       "0  ...               5                0             0               2   \n",
       "1  ...               0                0             0               1   \n",
       "2  ...               2                0             0               4   \n",
       "3  ...               1                0             0               0   \n",
       "4  ...               2                0             0               2   \n",
       "\n",
       "   i_transit_hr_22  i_auto_hr_22  i_walkbk_hr_22  i_transit_hr_23  \\\n",
       "0                0             3               2                8   \n",
       "1                0             0               2                1   \n",
       "2                9             8               8               13   \n",
       "3                7             5               7                4   \n",
       "4                2             5               5                4   \n",
       "\n",
       "   i_auto_hr_23  i_walkbk_hr_23  \n",
       "0             6               4  \n",
       "1             0               0  \n",
       "2             4              11  \n",
       "3             4               6  \n",
       "4             0               1  \n",
       "\n",
       "[5 rows x 73 columns]"
      ]
     },
     "execution_count": 715,
     "metadata": {},
     "output_type": "execute_result"
    }
   ],
   "source": []
  },
  {
   "cell_type": "markdown",
   "metadata": {},
   "source": [
    "We can see that several the the features have high collinearity. I eliminated the all auto and all transit feature because it had very high collinearity with some other features including any of the features containing transit or auto.total inbound and total oubound have reletively high collinearity with other subsets of inbound/outbound. some of the high collinearities are not easily explained, such as the relationship between \"total inbound\" and \"work auto outbound\". Other relationships between inbound and outbound features suggest that inboundna outbound counts are positively correlated, which suggests that zip codes with a lot of inbound trips at one time of day have a lot of outbound trips as well. This makes sense, given that this is daily activity and we would expect most people who enter the zip code for work, school, or other activities will eventually go back home."
   ]
  },
  {
   "cell_type": "code",
   "execution_count": 676,
   "metadata": {},
   "outputs": [],
   "source": [
    "# color = sns.diverging_palette(11, 11)\n",
    "# sns.set(font_scale=1)\n",
    "# plt.subplots(figsize=(12,7))\n",
    "# corr = zcode_data[[col for col in zcode_data.columns if col not in ['internal', \"zip code\"]]].corr()\n",
    "# corr.style.set_precision(3)\n",
    "# sns.heatmap(corr, annot=True, cmap=\"YlGnBu\", vmax=1, vmin = -0.1);\n",
    "# sns.axes_style(\"white\");\n",
    "# plt.title(\"Pairwise Feature Correlations\");"
   ]
  },
  {
   "cell_type": "code",
   "execution_count": 677,
   "metadata": {},
   "outputs": [
    {
     "name": "stdout",
     "output_type": "stream",
     "text": [
      "num feats:  72\n"
     ]
    }
   ],
   "source": [
    "features = zcode_data[[col for col in zcode_data.columns if col not in [\"ZIP\"]]].columns\n",
    "print(\"num feats: \", len(features))\n"
   ]
  },
  {
   "cell_type": "code",
   "execution_count": 678,
   "metadata": {
    "scrolled": true
   },
   "outputs": [
    {
     "name": "stderr",
     "output_type": "stream",
     "text": [
      "/Users/ameliabaum/anaconda3/lib/python3.6/site-packages/sklearn/utils/validation.py:595: DataConversionWarning:\n",
      "\n",
      "Data with input dtype int64 was converted to float64 by StandardScaler.\n",
      "\n",
      "/Users/ameliabaum/anaconda3/lib/python3.6/site-packages/sklearn/utils/validation.py:595: DataConversionWarning:\n",
      "\n",
      "Data with input dtype int64 was converted to float64 by StandardScaler.\n",
      "\n"
     ]
    },
    {
     "data": {
      "text/plain": [
       "array([[-0.65521381, -0.54440563,  0.50686754, ...,  1.05072311,\n",
       "         0.42476834,  0.06813355],\n",
       "       [-0.65521381, -0.54440563, -1.12927824, ..., -0.85898532,\n",
       "        -1.16971382, -0.99219479],\n",
       "       [-0.65521381,  0.75902708,  1.54363318, ...,  2.41480057,\n",
       "        -0.10672571,  1.92370815],\n",
       "       ...,\n",
       "       [ 0.952158  , -0.54440563,  0.50686754, ...,  0.23227664,\n",
       "         1.22200942,  0.06813355],\n",
       "       [ 1.7558439 ,  0.75902708,  1.72182728, ...,  1.5963541 ,\n",
       "         1.22200942,  0.33321563],\n",
       "       [ 1.7558439 , -0.54440563,  0.99285143, ..., -0.31335434,\n",
       "        -0.63821977, -0.46203062]])"
      ]
     },
     "execution_count": 678,
     "metadata": {},
     "output_type": "execute_result"
    }
   ],
   "source": [
    "from sklearn.preprocessing import StandardScaler\n",
    "# Separating out the features\n",
    "x = zcode_data.loc[:, features].values\n",
    "# Separating out the target\n",
    "y = zcode_data.loc[:,'ZIP'].values\n",
    "# Standardizing the features\n",
    "standard_data = StandardScaler().fit_transform(x)\n",
    "standard_data"
   ]
  },
  {
   "cell_type": "code",
   "execution_count": 679,
   "metadata": {},
   "outputs": [],
   "source": [
    "n_components = 15\n",
    "pca_model = PCA(n_components)\n",
    "principalComponents = pca_model.fit_transform(standard_data)\n",
    "principalDf = pd.DataFrame(data = principalComponents\n",
    "             , columns = [\"principal component {0}\".format(i+1) for i in range(n_components)])"
   ]
  },
  {
   "cell_type": "code",
   "execution_count": 680,
   "metadata": {},
   "outputs": [],
   "source": [
    "PCs = pca_model.components_\n",
    "pc_df = pd.DataFrame(PCs, columns = features)\n",
    "pc_df.index = np.arange(1,n_components+1)\n",
    "\n",
    "#looks like the first PC is weighting almost all of the feats equally. this might suggest that the bucketing is\n",
    "#smoothing a lot of variability which ight be informative"
   ]
  },
  {
   "cell_type": "code",
   "execution_count": 681,
   "metadata": {},
   "outputs": [
    {
     "data": {
      "text/html": [
       "<div>\n",
       "<style scoped>\n",
       "    .dataframe tbody tr th:only-of-type {\n",
       "        vertical-align: middle;\n",
       "    }\n",
       "\n",
       "    .dataframe tbody tr th {\n",
       "        vertical-align: top;\n",
       "    }\n",
       "\n",
       "    .dataframe thead th {\n",
       "        text-align: right;\n",
       "    }\n",
       "</style>\n",
       "<table border=\"1\" class=\"dataframe\">\n",
       "  <thead>\n",
       "    <tr style=\"text-align: right;\">\n",
       "      <th></th>\n",
       "      <th>principal component 1</th>\n",
       "      <th>principal component 2</th>\n",
       "      <th>principal component 3</th>\n",
       "      <th>principal component 4</th>\n",
       "      <th>principal component 5</th>\n",
       "      <th>principal component 6</th>\n",
       "      <th>principal component 7</th>\n",
       "      <th>principal component 8</th>\n",
       "      <th>principal component 9</th>\n",
       "      <th>principal component 10</th>\n",
       "      <th>principal component 11</th>\n",
       "      <th>principal component 12</th>\n",
       "      <th>principal component 13</th>\n",
       "      <th>principal component 14</th>\n",
       "      <th>principal component 15</th>\n",
       "      <th>ZIP</th>\n",
       "    </tr>\n",
       "  </thead>\n",
       "  <tbody>\n",
       "    <tr>\n",
       "      <th>0</th>\n",
       "      <td>-0.874771</td>\n",
       "      <td>-1.020787</td>\n",
       "      <td>-0.628819</td>\n",
       "      <td>-1.053106</td>\n",
       "      <td>1.164634</td>\n",
       "      <td>0.799920</td>\n",
       "      <td>0.011613</td>\n",
       "      <td>-0.114231</td>\n",
       "      <td>-0.618195</td>\n",
       "      <td>-0.182942</td>\n",
       "      <td>0.284483</td>\n",
       "      <td>0.484964</td>\n",
       "      <td>-0.332358</td>\n",
       "      <td>0.266912</td>\n",
       "      <td>-0.657710</td>\n",
       "      <td>94002</td>\n",
       "    </tr>\n",
       "    <tr>\n",
       "      <th>1</th>\n",
       "      <td>-6.249591</td>\n",
       "      <td>0.061347</td>\n",
       "      <td>-0.341176</td>\n",
       "      <td>0.020758</td>\n",
       "      <td>0.013881</td>\n",
       "      <td>0.148133</td>\n",
       "      <td>-0.111118</td>\n",
       "      <td>-0.016047</td>\n",
       "      <td>0.032521</td>\n",
       "      <td>0.015700</td>\n",
       "      <td>-0.077445</td>\n",
       "      <td>0.362079</td>\n",
       "      <td>0.189957</td>\n",
       "      <td>-0.134027</td>\n",
       "      <td>-0.584355</td>\n",
       "      <td>94005</td>\n",
       "    </tr>\n",
       "    <tr>\n",
       "      <th>2</th>\n",
       "      <td>6.580211</td>\n",
       "      <td>-1.354974</td>\n",
       "      <td>-1.502586</td>\n",
       "      <td>1.826150</td>\n",
       "      <td>0.647788</td>\n",
       "      <td>0.225151</td>\n",
       "      <td>-0.457937</td>\n",
       "      <td>-1.215637</td>\n",
       "      <td>1.605779</td>\n",
       "      <td>-0.316495</td>\n",
       "      <td>0.628073</td>\n",
       "      <td>1.043852</td>\n",
       "      <td>-1.249129</td>\n",
       "      <td>-1.104272</td>\n",
       "      <td>-0.758576</td>\n",
       "      <td>94010</td>\n",
       "    </tr>\n",
       "    <tr>\n",
       "      <th>3</th>\n",
       "      <td>-0.134723</td>\n",
       "      <td>2.259566</td>\n",
       "      <td>0.475119</td>\n",
       "      <td>-1.283999</td>\n",
       "      <td>-0.618102</td>\n",
       "      <td>-0.582877</td>\n",
       "      <td>0.379799</td>\n",
       "      <td>1.301325</td>\n",
       "      <td>0.391925</td>\n",
       "      <td>-0.746357</td>\n",
       "      <td>0.673513</td>\n",
       "      <td>0.686539</td>\n",
       "      <td>-0.511225</td>\n",
       "      <td>1.061567</td>\n",
       "      <td>0.165575</td>\n",
       "      <td>94014</td>\n",
       "    </tr>\n",
       "    <tr>\n",
       "      <th>4</th>\n",
       "      <td>1.298689</td>\n",
       "      <td>-1.305806</td>\n",
       "      <td>0.835734</td>\n",
       "      <td>0.651454</td>\n",
       "      <td>-0.701059</td>\n",
       "      <td>-0.685440</td>\n",
       "      <td>-0.462280</td>\n",
       "      <td>1.683759</td>\n",
       "      <td>0.318436</td>\n",
       "      <td>0.264918</td>\n",
       "      <td>1.151585</td>\n",
       "      <td>1.775753</td>\n",
       "      <td>0.117063</td>\n",
       "      <td>0.787071</td>\n",
       "      <td>-1.908232</td>\n",
       "      <td>94015</td>\n",
       "    </tr>\n",
       "  </tbody>\n",
       "</table>\n",
       "</div>"
      ],
      "text/plain": [
       "   principal component 1  principal component 2  principal component 3  \\\n",
       "0              -0.874771              -1.020787              -0.628819   \n",
       "1              -6.249591               0.061347              -0.341176   \n",
       "2               6.580211              -1.354974              -1.502586   \n",
       "3              -0.134723               2.259566               0.475119   \n",
       "4               1.298689              -1.305806               0.835734   \n",
       "\n",
       "   principal component 4  principal component 5  principal component 6  \\\n",
       "0              -1.053106               1.164634               0.799920   \n",
       "1               0.020758               0.013881               0.148133   \n",
       "2               1.826150               0.647788               0.225151   \n",
       "3              -1.283999              -0.618102              -0.582877   \n",
       "4               0.651454              -0.701059              -0.685440   \n",
       "\n",
       "   principal component 7  principal component 8  principal component 9  \\\n",
       "0               0.011613              -0.114231              -0.618195   \n",
       "1              -0.111118              -0.016047               0.032521   \n",
       "2              -0.457937              -1.215637               1.605779   \n",
       "3               0.379799               1.301325               0.391925   \n",
       "4              -0.462280               1.683759               0.318436   \n",
       "\n",
       "   principal component 10  principal component 11  principal component 12  \\\n",
       "0               -0.182942                0.284483                0.484964   \n",
       "1                0.015700               -0.077445                0.362079   \n",
       "2               -0.316495                0.628073                1.043852   \n",
       "3               -0.746357                0.673513                0.686539   \n",
       "4                0.264918                1.151585                1.775753   \n",
       "\n",
       "   principal component 13  principal component 14  principal component 15  \\\n",
       "0               -0.332358                0.266912               -0.657710   \n",
       "1                0.189957               -0.134027               -0.584355   \n",
       "2               -1.249129               -1.104272               -0.758576   \n",
       "3               -0.511225                1.061567                0.165575   \n",
       "4                0.117063                0.787071               -1.908232   \n",
       "\n",
       "     ZIP  \n",
       "0  94002  \n",
       "1  94005  \n",
       "2  94010  \n",
       "3  94014  \n",
       "4  94015  "
      ]
     },
     "execution_count": 681,
     "metadata": {},
     "output_type": "execute_result"
    }
   ],
   "source": [
    "finalDf = pd.concat([principalDf, zcode_data[['ZIP']]], axis = 1)\n",
    "finalDf.head()"
   ]
  },
  {
   "cell_type": "code",
   "execution_count": 682,
   "metadata": {},
   "outputs": [],
   "source": [
    "# plt.figure(figsize = (8,8))\n",
    "\n",
    "# ax = plt.scatter(finalDf.iloc[:,0], finalDf.iloc[:,1], color='g', alpha=.5, edgecolor='g', s=0.2)\n",
    "# plt.xlabel('Principal Component 1', fontsize = 15)\n",
    "# plt.ylabel('Principal Component 2', fontsize = 15)\n",
    "# plt.xlim(-7,8)\n",
    "# plt.ylim(-7,8)\n",
    "# plt.title('{0} component PCA'.format(n_components), fontsize = 20)\n",
    "# plt.show()"
   ]
  },
  {
   "cell_type": "code",
   "execution_count": 683,
   "metadata": {},
   "outputs": [
    {
     "name": "stdout",
     "output_type": "stream",
     "text": [
      "[0.31937166 0.44098653 0.47896817 0.51272213 0.54350573 0.56850646\n",
      " 0.59154652 0.61388416 0.6341826  0.65334095 0.67116267 0.68764181\n",
      " 0.70340248 0.71854575 0.73344302]\n"
     ]
    }
   ],
   "source": [
    "explained = pca_model.explained_variance_ratio_\n",
    "explained_sum = np.cumsum(explained)\n",
    "# eigenvector = np.array(range(1,24))\n",
    "\n",
    "print(explained_sum)\n",
    "# print(len(eigenvector))"
   ]
  },
  {
   "cell_type": "code",
   "execution_count": 684,
   "metadata": {},
   "outputs": [
    {
     "data": {
      "text/plain": [
       "array([0.31937166, 0.12161487, 0.03798164, 0.03375396, 0.0307836 ,\n",
       "       0.02500073, 0.02304006, 0.02233764, 0.02029844, 0.01915834,\n",
       "       0.01782173, 0.01647914, 0.01576066, 0.01514327, 0.01489727])"
      ]
     },
     "execution_count": 684,
     "metadata": {},
     "output_type": "execute_result"
    }
   ],
   "source": [
    "pca_model.explained_variance_ratio_"
   ]
  },
  {
   "cell_type": "code",
   "execution_count": 685,
   "metadata": {},
   "outputs": [
    {
     "data": {
      "text/plain": [
       "<matplotlib.legend.Legend at 0x1a4288e5f8>"
      ]
     },
     "execution_count": 685,
     "metadata": {},
     "output_type": "execute_result"
    },
    {
     "data": {
      "image/png": "[encoded data removed]",
      "text/plain": [
       "<Figure size 576x432 with 1 Axes>"
      ]
     },
     "metadata": {
      "needs_background": "light"
     },
     "output_type": "display_data"
    }
   ],
   "source": [
    "plt.figure(figsize=(8,6))\n",
    "plt.bar(range(1,len(pca_model.explained_variance_ )+1),pca_model.explained_variance_ratio_ )\n",
    "plt.ylabel('Explained variance %')\n",
    "plt.xlabel('Components')\n",
    "plt.plot(range(1,len(pca_model.explained_variance_ratio_ )+1),\n",
    "         np.cumsum(pca_model.explained_variance_ratio_),\n",
    "         c='red',\n",
    "         label=\"Cumulative Explained Variance\")\n",
    "plt.legend(loc='upper left')"
   ]
  },
  {
   "cell_type": "code",
   "execution_count": 686,
   "metadata": {},
   "outputs": [
    {
     "data": {
      "image/png": "[encoded data removed]",
      "text/plain": [
       "<Figure size 432x288 with 1 Axes>"
      ]
     },
     "metadata": {
      "needs_background": "light"
     },
     "output_type": "display_data"
    }
   ],
   "source": [
    "plt.plot(pca_model.explained_variance_ratio_)\n",
    "plt.xlabel('number of components')\n",
    "plt.ylabel('cumulative explained variance %')\n",
    "plt.show()"
   ]
  },
  {
   "cell_type": "code",
   "execution_count": 687,
   "metadata": {},
   "outputs": [
    {
     "data": {
      "application/vnd.plotly.v1+json": {
       "config": {
        "plotlyServerURL": "https://plot.ly"
       },
       "data": [
        {
         "hoverlabel": {
          "namelength": 0
         },
         "hovertemplate": "principal component 1=%{x}<br>principal component 2=%{y}<br>principal component 3=%{z}",
         "legendgroup": "",
         "marker": {
          "color": "#636efa",
          "opacity": 0.7,
          "symbol": "circle"
         },
         "mode": "markers",
         "name": "",
         "scene": "scene",
         "showlegend": false,
         "type": "scatter3d",
         "x": [
          -0.8747714051342896,
          -6.249591372704478,
          6.580210549540266,
          -0.13472280373578638,
          1.2986888105614598,
          -7.409789777846767,
          -2.113163896588812,
          -7.344335510896797,
          2.871043666953816,
          0.5354521062360137,
          13.74831695746311,
          -4.8944438650783875,
          -5.163568261181947,
          -0.22572180017038848,
          -6.644288294949756,
          6.842215666776062,
          -2.4920683804322463,
          5.086846871003037,
          2.1533191509095384,
          -6.570483582961537,
          1.4723619207103944,
          2.4291415832436756,
          6.929776830231895,
          -4.863749042953669,
          -0.6976514440382771,
          5.27244872342056,
          3.7643460900476087,
          -3.417547275402332,
          3.1825012347207298,
          11.524944545088529,
          -1.519053436048902,
          9.34151879187583,
          13.017017348131906,
          0.2142260162917749,
          6.278550436784744,
          4.435297063471449,
          -1.6861728780403846,
          4.844431446348659,
          13.505508989312938,
          0.25759558622112066,
          2.0411806144776645,
          9.108706908720123,
          2.3478193671246657,
          -1.4874161952089124,
          6.665351387752374,
          9.276073125448479,
          0.3017846388515393,
          2.7295112654977607,
          -2.404544179514913,
          -3.1960273028926682,
          -2.4765672584035654,
          -4.4864574917222955,
          -4.739567834004829,
          0.8612107234463329,
          0.6231165516970752,
          1.0584208620703845,
          -3.5367201513405555,
          -6.1920049760577935,
          -6.496944506138855,
          5.006943673654187,
          6.996652158348067,
          -1.7292164261342156,
          -3.8918328325038387,
          8.257695086270925,
          0.7505256648784903,
          1.9670540606000453,
          7.265614840190056,
          0.6220718677545096,
          8.326051586223153,
          -5.018089725108311,
          -3.7208885736405066,
          -5.729096984902795,
          -2.485815724639582,
          -4.074899052378097,
          -6.443688003815524,
          -0.5367816800118691,
          2.278387027872589,
          5.987909769440324,
          -7.138832258648228,
          -4.741601591136766,
          -5.220555680664314,
          -3.113997306495471,
          -4.177493393252009,
          3.9376686978826734,
          1.0861382796425751,
          3.7460312979987203,
          -6.900641525075271,
          2.7027764769482063,
          5.7568800270296325,
          -3.6687377200252262,
          8.069320320249238,
          1.030134400019851,
          -6.685371366208372,
          3.1492869859793067,
          6.066317765650584,
          -0.2696211208697405,
          -1.242383089296805,
          -5.136433724732233,
          0.3834932864479604,
          -2.404880646048174,
          2.1208073492062653,
          -4.772345435854598,
          4.525458593778826,
          7.608013759824201,
          3.5739164118041047,
          -5.253449626721234,
          4.648139430477772,
          -3.2966321878841964,
          -3.4958426244017056,
          15.844573835505425,
          5.397421196595325,
          -0.7634026972684093,
          -1.781062786660414,
          -1.2542189060021556,
          -4.90190118577628,
          2.9565985567907984,
          3.3238083279450157,
          1.3928123121255194,
          -5.925544741974175,
          -5.739925254007274,
          -3.1276306945295094,
          0.8755738110547486,
          -3.3702709942471456,
          -5.005862280606976,
          -4.765034693688422,
          -3.4955786671850517,
          6.376541873254709,
          -2.6843982797404458,
          -6.997314021551001,
          0.4962746775097708,
          2.8190647988513113,
          -3.5747238250741002,
          0.7588925146603545,
          1.3683381041330067,
          -7.271287478318224,
          -2.1378780764715115,
          4.180536364287169,
          -0.6878959644454001,
          1.713609181416405,
          -7.050564840914037,
          0.06418553803756101,
          -1.9871761641201187,
          -4.378965546116598,
          -3.340077932671562,
          -2.65141071569924,
          0.3438488241214369,
          2.2438400056961934,
          1.4255625898018034,
          1.1620963591522733,
          4.622591052044683,
          4.617190939261004,
          1.5932072440901115,
          -3.8886615399692745,
          -2.7845574308035403,
          0.49574504543910575,
          0.3077018176079437,
          6.4077006290246645,
          -1.0886696348519878,
          1.3924138449356953,
          -0.29128789890694107,
          -3.790549493214823,
          -1.189409909975722,
          -3.8081431841158313,
          -3.929503114428175,
          -3.373008008680959,
          -4.032129054501032,
          0.13799759591189392,
          -4.462539431273238,
          -1.207937969157069,
          4.359810349917117,
          6.6996368110950435,
          -3.0816919252455617,
          -5.318965514322783,
          -3.413083048509293,
          6.628292710039823,
          -4.237576764784835,
          -5.614314677558928,
          -4.349429448846422,
          1.5237131701508597,
          0.4346733148187422,
          -1.0436746680972384,
          -2.1776866962816332,
          -6.8880102397163165,
          4.942451409210788,
          3.709677738349076,
          -2.5170456528323264,
          -3.984128880284122,
          6.915741942341397,
          10.746232727484161,
          9.733716715706525,
          -3.568198425317265,
          0.5401765575718531,
          4.243439301646054,
          6.606833990441206,
          -6.337701606065825,
          2.3729417206103824,
          4.718088275448824,
          0.6650213645629974,
          1.9390320759497384,
          0.29453085790850286,
          -2.9480944848791015,
          5.304448909881999,
          -3.0475347514204456,
          -4.662921639560296,
          -1.5332288961968943,
          1.1219254889411387,
          -1.0544105572726348,
          2.521187483631486,
          -4.268033902925588,
          -1.6123936656893594,
          7.2583885996860875,
          3.236249843837757,
          4.612717055955593,
          2.2065272560966815,
          -1.742275872145,
          0.4644440389928064,
          5.0861500702453775,
          -5.026802984514697,
          -3.3374499215467774,
          -2.0725736925878664,
          -5.10819395268223,
          -2.8070836572417,
          -4.582499188084575,
          -1.8747243165426233,
          -2.125758657301813,
          -4.613909873017176,
          -4.379121651056554,
          7.015516782009583,
          4.164472653133337,
          4.95397419769647,
          0.54343302315438,
          -0.2643570987133881,
          -2.118435418199762,
          -6.9247349949237345,
          -5.2149390150624075,
          -5.923928740542455,
          -6.927809076236342,
          -6.885404400665793,
          -7.2172676696815605,
          -6.261695760829101,
          3.465553361732411,
          -6.634226285030407,
          -7.1807441983769476,
          8.767437797582431,
          0.17500636523318622,
          0.6517463385287545,
          -0.7599580902589295,
          6.475232332205421,
          2.9682692822378556
         ],
         "y": [
          -1.02078703996298,
          0.06134734363183295,
          -1.3549739956507294,
          2.2595658038728925,
          -1.3058061604850315,
          0.3808666473893837,
          -1.1886711077070549,
          0.3720444380180611,
          -0.8472749365295558,
          -2.2626271756864798,
          -3.105968371367365,
          -0.10789137221843698,
          -0.18762254516674898,
          1.27681750639712,
          -0.07362013304985744,
          -2.0718259128181913,
          1.1519575663937525,
          0.9985999077623333,
          -1.9013094500777887,
          0.10710210563675333,
          -1.8346712094149498,
          -1.7133207845759735,
          -0.31335431885810683,
          0.13101453141905667,
          -0.5269154246339365,
          -2.150851661658451,
          -1.6630604485561233,
          0.21216188820674492,
          -0.2230439767277575,
          -6.164952326524831,
          1.069163610898922,
          15.433327882002558,
          14.034083515048295,
          11.238234217951268,
          16.43437330756548,
          8.404007182885156,
          3.8438256049252235,
          7.462117031242203,
          8.66668272978311,
          6.480947826071151,
          3.5602207822778893,
          6.448003915783254,
          6.942070396942972,
          0.604027458097666,
          6.165001207971269,
          4.018727285357426,
          2.686306605870198,
          2.393161449649403,
          2.025441966761443,
          0.21249643639054472,
          0.721878525350039,
          1.4389142669123205,
          0.9830314811582603,
          1.366689075892851,
          1.7600979845784241,
          4.198834340722219,
          -0.004416890170791323,
          2.999169737353991,
          0.5434567847466366,
          0.11178661773225075,
          -3.2318077521212856,
          0.9062142859908268,
          1.4454641337884706,
          -1.3563641518428395,
          0.016637420553603868,
          -0.674817640710605,
          -0.5703886879984483,
          -0.9253799082821623,
          0.5314616054906636,
          0.033813784089984505,
          -0.7889728322356812,
          -0.3626112814225921,
          -1.1569569381330604,
          -1.063218894723188,
          0.06366962856965562,
          -2.3083249923690037,
          -2.30243919944383,
          -3.477898899821313,
          0.28935777160937776,
          0.09359260142592059,
          -0.6758360560115881,
          -0.145805751350088,
          -0.30411899939706527,
          0.1428721067741002,
          -1.98850303860178,
          -1.7824661749746917,
          0.21626379833639833,
          -2.3735123698951717,
          0.3090406806743403,
          -1.5213981746374392,
          -3.696854320616913,
          -1.2229643536125192,
          0.5136397430523866,
          -1.043140627924329,
          -2.070083178873213,
          -1.8428883913877223,
          -0.02343041208535701,
          0.014098994016588384,
          -1.6886451362271597,
          -1.274481011825903,
          -2.0239426218284184,
          -0.21051828747061385,
          -0.9363362157996625,
          -3.008483061781085,
          -2.6279352091794763,
          -0.4154390009964547,
          -2.023676899985475,
          -0.8849045146492417,
          -0.59780522247435,
          -7.779200360680512,
          -2.663921562919669,
          -1.8913096359869748,
          -1.5899118899207716,
          0.3927269950398063,
          -0.5211118891972516,
          -2.113888730310995,
          -2.555918275590279,
          -2.158588176755375,
          -0.050317695314970524,
          0.07210128005928655,
          -0.5082461806713315,
          -0.8965328900932867,
          -0.34896725479293284,
          -0.215370521281559,
          0.30552566078193377,
          0.014957078780789354,
          -2.201314132361886,
          -1.5581614964370152,
          0.3660041996471547,
          -0.47967066465295854,
          0.00091287698257473,
          0.26019013100946015,
          -1.6863459837386074,
          -3.075718699049676,
          0.46124562197668406,
          -1.432236114219797,
          -0.5492662773811182,
          0.5796494234525383,
          -1.8960481724858653,
          0.29721183871409684,
          3.441576287784094,
          -0.09860159930908328,
          -0.22506400302430088,
          0.9680178781048098,
          0.6371259235327204,
          6.084690772336171,
          0.8461132214736635,
          5.731263839835839,
          -0.45020463622861145,
          -1.2877410922868204,
          10.076149692973187,
          1.9114821661010106,
          -0.09077291879582562,
          1.6993558915404934,
          2.4910688444056714,
          1.6037111588159043,
          8.195806958587575,
          0.9154408047370844,
          0.6616148364013661,
          0.7558590181317266,
          -0.5960993178829029,
          1.1280198799268863,
          0.444702641963765,
          1.9710221559915768,
          0.7419617904013291,
          -0.8308274888955838,
          -1.6898190287777894,
          -0.5797818804005056,
          -0.16786420837947783,
          -1.015117042637297,
          -3.149849434231011,
          -0.8886353596509311,
          -0.2604747137730515,
          -0.4952905381456092,
          -3.741113180153221,
          0.13184540251059249,
          -0.21585349576772364,
          -0.31936126822908883,
          -2.2147207769731763,
          -1.1942208564455834,
          -1.2242872670382614,
          -0.817358323914724,
          -0.01993703788406677,
          -2.9512017183884325,
          -2.5857227229760364,
          -0.05431294211110633,
          -0.15760941671186884,
          -2.1721128899594553,
          -0.9896389200071674,
          -4.198454814405333,
          0.13131013237269532,
          -1.3768403881492013,
          -2.115148695604368,
          -2.9367039794190135,
          -0.15461837979653914,
          -1.483280048190408,
          -1.4403781163185396,
          1.709013272970142,
          -1.9808744473183995,
          1.5126895458138034,
          0.25129359401543044,
          1.444214575530327,
          2.383946157186213,
          0.30892117697193633,
          -1.2561768931883757,
          -2.3982932874550293,
          -0.6465343813968109,
          -3.0214574291837857,
          -0.1294607632612349,
          0.20513054142814083,
          -2.8065919922879274,
          -1.6891582091626205,
          -2.417540942890956,
          -1.297056987534454,
          -1.6096550304572215,
          -0.8290444195267413,
          -2.739638256590742,
          -0.3392033992197736,
          0.4725774517817971,
          -1.0061182417441168,
          -0.4481241974815295,
          1.0288052330841388,
          -0.18907918698434745,
          -0.15531719296609783,
          -1.6195073075653121,
          0.06485258171656395,
          -0.6183386439934512,
          -0.6726272889427928,
          -2.8120705002694693,
          -3.0120895554375093,
          -1.6988839609045316,
          -1.990677122780984,
          -1.3209262256478997,
          0.20297295753249323,
          0.23884845029492932,
          -7.209878738214721e-05,
          0.2540250709802108,
          0.20942148990911533,
          0.43017923882968034,
          0.005345694659115314,
          -0.5474218155613195,
          0.14850767165820938,
          0.3878239945343101,
          -3.7063844583585603,
          -1.4583665760244846,
          -1.1436611450731822,
          -1.280425296935317,
          -5.166966917178859,
          -3.356791894944679
         ],
         "z": [
          -0.6288187211845875,
          -0.34117612991686,
          -1.5025859471830452,
          0.4751185526878561,
          0.835734447352491,
          -0.3011925862479157,
          -1.1922894809096996,
          -0.27558434156149586,
          2.2709025508333673,
          0.06782538264909285,
          -1.6746705630910688,
          -0.587503075709054,
          -0.5965282682562378,
          0.4233310353093151,
          -0.12630794429762704,
          -0.7185209040310929,
          0.3805760741991926,
          0.10426124403513139,
          -0.37961419895414616,
          -0.45599549972198256,
          -0.9970550252706363,
          -1.4490612037623114,
          -2.8315732012183172,
          -1.1421139982100428,
          0.23339021068732482,
          -1.3799479194944744,
          1.4707974980366556,
          -1.3613770156338663,
          -0.4825728290712037,
          3.22313535559399,
          -0.5173794876299921,
          -1.3985729207641224,
          -0.2735191464775242,
          -2.992015837990305,
          -4.550197737538535,
          -0.9772487512046772,
          -1.2162592000764578,
          3.0498751517918308,
          6.257124135444485,
          -2.0868282065866537,
          2.3741675858476845,
          3.0939406602174118,
          1.8918022728623243,
          1.0199335958914395,
          1.2364148612026546,
          -1.290948346608781,
          3.7573901788859767,
          -0.9903462644206016,
          -0.9788256383936998,
          0.2970485721988654,
          -0.5166390620153472,
          -0.5926988907136856,
          -0.6733521967859637,
          0.6560201101983032,
          -2.2158425502390604,
          0.8943223358470868,
          1.330178392698448,
          -0.44160855936164123,
          -0.4498465396209263,
          -1.5138505744056017,
          -0.0793504898038483,
          -2.130358660299447,
          -1.221762082856842,
          -0.4641801283972591,
          2.6374554812120756,
          0.012370331050495403,
          -0.725585583009987,
          -1.7052516139897005,
          1.187448670942902,
          -0.4050995793010373,
          -0.6893263571594845,
          -0.2742895817566631,
          -0.8062112425043685,
          0.6645691157629925,
          -0.3870816440853389,
          -1.2900200778769673,
          0.1039686464335034,
          -1.069557067017952,
          -0.3549410665982524,
          -0.7502527213801389,
          0.5191986335909697,
          0.16461422024552735,
          0.7619827796625219,
          -1.6798465336109993,
          -0.4714674021757276,
          -1.1874680338951589,
          -0.2535709471150201,
          -1.4508463705405545,
          0.31714726883239963,
          -0.26498440649886285,
          -2.462744156738122,
          -1.8520587121133987,
          -0.5868120276404919,
          1.4287628904521068,
          -3.5397087975701025,
          -0.5989342110581899,
          -0.6056628243259707,
          0.10993699609871556,
          -0.3471883822300978,
          -0.25426466612622695,
          0.15688282189902644,
          -0.7045305366509944,
          -0.9282910392514785,
          -1.6512917297870855,
          -2.2379500580023572,
          0.4553272456467745,
          -0.7945255798141561,
          -0.10453797190630272,
          -0.8039968365357474,
          -1.5738580366773862,
          0.6238881759718647,
          1.6180865734543826,
          0.8499122685835311,
          -0.6065794384257851,
          0.18110656640795442,
          -0.36983108779321616,
          -0.7691442588906384,
          0.7829112794803726,
          -0.2268979274905225,
          -0.2899344612857018,
          -1.2042245906811566,
          -1.7639584077209842,
          -0.24807204251327375,
          0.34293166176192763,
          -0.6614314733754327,
          -0.6800287067178491,
          0.5220151157771931,
          -0.23953127196009089,
          -0.28744400947995136,
          2.22392091856225,
          -1.5929734608412378,
          1.3622847167871415,
          -1.0812187178694117,
          2.1738164991823106,
          -0.37256142598134007,
          -0.5003049388670154,
          -1.755404800568533,
          1.6514295729773376,
          -1.3475965368541285,
          -0.3084325741286723,
          2.5362502934049322,
          -0.23272204459273071,
          0.954397374372584,
          -1.3580479073320395,
          7.749262509549437,
          -1.5701035960268772,
          0.9039827671531804,
          -0.9968815240844437,
          -1.3052856656281098,
          -0.4044449215544275,
          3.5033966628139876,
          1.2642517999947573,
          -0.7129651326103578,
          0.18751523202700376,
          5.229067590798419,
          2.422459044105415,
          -1.016073188899341,
          0.5118388187780157,
          -0.6503413348159772,
          -0.6900215496943173,
          0.9157120239743897,
          -1.2995435443517718,
          -1.0755645642897982,
          -1.3658390404615797,
          -0.09632511490322149,
          -0.3699270144081763,
          -0.34316616174492925,
          1.6704535932806623,
          1.1116384998807958,
          -1.4000682996158313,
          -0.4332662155187211,
          -1.0419202354567634,
          -0.4948820334192144,
          -0.7816391165377644,
          3.5882201947025485,
          0.45122294387479794,
          -0.2789314148745447,
          -0.5854494443458163,
          5.098731182344659,
          1.5429381535813305,
          0.7689061054638354,
          -0.477028087237942,
          -0.1898340380927563,
          -0.932000239759946,
          3.0974605285877113,
          0.8104344445181698,
          -0.7771805531213919,
          -0.5766010039237147,
          -3.7660888413799336,
          -1.881917312092211,
          -0.9430594731714804,
          -0.09227143053816797,
          3.6339597213422676,
          -2.266500086608887,
          -0.2311579201831308,
          -0.5476224866941355,
          -0.666874410072466,
          -2.5185629258984674,
          -0.20819522018541795,
          -1.7942737797767072,
          -0.04926596795108023,
          2.2211337436504293,
          -0.9309300244334142,
          -0.3081493620915165,
          7.181495702824779,
          1.232270078556428,
          0.17636713406066173,
          0.8808361353370731,
          1.6055737157731524,
          3.4415024528755382,
          1.0706932523380177,
          -0.7287185818365698,
          0.6275998528962635,
          -0.8257898697454438,
          0.010667498530710685,
          3.900087080605611,
          0.2853146803971126,
          -0.4648384368276065,
          0.9753779879220816,
          0.10291606750990806,
          0.8892535220444548,
          -2.1571566305725147,
          0.4291718999364032,
          3.8387061720217943,
          0.1300750793392364,
          3.510297809168362,
          0.40808513572818766,
          0.8534728614813357,
          -0.5814272426646724,
          -0.9924103873555121,
          0.46445762708878763,
          -1.2728303242585086,
          -0.786766513902219,
          -0.35163982070291216,
          -0.46181155224098097,
          -0.2954849808388194,
          -0.4814103611905527,
          -0.41166238528434224,
          -0.3088372412976585,
          -0.5486831614529798,
          -1.2792153230401715,
          -0.3070756399560333,
          -0.35602349083283896,
          0.519372056823271,
          -1.041702404156083,
          1.6264424257524397,
          1.4351334660006192,
          1.6230870529885466,
          0.841503997394513
         ]
        }
       ],
       "layout": {
        "height": 600,
        "legend": {
         "tracegroupgap": 0
        },
        "margin": {
         "t": 60
        },
        "scene": {
         "domain": {
          "x": [
           0,
           1
          ],
          "y": [
           0,
           1
          ]
         },
         "xaxis": {
          "title": {
           "text": "principal component 1"
          }
         },
         "yaxis": {
          "title": {
           "text": "principal component 2"
          }
         },
         "zaxis": {
          "title": {
           "text": "principal component 3"
          }
         }
        },
        "template": {
         "data": {
          "bar": [
           {
            "error_x": {
             "color": "#2a3f5f"
            },
            "error_y": {
             "color": "#2a3f5f"
            },
            "marker": {
             "line": {
              "color": "#E5ECF6",
              "width": 0.5
             }
            },
            "type": "bar"
           }
          ],
          "barpolar": [
           {
            "marker": {
             "line": {
              "color": "#E5ECF6",
              "width": 0.5
             }
            },
            "type": "barpolar"
           }
          ],
          "carpet": [
           {
            "aaxis": {
             "endlinecolor": "#2a3f5f",
             "gridcolor": "white",
             "linecolor": "white",
             "minorgridcolor": "white",
             "startlinecolor": "#2a3f5f"
            },
            "baxis": {
             "endlinecolor": "#2a3f5f",
             "gridcolor": "white",
             "linecolor": "white",
             "minorgridcolor": "white",
             "startlinecolor": "#2a3f5f"
            },
            "type": "carpet"
           }
          ],
          "choropleth": [
           {
            "colorbar": {
             "outlinewidth": 0,
             "ticks": ""
            },
            "type": "choropleth"
           }
          ],
          "contour": [
           {
            "colorbar": {
             "outlinewidth": 0,
             "ticks": ""
            },
            "colorscale": [
             [
              0,
              "#0d0887"
             ],
             [
              0.1111111111111111,
              "#46039f"
             ],
             [
              0.2222222222222222,
              "#7201a8"
             ],
             [
              0.3333333333333333,
              "#9c179e"
             ],
             [
              0.4444444444444444,
              "#bd3786"
             ],
             [
              0.5555555555555556,
              "#d8576b"
             ],
             [
              0.6666666666666666,
              "#ed7953"
             ],
             [
              0.7777777777777778,
              "#fb9f3a"
             ],
             [
              0.8888888888888888,
              "#fdca26"
             ],
             [
              1,
              "#f0f921"
             ]
            ],
            "type": "contour"
           }
          ],
          "contourcarpet": [
           {
            "colorbar": {
             "outlinewidth": 0,
             "ticks": ""
            },
            "type": "contourcarpet"
           }
          ],
          "heatmap": [
           {
            "colorbar": {
             "outlinewidth": 0,
             "ticks": ""
            },
            "colorscale": [
             [
              0,
              "#0d0887"
             ],
             [
              0.1111111111111111,
              "#46039f"
             ],
             [
              0.2222222222222222,
              "#7201a8"
             ],
             [
              0.3333333333333333,
              "#9c179e"
             ],
             [
              0.4444444444444444,
              "#bd3786"
             ],
             [
              0.5555555555555556,
              "#d8576b"
             ],
             [
              0.6666666666666666,
              "#ed7953"
             ],
             [
              0.7777777777777778,
              "#fb9f3a"
             ],
             [
              0.8888888888888888,
              "#fdca26"
             ],
             [
              1,
              "#f0f921"
             ]
            ],
            "type": "heatmap"
           }
          ],
          "heatmapgl": [
           {
            "colorbar": {
             "outlinewidth": 0,
             "ticks": ""
            },
            "colorscale": [
             [
              0,
              "#0d0887"
             ],
             [
              0.1111111111111111,
              "#46039f"
             ],
             [
              0.2222222222222222,
              "#7201a8"
             ],
             [
              0.3333333333333333,
              "#9c179e"
             ],
             [
              0.4444444444444444,
              "#bd3786"
             ],
             [
              0.5555555555555556,
              "#d8576b"
             ],
             [
              0.6666666666666666,
              "#ed7953"
             ],
             [
              0.7777777777777778,
              "#fb9f3a"
             ],
             [
              0.8888888888888888,
              "#fdca26"
             ],
             [
              1,
              "#f0f921"
             ]
            ],
            "type": "heatmapgl"
           }
          ],
          "histogram": [
           {
            "marker": {
             "colorbar": {
              "outlinewidth": 0,
              "ticks": ""
             }
            },
            "type": "histogram"
           }
          ],
          "histogram2d": [
           {
            "colorbar": {
             "outlinewidth": 0,
             "ticks": ""
            },
            "colorscale": [
             [
              0,
              "#0d0887"
             ],
             [
              0.1111111111111111,
              "#46039f"
             ],
             [
              0.2222222222222222,
              "#7201a8"
             ],
             [
              0.3333333333333333,
              "#9c179e"
             ],
             [
              0.4444444444444444,
              "#bd3786"
             ],
             [
              0.5555555555555556,
              "#d8576b"
             ],
             [
              0.6666666666666666,
              "#ed7953"
             ],
             [
              0.7777777777777778,
              "#fb9f3a"
             ],
             [
              0.8888888888888888,
              "#fdca26"
             ],
             [
              1,
              "#f0f921"
             ]
            ],
            "type": "histogram2d"
           }
          ],
          "histogram2dcontour": [
           {
            "colorbar": {
             "outlinewidth": 0,
             "ticks": ""
            },
            "colorscale": [
             [
              0,
              "#0d0887"
             ],
             [
              0.1111111111111111,
              "#46039f"
             ],
             [
              0.2222222222222222,
              "#7201a8"
             ],
             [
              0.3333333333333333,
              "#9c179e"
             ],
             [
              0.4444444444444444,
              "#bd3786"
             ],
             [
              0.5555555555555556,
              "#d8576b"
             ],
             [
              0.6666666666666666,
              "#ed7953"
             ],
             [
              0.7777777777777778,
              "#fb9f3a"
             ],
             [
              0.8888888888888888,
              "#fdca26"
             ],
             [
              1,
              "#f0f921"
             ]
            ],
            "type": "histogram2dcontour"
           }
          ],
          "mesh3d": [
           {
            "colorbar": {
             "outlinewidth": 0,
             "ticks": ""
            },
            "type": "mesh3d"
           }
          ],
          "parcoords": [
           {
            "line": {
             "colorbar": {
              "outlinewidth": 0,
              "ticks": ""
             }
            },
            "type": "parcoords"
           }
          ],
          "pie": [
           {
            "automargin": true,
            "type": "pie"
           }
          ],
          "scatter": [
           {
            "marker": {
             "colorbar": {
              "outlinewidth": 0,
              "ticks": ""
             }
            },
            "type": "scatter"
           }
          ],
          "scatter3d": [
           {
            "line": {
             "colorbar": {
              "outlinewidth": 0,
              "ticks": ""
             }
            },
            "marker": {
             "colorbar": {
              "outlinewidth": 0,
              "ticks": ""
             }
            },
            "type": "scatter3d"
           }
          ],
          "scattercarpet": [
           {
            "marker": {
             "colorbar": {
              "outlinewidth": 0,
              "ticks": ""
             }
            },
            "type": "scattercarpet"
           }
          ],
          "scattergeo": [
           {
            "marker": {
             "colorbar": {
              "outlinewidth": 0,
              "ticks": ""
             }
            },
            "type": "scattergeo"
           }
          ],
          "scattergl": [
           {
            "marker": {
             "colorbar": {
              "outlinewidth": 0,
              "ticks": ""
             }
            },
            "type": "scattergl"
           }
          ],
          "scattermapbox": [
           {
            "marker": {
             "colorbar": {
              "outlinewidth": 0,
              "ticks": ""
             }
            },
            "type": "scattermapbox"
           }
          ],
          "scatterpolar": [
           {
            "marker": {
             "colorbar": {
              "outlinewidth": 0,
              "ticks": ""
             }
            },
            "type": "scatterpolar"
           }
          ],
          "scatterpolargl": [
           {
            "marker": {
             "colorbar": {
              "outlinewidth": 0,
              "ticks": ""
             }
            },
            "type": "scatterpolargl"
           }
          ],
          "scatterternary": [
           {
            "marker": {
             "colorbar": {
              "outlinewidth": 0,
              "ticks": ""
             }
            },
            "type": "scatterternary"
           }
          ],
          "surface": [
           {
            "colorbar": {
             "outlinewidth": 0,
             "ticks": ""
            },
            "colorscale": [
             [
              0,
              "#0d0887"
             ],
             [
              0.1111111111111111,
              "#46039f"
             ],
             [
              0.2222222222222222,
              "#7201a8"
             ],
             [
              0.3333333333333333,
              "#9c179e"
             ],
             [
              0.4444444444444444,
              "#bd3786"
             ],
             [
              0.5555555555555556,
              "#d8576b"
             ],
             [
              0.6666666666666666,
              "#ed7953"
             ],
             [
              0.7777777777777778,
              "#fb9f3a"
             ],
             [
              0.8888888888888888,
              "#fdca26"
             ],
             [
              1,
              "#f0f921"
             ]
            ],
            "type": "surface"
           }
          ],
          "table": [
           {
            "cells": {
             "fill": {
              "color": "#EBF0F8"
             },
             "line": {
              "color": "white"
             }
            },
            "header": {
             "fill": {
              "color": "#C8D4E3"
             },
             "line": {
              "color": "white"
             }
            },
            "type": "table"
           }
          ]
         },
         "layout": {
          "annotationdefaults": {
           "arrowcolor": "#2a3f5f",
           "arrowhead": 0,
           "arrowwidth": 1
          },
          "coloraxis": {
           "colorbar": {
            "outlinewidth": 0,
            "ticks": ""
           }
          },
          "colorscale": {
           "diverging": [
            [
             0,
             "#8e0152"
            ],
            [
             0.1,
             "#c51b7d"
            ],
            [
             0.2,
             "#de77ae"
            ],
            [
             0.3,
             "#f1b6da"
            ],
            [
             0.4,
             "#fde0ef"
            ],
            [
             0.5,
             "#f7f7f7"
            ],
            [
             0.6,
             "#e6f5d0"
            ],
            [
             0.7,
             "#b8e186"
            ],
            [
             0.8,
             "#7fbc41"
            ],
            [
             0.9,
             "#4d9221"
            ],
            [
             1,
             "#276419"
            ]
           ],
           "sequential": [
            [
             0,
             "#0d0887"
            ],
            [
             0.1111111111111111,
             "#46039f"
            ],
            [
             0.2222222222222222,
             "#7201a8"
            ],
            [
             0.3333333333333333,
             "#9c179e"
            ],
            [
             0.4444444444444444,
             "#bd3786"
            ],
            [
             0.5555555555555556,
             "#d8576b"
            ],
            [
             0.6666666666666666,
             "#ed7953"
            ],
            [
             0.7777777777777778,
             "#fb9f3a"
            ],
            [
             0.8888888888888888,
             "#fdca26"
            ],
            [
             1,
             "#f0f921"
            ]
           ],
           "sequentialminus": [
            [
             0,
             "#0d0887"
            ],
            [
             0.1111111111111111,
             "#46039f"
            ],
            [
             0.2222222222222222,
             "#7201a8"
            ],
            [
             0.3333333333333333,
             "#9c179e"
            ],
            [
             0.4444444444444444,
             "#bd3786"
            ],
            [
             0.5555555555555556,
             "#d8576b"
            ],
            [
             0.6666666666666666,
             "#ed7953"
            ],
            [
             0.7777777777777778,
             "#fb9f3a"
            ],
            [
             0.8888888888888888,
             "#fdca26"
            ],
            [
             1,
             "#f0f921"
            ]
           ]
          },
          "colorway": [
           "#636efa",
           "#EF553B",
           "#00cc96",
           "#ab63fa",
           "#FFA15A",
           "#19d3f3",
           "#FF6692",
           "#B6E880",
           "#FF97FF",
           "#FECB52"
          ],
          "font": {
           "color": "#2a3f5f"
          },
          "geo": {
           "bgcolor": "white",
           "lakecolor": "white",
           "landcolor": "#E5ECF6",
           "showlakes": true,
           "showland": true,
           "subunitcolor": "white"
          },
          "hoverlabel": {
           "align": "left"
          },
          "hovermode": "closest",
          "mapbox": {
           "style": "light"
          },
          "paper_bgcolor": "white",
          "plot_bgcolor": "#E5ECF6",
          "polar": {
           "angularaxis": {
            "gridcolor": "white",
            "linecolor": "white",
            "ticks": ""
           },
           "bgcolor": "#E5ECF6",
           "radialaxis": {
            "gridcolor": "white",
            "linecolor": "white",
            "ticks": ""
           }
          },
          "scene": {
           "xaxis": {
            "backgroundcolor": "#E5ECF6",
            "gridcolor": "white",
            "gridwidth": 2,
            "linecolor": "white",
            "showbackground": true,
            "ticks": "",
            "zerolinecolor": "white"
           },
           "yaxis": {
            "backgroundcolor": "#E5ECF6",
            "gridcolor": "white",
            "gridwidth": 2,
            "linecolor": "white",
            "showbackground": true,
            "ticks": "",
            "zerolinecolor": "white"
           },
           "zaxis": {
            "backgroundcolor": "#E5ECF6",
            "gridcolor": "white",
            "gridwidth": 2,
            "linecolor": "white",
            "showbackground": true,
            "ticks": "",
            "zerolinecolor": "white"
           }
          },
          "shapedefaults": {
           "line": {
            "color": "#2a3f5f"
           }
          },
          "ternary": {
           "aaxis": {
            "gridcolor": "white",
            "linecolor": "white",
            "ticks": ""
           },
           "baxis": {
            "gridcolor": "white",
            "linecolor": "white",
            "ticks": ""
           },
           "bgcolor": "#E5ECF6",
           "caxis": {
            "gridcolor": "white",
            "linecolor": "white",
            "ticks": ""
           }
          },
          "title": {
           "x": 0.05
          },
          "xaxis": {
           "automargin": true,
           "gridcolor": "white",
           "linecolor": "white",
           "ticks": "",
           "title": {
            "standoff": 15
           },
           "zerolinecolor": "white",
           "zerolinewidth": 2
          },
          "yaxis": {
           "automargin": true,
           "gridcolor": "white",
           "linecolor": "white",
           "ticks": "",
           "title": {
            "standoff": 15
           },
           "zerolinecolor": "white",
           "zerolinewidth": 2
          }
         }
        }
       }
      },
      "text/html": [
       "<div>\n",
       "        \n",
       "        \n",
       "            <div id=\"abbc1065-2c2a-4679-bb40-21fb05d1cc97\" class=\"plotly-graph-div\" style=\"height:600px; width:100%;\"></div>\n",
       "            <script type=\"text/javascript\">\n",
       "                require([\"plotly\"], function(Plotly) {\n",
       "                    window.PLOTLYENV=window.PLOTLYENV || {};\n",
       "                    \n",
       "                if (document.getElementById(\"abbc1065-2c2a-4679-bb40-21fb05d1cc97\")) {\n",
       "                    Plotly.newPlot(\n",
       "                        'abbc1065-2c2a-4679-bb40-21fb05d1cc97',\n",
       "                        [{\"hoverlabel\": {\"namelength\": 0}, \"hovertemplate\": \"principal component 1=%{x}<br>principal component 2=%{y}<br>principal component 3=%{z}\", \"legendgroup\": \"\", \"marker\": {\"color\": \"#636efa\", \"opacity\": 0.7, \"symbol\": \"circle\"}, \"mode\": \"markers\", \"name\": \"\", \"scene\": \"scene\", \"showlegend\": false, \"type\": \"scatter3d\", \"x\": [-0.8747714051342896, -6.249591372704478, 6.580210549540266, -0.13472280373578638, 1.2986888105614598, -7.409789777846767, -2.113163896588812, -7.344335510896797, 2.871043666953816, 0.5354521062360137, 13.74831695746311, -4.8944438650783875, -5.163568261181947, -0.22572180017038848, -6.644288294949756, 6.842215666776062, -2.4920683804322463, 5.086846871003037, 2.1533191509095384, -6.570483582961537, 1.4723619207103944, 2.4291415832436756, 6.929776830231895, -4.863749042953669, -0.6976514440382771, 5.27244872342056, 3.7643460900476087, -3.417547275402332, 3.1825012347207298, 11.524944545088529, -1.519053436048902, 9.34151879187583, 13.017017348131906, 0.2142260162917749, 6.278550436784744, 4.435297063471449, -1.6861728780403846, 4.844431446348659, 13.505508989312938, 0.25759558622112066, 2.0411806144776645, 9.108706908720123, 2.3478193671246657, -1.4874161952089124, 6.665351387752374, 9.276073125448479, 0.3017846388515393, 2.7295112654977607, -2.404544179514913, -3.1960273028926682, -2.4765672584035654, -4.4864574917222955, -4.739567834004829, 0.8612107234463329, 0.6231165516970752, 1.0584208620703845, -3.5367201513405555, -6.1920049760577935, -6.496944506138855, 5.006943673654187, 6.996652158348067, -1.7292164261342156, -3.8918328325038387, 8.257695086270925, 0.7505256648784903, 1.9670540606000453, 7.265614840190056, 0.6220718677545096, 8.326051586223153, -5.018089725108311, -3.7208885736405066, -5.729096984902795, -2.485815724639582, -4.074899052378097, -6.443688003815524, -0.5367816800118691, 2.278387027872589, 5.987909769440324, -7.138832258648228, -4.741601591136766, -5.220555680664314, -3.113997306495471, -4.177493393252009, 3.9376686978826734, 1.0861382796425751, 3.7460312979987203, -6.900641525075271, 2.7027764769482063, 5.7568800270296325, -3.6687377200252262, 8.069320320249238, 1.030134400019851, -6.685371366208372, 3.1492869859793067, 6.066317765650584, -0.2696211208697405, -1.242383089296805, -5.136433724732233, 0.3834932864479604, -2.404880646048174, 2.1208073492062653, -4.772345435854598, 4.525458593778826, 7.608013759824201, 3.5739164118041047, -5.253449626721234, 4.648139430477772, -3.2966321878841964, -3.4958426244017056, 15.844573835505425, 5.397421196595325, -0.7634026972684093, -1.781062786660414, -1.2542189060021556, -4.90190118577628, 2.9565985567907984, 3.3238083279450157, 1.3928123121255194, -5.925544741974175, -5.739925254007274, -3.1276306945295094, 0.8755738110547486, -3.3702709942471456, -5.005862280606976, -4.765034693688422, -3.4955786671850517, 6.376541873254709, -2.6843982797404458, -6.997314021551001, 0.4962746775097708, 2.8190647988513113, -3.5747238250741002, 0.7588925146603545, 1.3683381041330067, -7.271287478318224, -2.1378780764715115, 4.180536364287169, -0.6878959644454001, 1.713609181416405, -7.050564840914037, 0.06418553803756101, -1.9871761641201187, -4.378965546116598, -3.340077932671562, -2.65141071569924, 0.3438488241214369, 2.2438400056961934, 1.4255625898018034, 1.1620963591522733, 4.622591052044683, 4.617190939261004, 1.5932072440901115, -3.8886615399692745, -2.7845574308035403, 0.49574504543910575, 0.3077018176079437, 6.4077006290246645, -1.0886696348519878, 1.3924138449356953, -0.29128789890694107, -3.790549493214823, -1.189409909975722, -3.8081431841158313, -3.929503114428175, -3.373008008680959, -4.032129054501032, 0.13799759591189392, -4.462539431273238, -1.207937969157069, 4.359810349917117, 6.6996368110950435, -3.0816919252455617, -5.318965514322783, -3.413083048509293, 6.628292710039823, -4.237576764784835, -5.614314677558928, -4.349429448846422, 1.5237131701508597, 0.4346733148187422, -1.0436746680972384, -2.1776866962816332, -6.8880102397163165, 4.942451409210788, 3.709677738349076, -2.5170456528323264, -3.984128880284122, 6.915741942341397, 10.746232727484161, 9.733716715706525, -3.568198425317265, 0.5401765575718531, 4.243439301646054, 6.606833990441206, -6.337701606065825, 2.3729417206103824, 4.718088275448824, 0.6650213645629974, 1.9390320759497384, 0.29453085790850286, -2.9480944848791015, 5.304448909881999, -3.0475347514204456, -4.662921639560296, -1.5332288961968943, 1.1219254889411387, -1.0544105572726348, 2.521187483631486, -4.268033902925588, -1.6123936656893594, 7.2583885996860875, 3.236249843837757, 4.612717055955593, 2.2065272560966815, -1.742275872145, 0.4644440389928064, 5.0861500702453775, -5.026802984514697, -3.3374499215467774, -2.0725736925878664, -5.10819395268223, -2.8070836572417, -4.582499188084575, -1.8747243165426233, -2.125758657301813, -4.613909873017176, -4.379121651056554, 7.015516782009583, 4.164472653133337, 4.95397419769647, 0.54343302315438, -0.2643570987133881, -2.118435418199762, -6.9247349949237345, -5.2149390150624075, -5.923928740542455, -6.927809076236342, -6.885404400665793, -7.2172676696815605, -6.261695760829101, 3.465553361732411, -6.634226285030407, -7.1807441983769476, 8.767437797582431, 0.17500636523318622, 0.6517463385287545, -0.7599580902589295, 6.475232332205421, 2.9682692822378556], \"y\": [-1.02078703996298, 0.06134734363183295, -1.3549739956507294, 2.2595658038728925, -1.3058061604850315, 0.3808666473893837, -1.1886711077070549, 0.3720444380180611, -0.8472749365295558, -2.2626271756864798, -3.105968371367365, -0.10789137221843698, -0.18762254516674898, 1.27681750639712, -0.07362013304985744, -2.0718259128181913, 1.1519575663937525, 0.9985999077623333, -1.9013094500777887, 0.10710210563675333, -1.8346712094149498, -1.7133207845759735, -0.31335431885810683, 0.13101453141905667, -0.5269154246339365, -2.150851661658451, -1.6630604485561233, 0.21216188820674492, -0.2230439767277575, -6.164952326524831, 1.069163610898922, 15.433327882002558, 14.034083515048295, 11.238234217951268, 16.43437330756548, 8.404007182885156, 3.8438256049252235, 7.462117031242203, 8.66668272978311, 6.480947826071151, 3.5602207822778893, 6.448003915783254, 6.942070396942972, 0.604027458097666, 6.165001207971269, 4.018727285357426, 2.686306605870198, 2.393161449649403, 2.025441966761443, 0.21249643639054472, 0.721878525350039, 1.4389142669123205, 0.9830314811582603, 1.366689075892851, 1.7600979845784241, 4.198834340722219, -0.004416890170791323, 2.999169737353991, 0.5434567847466366, 0.11178661773225075, -3.2318077521212856, 0.9062142859908268, 1.4454641337884706, -1.3563641518428395, 0.016637420553603868, -0.674817640710605, -0.5703886879984483, -0.9253799082821623, 0.5314616054906636, 0.033813784089984505, -0.7889728322356812, -0.3626112814225921, -1.1569569381330604, -1.063218894723188, 0.06366962856965562, -2.3083249923690037, -2.30243919944383, -3.477898899821313, 0.28935777160937776, 0.09359260142592059, -0.6758360560115881, -0.145805751350088, -0.30411899939706527, 0.1428721067741002, -1.98850303860178, -1.7824661749746917, 0.21626379833639833, -2.3735123698951717, 0.3090406806743403, -1.5213981746374392, -3.696854320616913, -1.2229643536125192, 0.5136397430523866, -1.043140627924329, -2.070083178873213, -1.8428883913877223, -0.02343041208535701, 0.014098994016588384, -1.6886451362271597, -1.274481011825903, -2.0239426218284184, -0.21051828747061385, -0.9363362157996625, -3.008483061781085, -2.6279352091794763, -0.4154390009964547, -2.023676899985475, -0.8849045146492417, -0.59780522247435, -7.779200360680512, -2.663921562919669, -1.8913096359869748, -1.5899118899207716, 0.3927269950398063, -0.5211118891972516, -2.113888730310995, -2.555918275590279, -2.158588176755375, -0.050317695314970524, 0.07210128005928655, -0.5082461806713315, -0.8965328900932867, -0.34896725479293284, -0.215370521281559, 0.30552566078193377, 0.014957078780789354, -2.201314132361886, -1.5581614964370152, 0.3660041996471547, -0.47967066465295854, 0.00091287698257473, 0.26019013100946015, -1.6863459837386074, -3.075718699049676, 0.46124562197668406, -1.432236114219797, -0.5492662773811182, 0.5796494234525383, -1.8960481724858653, 0.29721183871409684, 3.441576287784094, -0.09860159930908328, -0.22506400302430088, 0.9680178781048098, 0.6371259235327204, 6.084690772336171, 0.8461132214736635, 5.731263839835839, -0.45020463622861145, -1.2877410922868204, 10.076149692973187, 1.9114821661010106, -0.09077291879582562, 1.6993558915404934, 2.4910688444056714, 1.6037111588159043, 8.195806958587575, 0.9154408047370844, 0.6616148364013661, 0.7558590181317266, -0.5960993178829029, 1.1280198799268863, 0.444702641963765, 1.9710221559915768, 0.7419617904013291, -0.8308274888955838, -1.6898190287777894, -0.5797818804005056, -0.16786420837947783, -1.015117042637297, -3.149849434231011, -0.8886353596509311, -0.2604747137730515, -0.4952905381456092, -3.741113180153221, 0.13184540251059249, -0.21585349576772364, -0.31936126822908883, -2.2147207769731763, -1.1942208564455834, -1.2242872670382614, -0.817358323914724, -0.01993703788406677, -2.9512017183884325, -2.5857227229760364, -0.05431294211110633, -0.15760941671186884, -2.1721128899594553, -0.9896389200071674, -4.198454814405333, 0.13131013237269532, -1.3768403881492013, -2.115148695604368, -2.9367039794190135, -0.15461837979653914, -1.483280048190408, -1.4403781163185396, 1.709013272970142, -1.9808744473183995, 1.5126895458138034, 0.25129359401543044, 1.444214575530327, 2.383946157186213, 0.30892117697193633, -1.2561768931883757, -2.3982932874550293, -0.6465343813968109, -3.0214574291837857, -0.1294607632612349, 0.20513054142814083, -2.8065919922879274, -1.6891582091626205, -2.417540942890956, -1.297056987534454, -1.6096550304572215, -0.8290444195267413, -2.739638256590742, -0.3392033992197736, 0.4725774517817971, -1.0061182417441168, -0.4481241974815295, 1.0288052330841388, -0.18907918698434745, -0.15531719296609783, -1.6195073075653121, 0.06485258171656395, -0.6183386439934512, -0.6726272889427928, -2.8120705002694693, -3.0120895554375093, -1.6988839609045316, -1.990677122780984, -1.3209262256478997, 0.20297295753249323, 0.23884845029492932, -7.209878738214721e-05, 0.2540250709802108, 0.20942148990911533, 0.43017923882968034, 0.005345694659115314, -0.5474218155613195, 0.14850767165820938, 0.3878239945343101, -3.7063844583585603, -1.4583665760244846, -1.1436611450731822, -1.280425296935317, -5.166966917178859, -3.356791894944679], \"z\": [-0.6288187211845875, -0.34117612991686, -1.5025859471830452, 0.4751185526878561, 0.835734447352491, -0.3011925862479157, -1.1922894809096996, -0.27558434156149586, 2.2709025508333673, 0.06782538264909285, -1.6746705630910688, -0.587503075709054, -0.5965282682562378, 0.4233310353093151, -0.12630794429762704, -0.7185209040310929, 0.3805760741991926, 0.10426124403513139, -0.37961419895414616, -0.45599549972198256, -0.9970550252706363, -1.4490612037623114, -2.8315732012183172, -1.1421139982100428, 0.23339021068732482, -1.3799479194944744, 1.4707974980366556, -1.3613770156338663, -0.4825728290712037, 3.22313535559399, -0.5173794876299921, -1.3985729207641224, -0.2735191464775242, -2.992015837990305, -4.550197737538535, -0.9772487512046772, -1.2162592000764578, 3.0498751517918308, 6.257124135444485, -2.0868282065866537, 2.3741675858476845, 3.0939406602174118, 1.8918022728623243, 1.0199335958914395, 1.2364148612026546, -1.290948346608781, 3.7573901788859767, -0.9903462644206016, -0.9788256383936998, 0.2970485721988654, -0.5166390620153472, -0.5926988907136856, -0.6733521967859637, 0.6560201101983032, -2.2158425502390604, 0.8943223358470868, 1.330178392698448, -0.44160855936164123, -0.4498465396209263, -1.5138505744056017, -0.0793504898038483, -2.130358660299447, -1.221762082856842, -0.4641801283972591, 2.6374554812120756, 0.012370331050495403, -0.725585583009987, -1.7052516139897005, 1.187448670942902, -0.4050995793010373, -0.6893263571594845, -0.2742895817566631, -0.8062112425043685, 0.6645691157629925, -0.3870816440853389, -1.2900200778769673, 0.1039686464335034, -1.069557067017952, -0.3549410665982524, -0.7502527213801389, 0.5191986335909697, 0.16461422024552735, 0.7619827796625219, -1.6798465336109993, -0.4714674021757276, -1.1874680338951589, -0.2535709471150201, -1.4508463705405545, 0.31714726883239963, -0.26498440649886285, -2.462744156738122, -1.8520587121133987, -0.5868120276404919, 1.4287628904521068, -3.5397087975701025, -0.5989342110581899, -0.6056628243259707, 0.10993699609871556, -0.3471883822300978, -0.25426466612622695, 0.15688282189902644, -0.7045305366509944, -0.9282910392514785, -1.6512917297870855, -2.2379500580023572, 0.4553272456467745, -0.7945255798141561, -0.10453797190630272, -0.8039968365357474, -1.5738580366773862, 0.6238881759718647, 1.6180865734543826, 0.8499122685835311, -0.6065794384257851, 0.18110656640795442, -0.36983108779321616, -0.7691442588906384, 0.7829112794803726, -0.2268979274905225, -0.2899344612857018, -1.2042245906811566, -1.7639584077209842, -0.24807204251327375, 0.34293166176192763, -0.6614314733754327, -0.6800287067178491, 0.5220151157771931, -0.23953127196009089, -0.28744400947995136, 2.22392091856225, -1.5929734608412378, 1.3622847167871415, -1.0812187178694117, 2.1738164991823106, -0.37256142598134007, -0.5003049388670154, -1.755404800568533, 1.6514295729773376, -1.3475965368541285, -0.3084325741286723, 2.5362502934049322, -0.23272204459273071, 0.954397374372584, -1.3580479073320395, 7.749262509549437, -1.5701035960268772, 0.9039827671531804, -0.9968815240844437, -1.3052856656281098, -0.4044449215544275, 3.5033966628139876, 1.2642517999947573, -0.7129651326103578, 0.18751523202700376, 5.229067590798419, 2.422459044105415, -1.016073188899341, 0.5118388187780157, -0.6503413348159772, -0.6900215496943173, 0.9157120239743897, -1.2995435443517718, -1.0755645642897982, -1.3658390404615797, -0.09632511490322149, -0.3699270144081763, -0.34316616174492925, 1.6704535932806623, 1.1116384998807958, -1.4000682996158313, -0.4332662155187211, -1.0419202354567634, -0.4948820334192144, -0.7816391165377644, 3.5882201947025485, 0.45122294387479794, -0.2789314148745447, -0.5854494443458163, 5.098731182344659, 1.5429381535813305, 0.7689061054638354, -0.477028087237942, -0.1898340380927563, -0.932000239759946, 3.0974605285877113, 0.8104344445181698, -0.7771805531213919, -0.5766010039237147, -3.7660888413799336, -1.881917312092211, -0.9430594731714804, -0.09227143053816797, 3.6339597213422676, -2.266500086608887, -0.2311579201831308, -0.5476224866941355, -0.666874410072466, -2.5185629258984674, -0.20819522018541795, -1.7942737797767072, -0.04926596795108023, 2.2211337436504293, -0.9309300244334142, -0.3081493620915165, 7.181495702824779, 1.232270078556428, 0.17636713406066173, 0.8808361353370731, 1.6055737157731524, 3.4415024528755382, 1.0706932523380177, -0.7287185818365698, 0.6275998528962635, -0.8257898697454438, 0.010667498530710685, 3.900087080605611, 0.2853146803971126, -0.4648384368276065, 0.9753779879220816, 0.10291606750990806, 0.8892535220444548, -2.1571566305725147, 0.4291718999364032, 3.8387061720217943, 0.1300750793392364, 3.510297809168362, 0.40808513572818766, 0.8534728614813357, -0.5814272426646724, -0.9924103873555121, 0.46445762708878763, -1.2728303242585086, -0.786766513902219, -0.35163982070291216, -0.46181155224098097, -0.2954849808388194, -0.4814103611905527, -0.41166238528434224, -0.3088372412976585, -0.5486831614529798, -1.2792153230401715, -0.3070756399560333, -0.35602349083283896, 0.519372056823271, -1.041702404156083, 1.6264424257524397, 1.4351334660006192, 1.6230870529885466, 0.841503997394513]}],\n",
       "                        {\"height\": 600, \"legend\": {\"tracegroupgap\": 0}, \"margin\": {\"t\": 60}, \"scene\": {\"domain\": {\"x\": [0.0, 1.0], \"y\": [0.0, 1.0]}, \"xaxis\": {\"title\": {\"text\": \"principal component 1\"}}, \"yaxis\": {\"title\": {\"text\": \"principal component 2\"}}, \"zaxis\": {\"title\": {\"text\": \"principal component 3\"}}}, \"template\": {\"data\": {\"bar\": [{\"error_x\": {\"color\": \"#2a3f5f\"}, \"error_y\": {\"color\": \"#2a3f5f\"}, \"marker\": {\"line\": {\"color\": \"#E5ECF6\", \"width\": 0.5}}, \"type\": \"bar\"}], \"barpolar\": [{\"marker\": {\"line\": {\"color\": \"#E5ECF6\", \"width\": 0.5}}, \"type\": \"barpolar\"}], \"carpet\": [{\"aaxis\": {\"endlinecolor\": \"#2a3f5f\", \"gridcolor\": \"white\", \"linecolor\": \"white\", \"minorgridcolor\": \"white\", \"startlinecolor\": \"#2a3f5f\"}, \"baxis\": {\"endlinecolor\": \"#2a3f5f\", \"gridcolor\": \"white\", \"linecolor\": \"white\", \"minorgridcolor\": \"white\", \"startlinecolor\": \"#2a3f5f\"}, \"type\": \"carpet\"}], \"choropleth\": [{\"colorbar\": {\"outlinewidth\": 0, \"ticks\": \"\"}, \"type\": \"choropleth\"}], \"contour\": [{\"colorbar\": {\"outlinewidth\": 0, \"ticks\": \"\"}, \"colorscale\": [[0.0, \"#0d0887\"], [0.1111111111111111, \"#46039f\"], [0.2222222222222222, \"#7201a8\"], [0.3333333333333333, \"#9c179e\"], [0.4444444444444444, \"#bd3786\"], [0.5555555555555556, \"#d8576b\"], [0.6666666666666666, \"#ed7953\"], [0.7777777777777778, \"#fb9f3a\"], [0.8888888888888888, \"#fdca26\"], [1.0, \"#f0f921\"]], \"type\": \"contour\"}], \"contourcarpet\": [{\"colorbar\": {\"outlinewidth\": 0, \"ticks\": \"\"}, \"type\": \"contourcarpet\"}], \"heatmap\": [{\"colorbar\": {\"outlinewidth\": 0, \"ticks\": \"\"}, \"colorscale\": [[0.0, \"#0d0887\"], [0.1111111111111111, \"#46039f\"], [0.2222222222222222, \"#7201a8\"], [0.3333333333333333, \"#9c179e\"], [0.4444444444444444, \"#bd3786\"], [0.5555555555555556, \"#d8576b\"], [0.6666666666666666, \"#ed7953\"], [0.7777777777777778, \"#fb9f3a\"], [0.8888888888888888, \"#fdca26\"], [1.0, \"#f0f921\"]], \"type\": \"heatmap\"}], \"heatmapgl\": [{\"colorbar\": {\"outlinewidth\": 0, \"ticks\": \"\"}, \"colorscale\": [[0.0, \"#0d0887\"], [0.1111111111111111, \"#46039f\"], [0.2222222222222222, \"#7201a8\"], [0.3333333333333333, \"#9c179e\"], [0.4444444444444444, \"#bd3786\"], [0.5555555555555556, \"#d8576b\"], [0.6666666666666666, \"#ed7953\"], [0.7777777777777778, \"#fb9f3a\"], [0.8888888888888888, \"#fdca26\"], [1.0, \"#f0f921\"]], \"type\": \"heatmapgl\"}], \"histogram\": [{\"marker\": {\"colorbar\": {\"outlinewidth\": 0, \"ticks\": \"\"}}, \"type\": \"histogram\"}], \"histogram2d\": [{\"colorbar\": {\"outlinewidth\": 0, \"ticks\": \"\"}, \"colorscale\": [[0.0, \"#0d0887\"], [0.1111111111111111, \"#46039f\"], [0.2222222222222222, \"#7201a8\"], [0.3333333333333333, \"#9c179e\"], [0.4444444444444444, \"#bd3786\"], [0.5555555555555556, \"#d8576b\"], [0.6666666666666666, \"#ed7953\"], [0.7777777777777778, \"#fb9f3a\"], [0.8888888888888888, \"#fdca26\"], [1.0, \"#f0f921\"]], \"type\": \"histogram2d\"}], \"histogram2dcontour\": [{\"colorbar\": {\"outlinewidth\": 0, \"ticks\": \"\"}, \"colorscale\": [[0.0, \"#0d0887\"], [0.1111111111111111, \"#46039f\"], [0.2222222222222222, \"#7201a8\"], [0.3333333333333333, \"#9c179e\"], [0.4444444444444444, \"#bd3786\"], [0.5555555555555556, \"#d8576b\"], [0.6666666666666666, \"#ed7953\"], [0.7777777777777778, \"#fb9f3a\"], [0.8888888888888888, \"#fdca26\"], [1.0, \"#f0f921\"]], \"type\": \"histogram2dcontour\"}], \"mesh3d\": [{\"colorbar\": {\"outlinewidth\": 0, \"ticks\": \"\"}, \"type\": \"mesh3d\"}], \"parcoords\": [{\"line\": {\"colorbar\": {\"outlinewidth\": 0, \"ticks\": \"\"}}, \"type\": \"parcoords\"}], \"pie\": [{\"automargin\": true, \"type\": \"pie\"}], \"scatter\": [{\"marker\": {\"colorbar\": {\"outlinewidth\": 0, \"ticks\": \"\"}}, \"type\": \"scatter\"}], \"scatter3d\": [{\"line\": {\"colorbar\": {\"outlinewidth\": 0, \"ticks\": \"\"}}, \"marker\": {\"colorbar\": {\"outlinewidth\": 0, \"ticks\": \"\"}}, \"type\": \"scatter3d\"}], \"scattercarpet\": [{\"marker\": {\"colorbar\": {\"outlinewidth\": 0, \"ticks\": \"\"}}, \"type\": \"scattercarpet\"}], \"scattergeo\": [{\"marker\": {\"colorbar\": {\"outlinewidth\": 0, \"ticks\": \"\"}}, \"type\": \"scattergeo\"}], \"scattergl\": [{\"marker\": {\"colorbar\": {\"outlinewidth\": 0, \"ticks\": \"\"}}, \"type\": \"scattergl\"}], \"scattermapbox\": [{\"marker\": {\"colorbar\": {\"outlinewidth\": 0, \"ticks\": \"\"}}, \"type\": \"scattermapbox\"}], \"scatterpolar\": [{\"marker\": {\"colorbar\": {\"outlinewidth\": 0, \"ticks\": \"\"}}, \"type\": \"scatterpolar\"}], \"scatterpolargl\": [{\"marker\": {\"colorbar\": {\"outlinewidth\": 0, \"ticks\": \"\"}}, \"type\": \"scatterpolargl\"}], \"scatterternary\": [{\"marker\": {\"colorbar\": {\"outlinewidth\": 0, \"ticks\": \"\"}}, \"type\": \"scatterternary\"}], \"surface\": [{\"colorbar\": {\"outlinewidth\": 0, \"ticks\": \"\"}, \"colorscale\": [[0.0, \"#0d0887\"], [0.1111111111111111, \"#46039f\"], [0.2222222222222222, \"#7201a8\"], [0.3333333333333333, \"#9c179e\"], [0.4444444444444444, \"#bd3786\"], [0.5555555555555556, \"#d8576b\"], [0.6666666666666666, \"#ed7953\"], [0.7777777777777778, \"#fb9f3a\"], [0.8888888888888888, \"#fdca26\"], [1.0, \"#f0f921\"]], \"type\": \"surface\"}], \"table\": [{\"cells\": {\"fill\": {\"color\": \"#EBF0F8\"}, \"line\": {\"color\": \"white\"}}, \"header\": {\"fill\": {\"color\": \"#C8D4E3\"}, \"line\": {\"color\": \"white\"}}, \"type\": \"table\"}]}, \"layout\": {\"annotationdefaults\": {\"arrowcolor\": \"#2a3f5f\", \"arrowhead\": 0, \"arrowwidth\": 1}, \"coloraxis\": {\"colorbar\": {\"outlinewidth\": 0, \"ticks\": \"\"}}, \"colorscale\": {\"diverging\": [[0, \"#8e0152\"], [0.1, \"#c51b7d\"], [0.2, \"#de77ae\"], [0.3, \"#f1b6da\"], [0.4, \"#fde0ef\"], [0.5, \"#f7f7f7\"], [0.6, \"#e6f5d0\"], [0.7, \"#b8e186\"], [0.8, \"#7fbc41\"], [0.9, \"#4d9221\"], [1, \"#276419\"]], \"sequential\": [[0.0, \"#0d0887\"], [0.1111111111111111, \"#46039f\"], [0.2222222222222222, \"#7201a8\"], [0.3333333333333333, \"#9c179e\"], [0.4444444444444444, \"#bd3786\"], [0.5555555555555556, \"#d8576b\"], [0.6666666666666666, \"#ed7953\"], [0.7777777777777778, \"#fb9f3a\"], [0.8888888888888888, \"#fdca26\"], [1.0, \"#f0f921\"]], \"sequentialminus\": [[0.0, \"#0d0887\"], [0.1111111111111111, \"#46039f\"], [0.2222222222222222, \"#7201a8\"], [0.3333333333333333, \"#9c179e\"], [0.4444444444444444, \"#bd3786\"], [0.5555555555555556, \"#d8576b\"], [0.6666666666666666, \"#ed7953\"], [0.7777777777777778, \"#fb9f3a\"], [0.8888888888888888, \"#fdca26\"], [1.0, \"#f0f921\"]]}, \"colorway\": [\"#636efa\", \"#EF553B\", \"#00cc96\", \"#ab63fa\", \"#FFA15A\", \"#19d3f3\", \"#FF6692\", \"#B6E880\", \"#FF97FF\", \"#FECB52\"], \"font\": {\"color\": \"#2a3f5f\"}, \"geo\": {\"bgcolor\": \"white\", \"lakecolor\": \"white\", \"landcolor\": \"#E5ECF6\", \"showlakes\": true, \"showland\": true, \"subunitcolor\": \"white\"}, \"hoverlabel\": {\"align\": \"left\"}, \"hovermode\": \"closest\", \"mapbox\": {\"style\": \"light\"}, \"paper_bgcolor\": \"white\", \"plot_bgcolor\": \"#E5ECF6\", \"polar\": {\"angularaxis\": {\"gridcolor\": \"white\", \"linecolor\": \"white\", \"ticks\": \"\"}, \"bgcolor\": \"#E5ECF6\", \"radialaxis\": {\"gridcolor\": \"white\", \"linecolor\": \"white\", \"ticks\": \"\"}}, \"scene\": {\"xaxis\": {\"backgroundcolor\": \"#E5ECF6\", \"gridcolor\": \"white\", \"gridwidth\": 2, \"linecolor\": \"white\", \"showbackground\": true, \"ticks\": \"\", \"zerolinecolor\": \"white\"}, \"yaxis\": {\"backgroundcolor\": \"#E5ECF6\", \"gridcolor\": \"white\", \"gridwidth\": 2, \"linecolor\": \"white\", \"showbackground\": true, \"ticks\": \"\", \"zerolinecolor\": \"white\"}, \"zaxis\": {\"backgroundcolor\": \"#E5ECF6\", \"gridcolor\": \"white\", \"gridwidth\": 2, \"linecolor\": \"white\", \"showbackground\": true, \"ticks\": \"\", \"zerolinecolor\": \"white\"}}, \"shapedefaults\": {\"line\": {\"color\": \"#2a3f5f\"}}, \"ternary\": {\"aaxis\": {\"gridcolor\": \"white\", \"linecolor\": \"white\", \"ticks\": \"\"}, \"baxis\": {\"gridcolor\": \"white\", \"linecolor\": \"white\", \"ticks\": \"\"}, \"bgcolor\": \"#E5ECF6\", \"caxis\": {\"gridcolor\": \"white\", \"linecolor\": \"white\", \"ticks\": \"\"}}, \"title\": {\"x\": 0.05}, \"xaxis\": {\"automargin\": true, \"gridcolor\": \"white\", \"linecolor\": \"white\", \"ticks\": \"\", \"title\": {\"standoff\": 15}, \"zerolinecolor\": \"white\", \"zerolinewidth\": 2}, \"yaxis\": {\"automargin\": true, \"gridcolor\": \"white\", \"linecolor\": \"white\", \"ticks\": \"\", \"title\": {\"standoff\": 15}, \"zerolinecolor\": \"white\", \"zerolinewidth\": 2}}}},\n",
       "                        {\"responsive\": true}\n",
       "                    ).then(function(){\n",
       "                            \n",
       "var gd = document.getElementById('abbc1065-2c2a-4679-bb40-21fb05d1cc97');\n",
       "var x = new MutationObserver(function (mutations, observer) {{\n",
       "        var display = window.getComputedStyle(gd).display;\n",
       "        if (!display || display === 'none') {{\n",
       "            console.log([gd, 'removed!']);\n",
       "            Plotly.purge(gd);\n",
       "            observer.disconnect();\n",
       "        }}\n",
       "}});\n",
       "\n",
       "// Listen for the removal of the full notebook cells\n",
       "var notebookContainer = gd.closest('#notebook-container');\n",
       "if (notebookContainer) {{\n",
       "    x.observe(notebookContainer, {childList: true});\n",
       "}}\n",
       "\n",
       "// Listen for the clearing of the current output cell\n",
       "var outputEl = gd.closest('.output');\n",
       "if (outputEl) {{\n",
       "    x.observe(outputEl, {childList: true});\n",
       "}}\n",
       "\n",
       "                        })\n",
       "                };\n",
       "                });\n",
       "            </script>\n",
       "        </div>"
      ]
     },
     "metadata": {},
     "output_type": "display_data"
    }
   ],
   "source": [
    "import plotly.express as px\n",
    "#projection of the data onto the first 3 PCs, most of the variation is in PC1\n",
    "fig = px.scatter_3d(principalDf, x='principal component 1', y='principal component 2', z='principal component 3',\n",
    "                   opacity=0.7)\n",
    "fig.show()"
   ]
  },
  {
   "cell_type": "code",
   "execution_count": 688,
   "metadata": {},
   "outputs": [
    {
     "data": {
      "text/plain": [
       "72"
      ]
     },
     "execution_count": 688,
     "metadata": {},
     "output_type": "execute_result"
    }
   ],
   "source": [
    "std_data = pd.DataFrame(standard_data, columns=features)\n",
    "std_data.head()\n",
    "len(std_data.columns)"
   ]
  },
  {
   "cell_type": "markdown",
   "metadata": {},
   "source": [
    "Now we can see the weight of each of the features onto each of the principle components. Both visualizations below show this in different ways. The first PC has the most homogeneity because there is some collinarity in the features, and all the PCs after have much more variance in the weights because each of them is orthogonal to one another."
   ]
  },
  {
   "cell_type": "code",
   "execution_count": 689,
   "metadata": {},
   "outputs": [],
   "source": [
    "# def myplot(score,coeff,labels=None):\n",
    "#     xs = score[:,0]\n",
    "#     ys = score[:,1]\n",
    "#     n = coeff.shape[0]\n",
    "#     scalex = 1.0/(xs.max() - xs.min())\n",
    "#     scaley = 1.0/(ys.max() - ys.min())\n",
    "#     plt.scatter(xs * scalex,ys * scaley,s=5)\n",
    "#     for i in range(n):\n",
    "#         plt.arrow(0, 0, coeff[i,0], coeff[i,1],color = 'r',alpha = 0.5)\n",
    "#         if labels is None:\n",
    "#             plt.text(coeff[i,0]* 1.15, coeff[i,1] * 1.15, \"Var\"+str(i+1), color = 'green', ha = 'center', va = 'center')\n",
    "#         else:\n",
    "#             plt.text(coeff[i,0]* 1.15, coeff[i,1] * 1.15, labels[i], color = 'g', ha = 'center', va = 'center')\n",
    " \n",
    "#     plt.xlabel(\"PC{}\".format(1))\n",
    "#     plt.ylabel(\"PC{}\".format(2))\n",
    "#     plt.grid()\n",
    "\n",
    "# plt.figure(figsize=(12,10))\n",
    "# myplot(principalComponents[:,0:2],np.transpose(pca_model.components_[0:2, :]),list(std_data.columns))\n",
    "# plt.show()"
   ]
  },
  {
   "cell_type": "code",
   "execution_count": 690,
   "metadata": {},
   "outputs": [
    {
     "data": {
      "text/plain": [
       "15"
      ]
     },
     "execution_count": 690,
     "metadata": {},
     "output_type": "execute_result"
    },
    {
     "data": {
      "image/png": "[encoded data removed]",
      "text/plain": [
       "<Figure size 864x576 with 2 Axes>"
      ]
     },
     "metadata": {
      "needs_background": "light"
     },
     "output_type": "display_data"
    }
   ],
   "source": [
    "plt.figure(figsize = (12,8))\n",
    "sns.heatmap(pca_model.components_,\n",
    "      yticklabels=[ \"PCA\"+str(x) for x in range(1,pca_model.n_components_+1)],\n",
    "        xticklabels=list(features) )\n",
    "pca_model.n_components"
   ]
  },
  {
   "cell_type": "markdown",
   "metadata": {},
   "source": [
    "#### Interpretation of PCs\n",
    "PC2 has stronger positive weights on: work transit outbound and inbound, and stronger negative weights on: am school inbound and outbound. There is also a slight positive weights on work auto inbound and active. This might suggest that this is a zip code with a lot of commuters, and not a lot of children/students that were surveyed.\n",
    "\n",
    "***note*** the fact that this is a survey highly affects the results. When we do a post factor demographic analysis, it will be interesting to see how that lines up with the survey results. We are clustering based on imperfect survey information. \n",
    "\n",
    "PC3 has moderate positive weights on am school inbound and outbound, and work transit inbound and outbound. Auto trips are not as heavily weighted here. Active trips are just barely positively weighted. This might suggests that this PC describes zip codes with lower than average car use and maybe better than average transit\n",
    "\n",
    "PC4 is very uniformly unweighted, except for the non workday shopping feature which is highly positively weighted. This suggests that this PC describes zip codes where there is a lot of retail establishments, where people are making perchases in the evening.\n",
    "\n",
    "PC5 has strong negative weights on pm home inbound and outbound and the highest positive weight on active mobility trips. there is also a moderately positive weight on work auto inbound trips. this could mean that this zip code is not primarily residential (the lack of inbound home trips and the higher amount of inbound work trips). this also fits with a business district because in more dense locations people might be more likely to walk/bike to destinations close to their office, like to lunch or a quick errand,etc.\n",
    "\n"
   ]
  },
  {
   "cell_type": "markdown",
   "metadata": {},
   "source": [
    "# K- means"
   ]
  },
  {
   "cell_type": "code",
   "execution_count": 691,
   "metadata": {},
   "outputs": [],
   "source": [
    "\n",
    "import matplotlib.pyplot as plt\n",
    "import matplotlib.cm as cm\n",
    "\n",
    "from sklearn.cluster import KMeans\n",
    "from sklearn import metrics\n",
    "from sklearn.metrics import silhouette_samples, silhouette_score\n",
    "from scipy.spatial.distance import cdist\n",
    "\n",
    "from sklearn.cluster import DBSCAN"
   ]
  },
  {
   "cell_type": "code",
   "execution_count": 692,
   "metadata": {},
   "outputs": [
    {
     "name": "stdout",
     "output_type": "stream",
     "text": [
      "(249, 15)\n"
     ]
    },
    {
     "data": {
      "text/plain": [
       "array([[-0.87477141, -1.02078704, -0.62881872, ..., -0.3323579 ,\n",
       "         0.26691211, -0.65771013],\n",
       "       [-6.24959137,  0.06134734, -0.34117613, ...,  0.18995736,\n",
       "        -0.13402743, -0.58435493],\n",
       "       [ 6.58021055, -1.354974  , -1.50258595, ..., -1.24912926,\n",
       "        -1.10427198, -0.7585759 ],\n",
       "       ...,\n",
       "       [-0.75995809, -1.2804253 ,  1.43513347, ..., -1.81329285,\n",
       "         2.20955685,  0.58387204],\n",
       "       [ 6.47523233, -5.16696692,  1.62308705, ...,  1.42344417,\n",
       "        -1.69155817, -1.30696809],\n",
       "       [ 2.96826928, -3.35679189,  0.841504  , ...,  0.20593807,\n",
       "         1.57528271,  0.13883953]])"
      ]
     },
     "execution_count": 692,
     "metadata": {},
     "output_type": "execute_result"
    }
   ],
   "source": [
    "# Keep the top 5 principal components to use in clustering\n",
    "print(principalComponents.shape)\n",
    "\n",
    "y = principalComponents[:,0:n_components]\n",
    "# y = PCs\n",
    "y"
   ]
  },
  {
   "cell_type": "code",
   "execution_count": 693,
   "metadata": {},
   "outputs": [
    {
     "data": {
      "image/png": "[encoded data removed]",
      "text/plain": [
       "<Figure size 432x288 with 1 Axes>"
      ]
     },
     "metadata": {
      "needs_background": "light"
     },
     "output_type": "display_data"
    }
   ],
   "source": [
    "# k means determine k\n",
    "distortions = []\n",
    "K = range(1,5)\n",
    "for k in K:\n",
    "    kmeanModel = KMeans(n_clusters=k).fit(y)\n",
    "    kmeanModel.fit(y)\n",
    "    distortions.append(sum(np.min(cdist(y, kmeanModel.cluster_centers_, 'euclidean'), axis=1)) / y.shape[0])\n",
    "\n",
    "# Plot the elbow\n",
    "plt.plot(K, distortions, 'bx-')\n",
    "plt.xlabel('k (number of clusters)')\n",
    "plt.ylabel('Distortion')\n",
    "plt.title('The Elbow Method showing the optimal k')\n",
    "plt.show()"
   ]
  },
  {
   "cell_type": "code",
   "execution_count": 694,
   "metadata": {},
   "outputs": [
    {
     "name": "stdout",
     "output_type": "stream",
     "text": [
      "For n_clusters = 5 The average silhouette_score is : 0.22963191076098366\n"
     ]
    },
    {
     "data": {
      "image/png": "[encoded data removed]",
      "text/plain": [
       "<Figure size 1296x504 with 2 Axes>"
      ]
     },
     "metadata": {
      "needs_background": "light"
     },
     "output_type": "display_data"
    }
   ],
   "source": [
    "range_n_clusters = [5]\n",
    "\n",
    "for n_clusters in range_n_clusters:\n",
    "    # Create a subplot with 1 row and 2 columns\n",
    "    fig, (ax1, ax2) = plt.subplots(1, 2)\n",
    "    fig.set_size_inches(18, 7)\n",
    "\n",
    "    # The 1st subplot is the silhouette plot\n",
    "    # The silhouette coefficient can range from -1, 1 but in this example all\n",
    "    # lie within [-0.1, 1]\n",
    "    ax1.set_xlim([-0.1, 1])\n",
    "    # The (n_clusters+1)*10 is for inserting blank space between silhouette\n",
    "    # plots of individual clusters, to demarcate them clearly.\n",
    "    ax1.set_ylim([0, len(y) + (n_clusters + 1) * 10])\n",
    "\n",
    "    # Initialize the clusterer with n_clusters value and a random generator\n",
    "    # seed of 10 for reproducibility.\n",
    "    clusterer = KMeans(n_clusters=n_clusters, random_state=9)\n",
    "    cluster_labels = clusterer.fit_predict(y)\n",
    "\n",
    "    # The silhouette_score gives the average value for all the samples.\n",
    "    # This gives a perspective into the density and separation of the formed\n",
    "    # clusters\n",
    "    silhouette_avg = silhouette_score(y, cluster_labels)\n",
    "    print(\"For n_clusters =\", n_clusters,\n",
    "          \"The average silhouette_score is :\", silhouette_avg)\n",
    "\n",
    "    # Compute the silhouette scores for each sample\n",
    "    sample_silhouette_values = silhouette_samples(y, cluster_labels)\n",
    "\n",
    "    y_lower = 10\n",
    "    for i in range(n_clusters):\n",
    "        # Aggregate the silhouette scores for samples belonging to\n",
    "        # cluster i, and sort them\n",
    "        ith_cluster_silhouette_values = \\\n",
    "            sample_silhouette_values[cluster_labels == i]\n",
    "\n",
    "        ith_cluster_silhouette_values.sort()\n",
    "\n",
    "        size_cluster_i = ith_cluster_silhouette_values.shape[0]\n",
    "        y_upper = y_lower + size_cluster_i\n",
    "\n",
    "        color = cm.nipy_spectral(float(i) / n_clusters)\n",
    "        ax1.fill_betweenx(np.arange(y_lower, y_upper),\n",
    "                          0, ith_cluster_silhouette_values,\n",
    "                          facecolor=color, edgecolor=color, alpha=0.7)\n",
    "\n",
    "        # Label the silhouette plots with their cluster numbers at the middle\n",
    "        ax1.text(-0.05, y_lower + 0.5 * size_cluster_i, str(i))\n",
    "\n",
    "        # Compute the new y_lower for next plot\n",
    "        y_lower = y_upper + 10  # 10 for the 0 samples\n",
    "\n",
    "    ax1.set_title(\"The silhouette plot for the various clusters.\", fontsize=18)\n",
    "    ax1.set_xlabel(\"The silhouette coefficient values\", fontsize=16)\n",
    "    ax1.set_ylabel(\"Cluster label\", fontsize=16)\n",
    "\n",
    "    # The vertical line for average silhouette score of all the values\n",
    "    ax1.axvline(x=silhouette_avg, color=\"red\", linestyle=\"--\")\n",
    "\n",
    "    ax1.set_yticks([])  # Clear the yaxis labels / ticks\n",
    "    ax1.set_xticks([-0.1, 0, 0.2, 0.4, 0.6, 0.8, 1])\n",
    "\n",
    "    # 2nd Plot showing the actual clusters formed\n",
    "    colors = cm.nipy_spectral(cluster_labels.astype(float) / n_clusters)\n",
    "    ax2.scatter(y[:, 0], y[:, 1], marker='.', s=30, lw=0, alpha=0.7,\n",
    "                c=colors, edgecolor='k')\n",
    "\n",
    "    # Labeling the clusters\n",
    "    centers = clusterer.cluster_centers_\n",
    "    # Draw white circles at cluster centers\n",
    "    ax2.scatter(centers[:, 0], centers[:, 1], marker='o',\n",
    "                c=\"white\", alpha=1, s=200, edgecolor='k')\n",
    "\n",
    "    for i, c in enumerate(centers):\n",
    "        ax2.scatter(c[0], c[1], marker='$%d$' % i, alpha=1,\n",
    "                    s=50, edgecolor='k')\n",
    "\n",
    "    ax2.set_title(\"The visualization of the clustered data.\", fontsize=18)\n",
    "    ax2.set_xlabel(\"Feature space for the 1st feature\", fontsize=16)\n",
    "    ax2.set_ylabel(\"Feature space for the 2nd feature\", fontsize=16)\n",
    "\n",
    "    plt.suptitle((\"Silhouette analysis for KMeans clustering \"\n",
    "                  \"with n_clusters = %d\" % n_clusters, \"avg silhouette score: {:.3}\".format(silhouette_avg)),\n",
    "                 fontsize=18, fontweight='bold')\n",
    "    #plt.savefig('Graphics/silhouette %d.png' % n_clusters,dpi=600)\n",
    "plt.show()"
   ]
  },
  {
   "cell_type": "code",
   "execution_count": 695,
   "metadata": {
    "scrolled": true
   },
   "outputs": [
    {
     "data": {
      "text/html": [
       "<div>\n",
       "<style scoped>\n",
       "    .dataframe tbody tr th:only-of-type {\n",
       "        vertical-align: middle;\n",
       "    }\n",
       "\n",
       "    .dataframe tbody tr th {\n",
       "        vertical-align: top;\n",
       "    }\n",
       "\n",
       "    .dataframe thead th {\n",
       "        text-align: right;\n",
       "    }\n",
       "</style>\n",
       "<table border=\"1\" class=\"dataframe\">\n",
       "  <thead>\n",
       "    <tr style=\"text-align: right;\">\n",
       "      <th></th>\n",
       "      <th>ZIP</th>\n",
       "      <th>cluster</th>\n",
       "      <th>geometry</th>\n",
       "    </tr>\n",
       "  </thead>\n",
       "  <tbody>\n",
       "    <tr>\n",
       "      <th>0</th>\n",
       "      <td>94601</td>\n",
       "      <td>2</td>\n",
       "      <td>POLYGON ((-195843.682 -22645.035, -195822.040 ...</td>\n",
       "    </tr>\n",
       "    <tr>\n",
       "      <th>1</th>\n",
       "      <td>94501</td>\n",
       "      <td>0</td>\n",
       "      <td>POLYGON ((-201604.187 -25728.139, -202894.954 ...</td>\n",
       "    </tr>\n",
       "    <tr>\n",
       "      <th>2</th>\n",
       "      <td>94560</td>\n",
       "      <td>2</td>\n",
       "      <td>POLYGON ((-181289.671 -49924.408, -181237.554 ...</td>\n",
       "    </tr>\n",
       "    <tr>\n",
       "      <th>3</th>\n",
       "      <td>94587</td>\n",
       "      <td>2</td>\n",
       "      <td>POLYGON ((-182052.317 -43764.050, -182037.584 ...</td>\n",
       "    </tr>\n",
       "    <tr>\n",
       "      <th>4</th>\n",
       "      <td>94580</td>\n",
       "      <td>1</td>\n",
       "      <td>POLYGON ((-187567.889 -34790.577, -187565.018 ...</td>\n",
       "    </tr>\n",
       "    <tr>\n",
       "      <th>5</th>\n",
       "      <td>94514</td>\n",
       "      <td>1</td>\n",
       "      <td>POLYGON ((-137798.626 -21072.462, -137753.179 ...</td>\n",
       "    </tr>\n",
       "    <tr>\n",
       "      <th>6</th>\n",
       "      <td>94703</td>\n",
       "      <td>2</td>\n",
       "      <td>POLYGON ((-200453.705 -13919.296, -200454.278 ...</td>\n",
       "    </tr>\n",
       "    <tr>\n",
       "      <th>7</th>\n",
       "      <td>94549</td>\n",
       "      <td>0</td>\n",
       "      <td>POLYGON ((-183571.069 -8562.765, -183582.111 -...</td>\n",
       "    </tr>\n",
       "    <tr>\n",
       "      <th>8</th>\n",
       "      <td>94595</td>\n",
       "      <td>2</td>\n",
       "      <td>POLYGON ((-182659.804 -15739.577, -182676.704 ...</td>\n",
       "    </tr>\n",
       "    <tr>\n",
       "      <th>9</th>\n",
       "      <td>94506</td>\n",
       "      <td>1</td>\n",
       "      <td>POLYGON ((-164197.492 -26359.805, -164209.568 ...</td>\n",
       "    </tr>\n",
       "    <tr>\n",
       "      <th>10</th>\n",
       "      <td>94806</td>\n",
       "      <td>2</td>\n",
       "      <td>POLYGON ((-206729.550 -2944.413, -206719.811 -...</td>\n",
       "    </tr>\n",
       "    <tr>\n",
       "      <th>11</th>\n",
       "      <td>94801</td>\n",
       "      <td>1</td>\n",
       "      <td>POLYGON ((-207296.904 2159.059, -207296.043 21...</td>\n",
       "    </tr>\n",
       "    <tr>\n",
       "      <th>12</th>\n",
       "      <td>94803</td>\n",
       "      <td>1</td>\n",
       "      <td>POLYGON ((-203234.128 -1526.596, -203226.196 -...</td>\n",
       "    </tr>\n",
       "    <tr>\n",
       "      <th>13</th>\n",
       "      <td>94553</td>\n",
       "      <td>0</td>\n",
       "      <td>MULTIPOLYGON (((-188220.436 204.769, -188213.8...</td>\n",
       "    </tr>\n",
       "    <tr>\n",
       "      <th>14</th>\n",
       "      <td>94530</td>\n",
       "      <td>0</td>\n",
       "      <td>POLYGON ((-202997.591 -6206.107, -202983.050 -...</td>\n",
       "    </tr>\n",
       "    <tr>\n",
       "      <th>15</th>\n",
       "      <td>94572</td>\n",
       "      <td>1</td>\n",
       "      <td>POLYGON ((-198329.699 3063.103, -198335.996 30...</td>\n",
       "    </tr>\n",
       "    <tr>\n",
       "      <th>16</th>\n",
       "      <td>94949</td>\n",
       "      <td>1</td>\n",
       "      <td>POLYGON ((-228071.478 8034.904, -227914.410 82...</td>\n",
       "    </tr>\n",
       "    <tr>\n",
       "      <th>17</th>\n",
       "      <td>94939</td>\n",
       "      <td>1</td>\n",
       "      <td>MULTIPOLYGON (((-223951.699 -6194.944, -223925...</td>\n",
       "    </tr>\n",
       "    <tr>\n",
       "      <th>18</th>\n",
       "      <td>95425</td>\n",
       "      <td>1</td>\n",
       "      <td>POLYGON ((-280925.405 92859.951, -280903.518 9...</td>\n",
       "    </tr>\n",
       "    <tr>\n",
       "      <th>19</th>\n",
       "      <td>94599</td>\n",
       "      <td>1</td>\n",
       "      <td>MULTIPOLYGON (((-207695.998 43182.192, -207708...</td>\n",
       "    </tr>\n",
       "    <tr>\n",
       "      <th>20</th>\n",
       "      <td>94131</td>\n",
       "      <td>2</td>\n",
       "      <td>POLYGON ((-214830.922 -26470.186, -214846.805 ...</td>\n",
       "    </tr>\n",
       "    <tr>\n",
       "      <th>21</th>\n",
       "      <td>94124</td>\n",
       "      <td>1</td>\n",
       "      <td>POLYGON ((-211412.144 -29366.862, -211456.387 ...</td>\n",
       "    </tr>\n",
       "    <tr>\n",
       "      <th>22</th>\n",
       "      <td>94134</td>\n",
       "      <td>1</td>\n",
       "      <td>POLYGON ((-212984.286 -28953.119, -213051.591 ...</td>\n",
       "    </tr>\n",
       "    <tr>\n",
       "      <th>23</th>\n",
       "      <td>94108</td>\n",
       "      <td>2</td>\n",
       "      <td>POLYGON ((-212120.083 -22390.829, -212265.737 ...</td>\n",
       "    </tr>\n",
       "    <tr>\n",
       "      <th>24</th>\n",
       "      <td>94070</td>\n",
       "      <td>0</td>\n",
       "      <td>POLYGON ((-201811.717 -54787.342, -201822.658 ...</td>\n",
       "    </tr>\n",
       "    <tr>\n",
       "      <th>25</th>\n",
       "      <td>94065</td>\n",
       "      <td>1</td>\n",
       "      <td>POLYGON ((-198603.398 -52863.024, -198604.273 ...</td>\n",
       "    </tr>\n",
       "    <tr>\n",
       "      <th>26</th>\n",
       "      <td>94019</td>\n",
       "      <td>2</td>\n",
       "      <td>POLYGON ((-212304.798 -60778.340, -212301.657 ...</td>\n",
       "    </tr>\n",
       "    <tr>\n",
       "      <th>27</th>\n",
       "      <td>95138</td>\n",
       "      <td>2</td>\n",
       "      <td>POLYGON ((-159084.610 -81784.301, -159085.858 ...</td>\n",
       "    </tr>\n",
       "    <tr>\n",
       "      <th>28</th>\n",
       "      <td>95120</td>\n",
       "      <td>2</td>\n",
       "      <td>POLYGON ((-168064.484 -88565.545, -168047.425 ...</td>\n",
       "    </tr>\n",
       "    <tr>\n",
       "      <th>29</th>\n",
       "      <td>95136</td>\n",
       "      <td>2</td>\n",
       "      <td>MULTIPOLYGON (((-162147.960 -82652.273, -16214...</td>\n",
       "    </tr>\n",
       "    <tr>\n",
       "      <th>...</th>\n",
       "      <td>...</td>\n",
       "      <td>...</td>\n",
       "      <td>...</td>\n",
       "    </tr>\n",
       "    <tr>\n",
       "      <th>217</th>\n",
       "      <td>94551</td>\n",
       "      <td>0</td>\n",
       "      <td>POLYGON ((-164256.864 -26604.362, -164251.793 ...</td>\n",
       "    </tr>\n",
       "    <tr>\n",
       "      <th>218</th>\n",
       "      <td>94720</td>\n",
       "      <td>1</td>\n",
       "      <td>MULTIPOLYGON (((-199058.516 -13615.056, -19905...</td>\n",
       "    </tr>\n",
       "    <tr>\n",
       "      <th>219</th>\n",
       "      <td>94507</td>\n",
       "      <td>1</td>\n",
       "      <td>POLYGON ((-180076.520 -13291.657, -180072.441 ...</td>\n",
       "    </tr>\n",
       "    <tr>\n",
       "      <th>220</th>\n",
       "      <td>94513</td>\n",
       "      <td>0</td>\n",
       "      <td>POLYGON ((-155117.365 -18543.150, -155116.639 ...</td>\n",
       "    </tr>\n",
       "    <tr>\n",
       "      <th>221</th>\n",
       "      <td>94561</td>\n",
       "      <td>2</td>\n",
       "      <td>POLYGON ((-153557.805 1665.102, -153556.921 16...</td>\n",
       "    </tr>\n",
       "    <tr>\n",
       "      <th>222</th>\n",
       "      <td>94509</td>\n",
       "      <td>2</td>\n",
       "      <td>POLYGON ((-163180.491 -1294.597, -163180.334 -...</td>\n",
       "    </tr>\n",
       "    <tr>\n",
       "      <th>223</th>\n",
       "      <td>94531</td>\n",
       "      <td>1</td>\n",
       "      <td>POLYGON ((-156584.200 -2273.246, -156580.943 -...</td>\n",
       "    </tr>\n",
       "    <tr>\n",
       "      <th>224</th>\n",
       "      <td>94556</td>\n",
       "      <td>1</td>\n",
       "      <td>POLYGON ((-186312.108 -20745.386, -186312.193 ...</td>\n",
       "    </tr>\n",
       "    <tr>\n",
       "      <th>225</th>\n",
       "      <td>94526</td>\n",
       "      <td>0</td>\n",
       "      <td>POLYGON ((-173902.526 -17218.633, -173888.910 ...</td>\n",
       "    </tr>\n",
       "    <tr>\n",
       "      <th>226</th>\n",
       "      <td>94525</td>\n",
       "      <td>1</td>\n",
       "      <td>POLYGON ((-195101.129 5425.337, -195116.410 54...</td>\n",
       "    </tr>\n",
       "    <tr>\n",
       "      <th>227</th>\n",
       "      <td>94945</td>\n",
       "      <td>2</td>\n",
       "      <td>POLYGON ((-228515.831 17848.004, -228751.539 1...</td>\n",
       "    </tr>\n",
       "    <tr>\n",
       "      <th>228</th>\n",
       "      <td>94589</td>\n",
       "      <td>1</td>\n",
       "      <td>MULTIPOLYGON (((-197426.597 17764.820, -197222...</td>\n",
       "    </tr>\n",
       "    <tr>\n",
       "      <th>229</th>\n",
       "      <td>94102</td>\n",
       "      <td>3</td>\n",
       "      <td>POLYGON ((-212868.638 -24185.912, -212880.367 ...</td>\n",
       "    </tr>\n",
       "    <tr>\n",
       "      <th>230</th>\n",
       "      <td>94112</td>\n",
       "      <td>2</td>\n",
       "      <td>POLYGON ((-215710.161 -28970.035, -215509.442 ...</td>\n",
       "    </tr>\n",
       "    <tr>\n",
       "      <th>231</th>\n",
       "      <td>94129</td>\n",
       "      <td>1</td>\n",
       "      <td>POLYGON ((-217802.957 -19986.365, -217793.319 ...</td>\n",
       "    </tr>\n",
       "    <tr>\n",
       "      <th>232</th>\n",
       "      <td>94104</td>\n",
       "      <td>3</td>\n",
       "      <td>POLYGON ((-211381.865 -22503.439, -211388.665 ...</td>\n",
       "    </tr>\n",
       "    <tr>\n",
       "      <th>233</th>\n",
       "      <td>94127</td>\n",
       "      <td>1</td>\n",
       "      <td>POLYGON ((-216114.901 -28885.275, -216122.404 ...</td>\n",
       "    </tr>\n",
       "    <tr>\n",
       "      <th>234</th>\n",
       "      <td>94062</td>\n",
       "      <td>0</td>\n",
       "      <td>POLYGON ((-197123.364 -61973.103, -197096.393 ...</td>\n",
       "    </tr>\n",
       "    <tr>\n",
       "      <th>235</th>\n",
       "      <td>94303</td>\n",
       "      <td>0</td>\n",
       "      <td>POLYGON ((-189411.310 -59615.004, -189470.086 ...</td>\n",
       "    </tr>\n",
       "    <tr>\n",
       "      <th>236</th>\n",
       "      <td>94030</td>\n",
       "      <td>2</td>\n",
       "      <td>POLYGON ((-209674.440 -43477.115, -209689.206 ...</td>\n",
       "    </tr>\n",
       "    <tr>\n",
       "      <th>237</th>\n",
       "      <td>95122</td>\n",
       "      <td>2</td>\n",
       "      <td>POLYGON ((-162112.589 -72845.139, -162116.466 ...</td>\n",
       "    </tr>\n",
       "    <tr>\n",
       "      <th>238</th>\n",
       "      <td>95121</td>\n",
       "      <td>1</td>\n",
       "      <td>MULTIPOLYGON (((-160681.412 -79360.156, -16070...</td>\n",
       "    </tr>\n",
       "    <tr>\n",
       "      <th>239</th>\n",
       "      <td>95030</td>\n",
       "      <td>1</td>\n",
       "      <td>POLYGON ((-175962.682 -83329.050, -175884.889 ...</td>\n",
       "    </tr>\n",
       "    <tr>\n",
       "      <th>240</th>\n",
       "      <td>95133</td>\n",
       "      <td>1</td>\n",
       "      <td>POLYGON ((-165110.808 -69141.806, -165101.707 ...</td>\n",
       "    </tr>\n",
       "    <tr>\n",
       "      <th>241</th>\n",
       "      <td>94087</td>\n",
       "      <td>4</td>\n",
       "      <td>POLYGON ((-182342.760 -70032.290, -182334.663 ...</td>\n",
       "    </tr>\n",
       "    <tr>\n",
       "      <th>242</th>\n",
       "      <td>94301</td>\n",
       "      <td>0</td>\n",
       "      <td>POLYGON ((-191706.771 -61067.867, -191643.546 ...</td>\n",
       "    </tr>\n",
       "    <tr>\n",
       "      <th>243</th>\n",
       "      <td>95124</td>\n",
       "      <td>0</td>\n",
       "      <td>POLYGON ((-170309.671 -84285.387, -170309.542 ...</td>\n",
       "    </tr>\n",
       "    <tr>\n",
       "      <th>244</th>\n",
       "      <td>94041</td>\n",
       "      <td>1</td>\n",
       "      <td>POLYGON ((-184046.617 -66848.056, -184016.884 ...</td>\n",
       "    </tr>\n",
       "    <tr>\n",
       "      <th>245</th>\n",
       "      <td>94306</td>\n",
       "      <td>0</td>\n",
       "      <td>POLYGON ((-188703.149 -66530.999, -188695.289 ...</td>\n",
       "    </tr>\n",
       "    <tr>\n",
       "      <th>246</th>\n",
       "      <td>95046</td>\n",
       "      <td>1</td>\n",
       "      <td>POLYGON ((-142935.807 -99047.444, -142932.220 ...</td>\n",
       "    </tr>\n",
       "  </tbody>\n",
       "</table>\n",
       "<p>247 rows × 3 columns</p>\n",
       "</div>"
      ],
      "text/plain": [
       "       ZIP  cluster                                           geometry\n",
       "0    94601        2  POLYGON ((-195843.682 -22645.035, -195822.040 ...\n",
       "1    94501        0  POLYGON ((-201604.187 -25728.139, -202894.954 ...\n",
       "2    94560        2  POLYGON ((-181289.671 -49924.408, -181237.554 ...\n",
       "3    94587        2  POLYGON ((-182052.317 -43764.050, -182037.584 ...\n",
       "4    94580        1  POLYGON ((-187567.889 -34790.577, -187565.018 ...\n",
       "5    94514        1  POLYGON ((-137798.626 -21072.462, -137753.179 ...\n",
       "6    94703        2  POLYGON ((-200453.705 -13919.296, -200454.278 ...\n",
       "7    94549        0  POLYGON ((-183571.069 -8562.765, -183582.111 -...\n",
       "8    94595        2  POLYGON ((-182659.804 -15739.577, -182676.704 ...\n",
       "9    94506        1  POLYGON ((-164197.492 -26359.805, -164209.568 ...\n",
       "10   94806        2  POLYGON ((-206729.550 -2944.413, -206719.811 -...\n",
       "11   94801        1  POLYGON ((-207296.904 2159.059, -207296.043 21...\n",
       "12   94803        1  POLYGON ((-203234.128 -1526.596, -203226.196 -...\n",
       "13   94553        0  MULTIPOLYGON (((-188220.436 204.769, -188213.8...\n",
       "14   94530        0  POLYGON ((-202997.591 -6206.107, -202983.050 -...\n",
       "15   94572        1  POLYGON ((-198329.699 3063.103, -198335.996 30...\n",
       "16   94949        1  POLYGON ((-228071.478 8034.904, -227914.410 82...\n",
       "17   94939        1  MULTIPOLYGON (((-223951.699 -6194.944, -223925...\n",
       "18   95425        1  POLYGON ((-280925.405 92859.951, -280903.518 9...\n",
       "19   94599        1  MULTIPOLYGON (((-207695.998 43182.192, -207708...\n",
       "20   94131        2  POLYGON ((-214830.922 -26470.186, -214846.805 ...\n",
       "21   94124        1  POLYGON ((-211412.144 -29366.862, -211456.387 ...\n",
       "22   94134        1  POLYGON ((-212984.286 -28953.119, -213051.591 ...\n",
       "23   94108        2  POLYGON ((-212120.083 -22390.829, -212265.737 ...\n",
       "24   94070        0  POLYGON ((-201811.717 -54787.342, -201822.658 ...\n",
       "25   94065        1  POLYGON ((-198603.398 -52863.024, -198604.273 ...\n",
       "26   94019        2  POLYGON ((-212304.798 -60778.340, -212301.657 ...\n",
       "27   95138        2  POLYGON ((-159084.610 -81784.301, -159085.858 ...\n",
       "28   95120        2  POLYGON ((-168064.484 -88565.545, -168047.425 ...\n",
       "29   95136        2  MULTIPOLYGON (((-162147.960 -82652.273, -16214...\n",
       "..     ...      ...                                                ...\n",
       "217  94551        0  POLYGON ((-164256.864 -26604.362, -164251.793 ...\n",
       "218  94720        1  MULTIPOLYGON (((-199058.516 -13615.056, -19905...\n",
       "219  94507        1  POLYGON ((-180076.520 -13291.657, -180072.441 ...\n",
       "220  94513        0  POLYGON ((-155117.365 -18543.150, -155116.639 ...\n",
       "221  94561        2  POLYGON ((-153557.805 1665.102, -153556.921 16...\n",
       "222  94509        2  POLYGON ((-163180.491 -1294.597, -163180.334 -...\n",
       "223  94531        1  POLYGON ((-156584.200 -2273.246, -156580.943 -...\n",
       "224  94556        1  POLYGON ((-186312.108 -20745.386, -186312.193 ...\n",
       "225  94526        0  POLYGON ((-173902.526 -17218.633, -173888.910 ...\n",
       "226  94525        1  POLYGON ((-195101.129 5425.337, -195116.410 54...\n",
       "227  94945        2  POLYGON ((-228515.831 17848.004, -228751.539 1...\n",
       "228  94589        1  MULTIPOLYGON (((-197426.597 17764.820, -197222...\n",
       "229  94102        3  POLYGON ((-212868.638 -24185.912, -212880.367 ...\n",
       "230  94112        2  POLYGON ((-215710.161 -28970.035, -215509.442 ...\n",
       "231  94129        1  POLYGON ((-217802.957 -19986.365, -217793.319 ...\n",
       "232  94104        3  POLYGON ((-211381.865 -22503.439, -211388.665 ...\n",
       "233  94127        1  POLYGON ((-216114.901 -28885.275, -216122.404 ...\n",
       "234  94062        0  POLYGON ((-197123.364 -61973.103, -197096.393 ...\n",
       "235  94303        0  POLYGON ((-189411.310 -59615.004, -189470.086 ...\n",
       "236  94030        2  POLYGON ((-209674.440 -43477.115, -209689.206 ...\n",
       "237  95122        2  POLYGON ((-162112.589 -72845.139, -162116.466 ...\n",
       "238  95121        1  MULTIPOLYGON (((-160681.412 -79360.156, -16070...\n",
       "239  95030        1  POLYGON ((-175962.682 -83329.050, -175884.889 ...\n",
       "240  95133        1  POLYGON ((-165110.808 -69141.806, -165101.707 ...\n",
       "241  94087        4  POLYGON ((-182342.760 -70032.290, -182334.663 ...\n",
       "242  94301        0  POLYGON ((-191706.771 -61067.867, -191643.546 ...\n",
       "243  95124        0  POLYGON ((-170309.671 -84285.387, -170309.542 ...\n",
       "244  94041        1  POLYGON ((-184046.617 -66848.056, -184016.884 ...\n",
       "245  94306        0  POLYGON ((-188703.149 -66530.999, -188695.289 ...\n",
       "246  95046        1  POLYGON ((-142935.807 -99047.444, -142932.220 ...\n",
       "\n",
       "[247 rows x 3 columns]"
      ]
     },
     "execution_count": 695,
     "metadata": {},
     "output_type": "execute_result"
    }
   ],
   "source": [
    "import geopandas as gp\n",
    "labeled_zcode = zcode_data.copy()\n",
    "labeled_zcode[\"cluster\"] = clusterer.labels_\n",
    "labeled_zcode[\"ZIP\"] = zcode_data[\"ZIP\"].apply(lambda x: str((int(float(x)))))\n",
    "# cluster_zip_geo = zcode_data[[\"ZIP\", \"cluster\"]]\n",
    "zip_shp = gp.read_file(data_path+\"zcode_shapefile/ZCTA2010.shp\")\n",
    "cluster_zip_geo = zip_shp.merge(labeled_zcode, right_on=\"ZIP\", left_on=\"ZCTA\")[[\"ZIP\", \"cluster\", \"geometry\"]]\n",
    "cluster_zip_geo\n",
    "\n"
   ]
  },
  {
   "cell_type": "code",
   "execution_count": 696,
   "metadata": {},
   "outputs": [],
   "source": [
    "# cluster_zip_geo.to_file(data_path+\"modes_cluster_la.shp\")"
   ]
  },
  {
   "cell_type": "code",
   "execution_count": 697,
   "metadata": {
    "scrolled": true
   },
   "outputs": [],
   "source": [
    "labeled_zcode[[\"ZIP\", \"cluster\"]].to_csv(\"bay_cluster_labels.csv\")"
   ]
  },
  {
   "cell_type": "code",
   "execution_count": 708,
   "metadata": {},
   "outputs": [
    {
     "data": {
      "text/plain": [
       "Id2                 object\n",
       "Estimate; Total:    object\n",
       "dtype: object"
      ]
     },
     "execution_count": 708,
     "metadata": {},
     "output_type": "execute_result"
    }
   ],
   "source": [
    "hhsize = pd.read_csv(data_path+\"ACS_17_5YR_B25010/ACS_17_5YR_B25010_with_ann.csv\", header=1)[[\"Id2\", \"Estimate; Total:\"]]\n",
    "hhsize[\"Id2\"] = hhsize[\"Id2\"].apply(lambda x: str(x))\n",
    "labeled_zcode[[\"ZIP\", \"cluster\"]]\n",
    "hhsize.dtypes"
   ]
  },
  {
   "cell_type": "code",
   "execution_count": 726,
   "metadata": {},
   "outputs": [
    {
     "data": {
      "text/plain": [
       "271.9423076923077"
      ]
     },
     "execution_count": 726,
     "metadata": {},
     "output_type": "execute_result"
    }
   ],
   "source": [
    "cluster_0 = labeled_zcode[labeled_zcode[\"cluster\"] == 0]\n",
    "auto_inb_day = cluster_0[[col for col in cluster_0.columns if \"i_auto\" in col]].sum(axis=1)\n",
    "np.mean(auto_inb_day)"
   ]
  },
  {
   "cell_type": "code",
   "execution_count": 714,
   "metadata": {},
   "outputs": [
    {
     "data": {
      "text/html": [
       "<div>\n",
       "<style scoped>\n",
       "    .dataframe tbody tr th:only-of-type {\n",
       "        vertical-align: middle;\n",
       "    }\n",
       "\n",
       "    .dataframe tbody tr th {\n",
       "        vertical-align: top;\n",
       "    }\n",
       "\n",
       "    .dataframe thead th {\n",
       "        text-align: right;\n",
       "    }\n",
       "</style>\n",
       "<table border=\"1\" class=\"dataframe\">\n",
       "  <thead>\n",
       "    <tr style=\"text-align: right;\">\n",
       "      <th></th>\n",
       "      <th>Id2</th>\n",
       "      <th>Estimate; Total:</th>\n",
       "      <th>ZIP</th>\n",
       "      <th>cluster</th>\n",
       "    </tr>\n",
       "  </thead>\n",
       "  <tbody>\n",
       "    <tr>\n",
       "      <th>0</th>\n",
       "      <td>94002</td>\n",
       "      <td>2.57</td>\n",
       "      <td>94002</td>\n",
       "      <td>2</td>\n",
       "    </tr>\n",
       "    <tr>\n",
       "      <th>1</th>\n",
       "      <td>94005</td>\n",
       "      <td>2.47</td>\n",
       "      <td>94005</td>\n",
       "      <td>1</td>\n",
       "    </tr>\n",
       "    <tr>\n",
       "      <th>2</th>\n",
       "      <td>94010</td>\n",
       "      <td>2.64</td>\n",
       "      <td>94010</td>\n",
       "      <td>0</td>\n",
       "    </tr>\n",
       "    <tr>\n",
       "      <th>3</th>\n",
       "      <td>94014</td>\n",
       "      <td>3.56</td>\n",
       "      <td>94014</td>\n",
       "      <td>2</td>\n",
       "    </tr>\n",
       "    <tr>\n",
       "      <th>4</th>\n",
       "      <td>94015</td>\n",
       "      <td>3.22</td>\n",
       "      <td>94015</td>\n",
       "      <td>2</td>\n",
       "    </tr>\n",
       "    <tr>\n",
       "      <th>5</th>\n",
       "      <td>94019</td>\n",
       "      <td>2.78</td>\n",
       "      <td>94019</td>\n",
       "      <td>2</td>\n",
       "    </tr>\n",
       "    <tr>\n",
       "      <th>6</th>\n",
       "      <td>94020</td>\n",
       "      <td>2.49</td>\n",
       "      <td>94020</td>\n",
       "      <td>1</td>\n",
       "    </tr>\n",
       "    <tr>\n",
       "      <th>7</th>\n",
       "      <td>94022</td>\n",
       "      <td>2.68</td>\n",
       "      <td>94022</td>\n",
       "      <td>0</td>\n",
       "    </tr>\n",
       "    <tr>\n",
       "      <th>8</th>\n",
       "      <td>94024</td>\n",
       "      <td>3.00</td>\n",
       "      <td>94024</td>\n",
       "      <td>2</td>\n",
       "    </tr>\n",
       "    <tr>\n",
       "      <th>9</th>\n",
       "      <td>94025</td>\n",
       "      <td>2.78</td>\n",
       "      <td>94025</td>\n",
       "      <td>4</td>\n",
       "    </tr>\n",
       "    <tr>\n",
       "      <th>10</th>\n",
       "      <td>94027</td>\n",
       "      <td>2.85</td>\n",
       "      <td>94027</td>\n",
       "      <td>1</td>\n",
       "    </tr>\n",
       "    <tr>\n",
       "      <th>11</th>\n",
       "      <td>94028</td>\n",
       "      <td>2.65</td>\n",
       "      <td>94028</td>\n",
       "      <td>1</td>\n",
       "    </tr>\n",
       "    <tr>\n",
       "      <th>12</th>\n",
       "      <td>94030</td>\n",
       "      <td>2.72</td>\n",
       "      <td>94030</td>\n",
       "      <td>2</td>\n",
       "    </tr>\n",
       "    <tr>\n",
       "      <th>13</th>\n",
       "      <td>94038</td>\n",
       "      <td>3.18</td>\n",
       "      <td>94038</td>\n",
       "      <td>1</td>\n",
       "    </tr>\n",
       "    <tr>\n",
       "      <th>14</th>\n",
       "      <td>94040</td>\n",
       "      <td>2.47</td>\n",
       "      <td>94040</td>\n",
       "      <td>0</td>\n",
       "    </tr>\n",
       "    <tr>\n",
       "      <th>15</th>\n",
       "      <td>94041</td>\n",
       "      <td>2.25</td>\n",
       "      <td>94041</td>\n",
       "      <td>1</td>\n",
       "    </tr>\n",
       "    <tr>\n",
       "      <th>16</th>\n",
       "      <td>94043</td>\n",
       "      <td>2.37</td>\n",
       "      <td>94043</td>\n",
       "      <td>0</td>\n",
       "    </tr>\n",
       "    <tr>\n",
       "      <th>17</th>\n",
       "      <td>94044</td>\n",
       "      <td>2.77</td>\n",
       "      <td>94044</td>\n",
       "      <td>2</td>\n",
       "    </tr>\n",
       "    <tr>\n",
       "      <th>18</th>\n",
       "      <td>94060</td>\n",
       "      <td>2.90</td>\n",
       "      <td>94060</td>\n",
       "      <td>1</td>\n",
       "    </tr>\n",
       "    <tr>\n",
       "      <th>19</th>\n",
       "      <td>94061</td>\n",
       "      <td>2.78</td>\n",
       "      <td>94061</td>\n",
       "      <td>2</td>\n",
       "    </tr>\n",
       "    <tr>\n",
       "      <th>20</th>\n",
       "      <td>94062</td>\n",
       "      <td>2.65</td>\n",
       "      <td>94062</td>\n",
       "      <td>0</td>\n",
       "    </tr>\n",
       "    <tr>\n",
       "      <th>21</th>\n",
       "      <td>94063</td>\n",
       "      <td>3.34</td>\n",
       "      <td>94063</td>\n",
       "      <td>0</td>\n",
       "    </tr>\n",
       "    <tr>\n",
       "      <th>22</th>\n",
       "      <td>94065</td>\n",
       "      <td>2.47</td>\n",
       "      <td>94065</td>\n",
       "      <td>1</td>\n",
       "    </tr>\n",
       "    <tr>\n",
       "      <th>23</th>\n",
       "      <td>94066</td>\n",
       "      <td>2.84</td>\n",
       "      <td>94066</td>\n",
       "      <td>2</td>\n",
       "    </tr>\n",
       "    <tr>\n",
       "      <th>24</th>\n",
       "      <td>94070</td>\n",
       "      <td>2.63</td>\n",
       "      <td>94070</td>\n",
       "      <td>0</td>\n",
       "    </tr>\n",
       "    <tr>\n",
       "      <th>25</th>\n",
       "      <td>94080</td>\n",
       "      <td>3.21</td>\n",
       "      <td>94080</td>\n",
       "      <td>0</td>\n",
       "    </tr>\n",
       "    <tr>\n",
       "      <th>26</th>\n",
       "      <td>94085</td>\n",
       "      <td>2.79</td>\n",
       "      <td>94085</td>\n",
       "      <td>1</td>\n",
       "    </tr>\n",
       "    <tr>\n",
       "      <th>27</th>\n",
       "      <td>94086</td>\n",
       "      <td>2.54</td>\n",
       "      <td>94086</td>\n",
       "      <td>0</td>\n",
       "    </tr>\n",
       "    <tr>\n",
       "      <th>28</th>\n",
       "      <td>94087</td>\n",
       "      <td>2.80</td>\n",
       "      <td>94087</td>\n",
       "      <td>4</td>\n",
       "    </tr>\n",
       "    <tr>\n",
       "      <th>29</th>\n",
       "      <td>94089</td>\n",
       "      <td>2.78</td>\n",
       "      <td>94089</td>\n",
       "      <td>2</td>\n",
       "    </tr>\n",
       "    <tr>\n",
       "      <th>...</th>\n",
       "      <td>...</td>\n",
       "      <td>...</td>\n",
       "      <td>...</td>\n",
       "      <td>...</td>\n",
       "    </tr>\n",
       "    <tr>\n",
       "      <th>219</th>\n",
       "      <td>95134</td>\n",
       "      <td>2.36</td>\n",
       "      <td>95134</td>\n",
       "      <td>1</td>\n",
       "    </tr>\n",
       "    <tr>\n",
       "      <th>220</th>\n",
       "      <td>95135</td>\n",
       "      <td>2.99</td>\n",
       "      <td>95135</td>\n",
       "      <td>1</td>\n",
       "    </tr>\n",
       "    <tr>\n",
       "      <th>221</th>\n",
       "      <td>95136</td>\n",
       "      <td>2.92</td>\n",
       "      <td>95136</td>\n",
       "      <td>2</td>\n",
       "    </tr>\n",
       "    <tr>\n",
       "      <th>222</th>\n",
       "      <td>95138</td>\n",
       "      <td>3.28</td>\n",
       "      <td>95138</td>\n",
       "      <td>2</td>\n",
       "    </tr>\n",
       "    <tr>\n",
       "      <th>223</th>\n",
       "      <td>95139</td>\n",
       "      <td>3.13</td>\n",
       "      <td>95139</td>\n",
       "      <td>1</td>\n",
       "    </tr>\n",
       "    <tr>\n",
       "      <th>224</th>\n",
       "      <td>95148</td>\n",
       "      <td>4.07</td>\n",
       "      <td>95148</td>\n",
       "      <td>1</td>\n",
       "    </tr>\n",
       "    <tr>\n",
       "      <th>225</th>\n",
       "      <td>95401</td>\n",
       "      <td>2.89</td>\n",
       "      <td>95401</td>\n",
       "      <td>0</td>\n",
       "    </tr>\n",
       "    <tr>\n",
       "      <th>226</th>\n",
       "      <td>95403</td>\n",
       "      <td>2.61</td>\n",
       "      <td>95403</td>\n",
       "      <td>0</td>\n",
       "    </tr>\n",
       "    <tr>\n",
       "      <th>227</th>\n",
       "      <td>95404</td>\n",
       "      <td>2.49</td>\n",
       "      <td>95404</td>\n",
       "      <td>0</td>\n",
       "    </tr>\n",
       "    <tr>\n",
       "      <th>228</th>\n",
       "      <td>95405</td>\n",
       "      <td>2.43</td>\n",
       "      <td>95405</td>\n",
       "      <td>2</td>\n",
       "    </tr>\n",
       "    <tr>\n",
       "      <th>229</th>\n",
       "      <td>95407</td>\n",
       "      <td>3.22</td>\n",
       "      <td>95407</td>\n",
       "      <td>2</td>\n",
       "    </tr>\n",
       "    <tr>\n",
       "      <th>230</th>\n",
       "      <td>95409</td>\n",
       "      <td>2.20</td>\n",
       "      <td>95409</td>\n",
       "      <td>2</td>\n",
       "    </tr>\n",
       "    <tr>\n",
       "      <th>231</th>\n",
       "      <td>95421</td>\n",
       "      <td>2.16</td>\n",
       "      <td>95421</td>\n",
       "      <td>1</td>\n",
       "    </tr>\n",
       "    <tr>\n",
       "      <th>232</th>\n",
       "      <td>95425</td>\n",
       "      <td>2.63</td>\n",
       "      <td>95425</td>\n",
       "      <td>1</td>\n",
       "    </tr>\n",
       "    <tr>\n",
       "      <th>233</th>\n",
       "      <td>95436</td>\n",
       "      <td>2.27</td>\n",
       "      <td>95436</td>\n",
       "      <td>1</td>\n",
       "    </tr>\n",
       "    <tr>\n",
       "      <th>234</th>\n",
       "      <td>95441</td>\n",
       "      <td>2.73</td>\n",
       "      <td>95441</td>\n",
       "      <td>1</td>\n",
       "    </tr>\n",
       "    <tr>\n",
       "      <th>235</th>\n",
       "      <td>95442</td>\n",
       "      <td>2.21</td>\n",
       "      <td>95442</td>\n",
       "      <td>1</td>\n",
       "    </tr>\n",
       "    <tr>\n",
       "      <th>236</th>\n",
       "      <td>95444</td>\n",
       "      <td>2.89</td>\n",
       "      <td>95444</td>\n",
       "      <td>1</td>\n",
       "    </tr>\n",
       "    <tr>\n",
       "      <th>237</th>\n",
       "      <td>95446</td>\n",
       "      <td>2.02</td>\n",
       "      <td>95446</td>\n",
       "      <td>1</td>\n",
       "    </tr>\n",
       "    <tr>\n",
       "      <th>238</th>\n",
       "      <td>95448</td>\n",
       "      <td>2.47</td>\n",
       "      <td>95448</td>\n",
       "      <td>0</td>\n",
       "    </tr>\n",
       "    <tr>\n",
       "      <th>239</th>\n",
       "      <td>95450</td>\n",
       "      <td>1.76</td>\n",
       "      <td>95450</td>\n",
       "      <td>1</td>\n",
       "    </tr>\n",
       "    <tr>\n",
       "      <th>240</th>\n",
       "      <td>95465</td>\n",
       "      <td>2.08</td>\n",
       "      <td>95465</td>\n",
       "      <td>1</td>\n",
       "    </tr>\n",
       "    <tr>\n",
       "      <th>241</th>\n",
       "      <td>95472</td>\n",
       "      <td>2.37</td>\n",
       "      <td>95472</td>\n",
       "      <td>4</td>\n",
       "    </tr>\n",
       "    <tr>\n",
       "      <th>242</th>\n",
       "      <td>95476</td>\n",
       "      <td>2.41</td>\n",
       "      <td>95476</td>\n",
       "      <td>2</td>\n",
       "    </tr>\n",
       "    <tr>\n",
       "      <th>243</th>\n",
       "      <td>95492</td>\n",
       "      <td>3.00</td>\n",
       "      <td>95492</td>\n",
       "      <td>2</td>\n",
       "    </tr>\n",
       "    <tr>\n",
       "      <th>244</th>\n",
       "      <td>95620</td>\n",
       "      <td>3.30</td>\n",
       "      <td>95620</td>\n",
       "      <td>2</td>\n",
       "    </tr>\n",
       "    <tr>\n",
       "      <th>245</th>\n",
       "      <td>95687</td>\n",
       "      <td>2.77</td>\n",
       "      <td>95687</td>\n",
       "      <td>0</td>\n",
       "    </tr>\n",
       "    <tr>\n",
       "      <th>246</th>\n",
       "      <td>95688</td>\n",
       "      <td>2.81</td>\n",
       "      <td>95688</td>\n",
       "      <td>0</td>\n",
       "    </tr>\n",
       "    <tr>\n",
       "      <th>247</th>\n",
       "      <td>NaN</td>\n",
       "      <td>NaN</td>\n",
       "      <td>94018</td>\n",
       "      <td>1</td>\n",
       "    </tr>\n",
       "    <tr>\n",
       "      <th>248</th>\n",
       "      <td>NaN</td>\n",
       "      <td>NaN</td>\n",
       "      <td>94142</td>\n",
       "      <td>1</td>\n",
       "    </tr>\n",
       "  </tbody>\n",
       "</table>\n",
       "<p>249 rows × 4 columns</p>\n",
       "</div>"
      ],
      "text/plain": [
       "       Id2 Estimate; Total:    ZIP  cluster\n",
       "0    94002             2.57  94002        2\n",
       "1    94005             2.47  94005        1\n",
       "2    94010             2.64  94010        0\n",
       "3    94014             3.56  94014        2\n",
       "4    94015             3.22  94015        2\n",
       "5    94019             2.78  94019        2\n",
       "6    94020             2.49  94020        1\n",
       "7    94022             2.68  94022        0\n",
       "8    94024             3.00  94024        2\n",
       "9    94025             2.78  94025        4\n",
       "10   94027             2.85  94027        1\n",
       "11   94028             2.65  94028        1\n",
       "12   94030             2.72  94030        2\n",
       "13   94038             3.18  94038        1\n",
       "14   94040             2.47  94040        0\n",
       "15   94041             2.25  94041        1\n",
       "16   94043             2.37  94043        0\n",
       "17   94044             2.77  94044        2\n",
       "18   94060             2.90  94060        1\n",
       "19   94061             2.78  94061        2\n",
       "20   94062             2.65  94062        0\n",
       "21   94063             3.34  94063        0\n",
       "22   94065             2.47  94065        1\n",
       "23   94066             2.84  94066        2\n",
       "24   94070             2.63  94070        0\n",
       "25   94080             3.21  94080        0\n",
       "26   94085             2.79  94085        1\n",
       "27   94086             2.54  94086        0\n",
       "28   94087             2.80  94087        4\n",
       "29   94089             2.78  94089        2\n",
       "..     ...              ...    ...      ...\n",
       "219  95134             2.36  95134        1\n",
       "220  95135             2.99  95135        1\n",
       "221  95136             2.92  95136        2\n",
       "222  95138             3.28  95138        2\n",
       "223  95139             3.13  95139        1\n",
       "224  95148             4.07  95148        1\n",
       "225  95401             2.89  95401        0\n",
       "226  95403             2.61  95403        0\n",
       "227  95404             2.49  95404        0\n",
       "228  95405             2.43  95405        2\n",
       "229  95407             3.22  95407        2\n",
       "230  95409             2.20  95409        2\n",
       "231  95421             2.16  95421        1\n",
       "232  95425             2.63  95425        1\n",
       "233  95436             2.27  95436        1\n",
       "234  95441             2.73  95441        1\n",
       "235  95442             2.21  95442        1\n",
       "236  95444             2.89  95444        1\n",
       "237  95446             2.02  95446        1\n",
       "238  95448             2.47  95448        0\n",
       "239  95450             1.76  95450        1\n",
       "240  95465             2.08  95465        1\n",
       "241  95472             2.37  95472        4\n",
       "242  95476             2.41  95476        2\n",
       "243  95492             3.00  95492        2\n",
       "244  95620             3.30  95620        2\n",
       "245  95687             2.77  95687        0\n",
       "246  95688             2.81  95688        0\n",
       "247    NaN              NaN  94018        1\n",
       "248    NaN              NaN  94142        1\n",
       "\n",
       "[249 rows x 4 columns]"
      ]
     },
     "execution_count": 714,
     "metadata": {},
     "output_type": "execute_result"
    }
   ],
   "source": [
    "merged = pd.merge(hhsize, labeled_zcode[[\"ZIP\", \"cluster\"]], left_on='Id2', right_on=\"ZIP\", how=\"right\")\n",
    "merged"
   ]
  },
  {
   "cell_type": "code",
   "execution_count": 710,
   "metadata": {},
   "outputs": [
    {
     "data": {
      "text/plain": [
       "249"
      ]
     },
     "execution_count": 710,
     "metadata": {},
     "output_type": "execute_result"
    }
   ],
   "source": [
    "len(merged)"
   ]
  },
  {
   "cell_type": "code",
   "execution_count": 711,
   "metadata": {},
   "outputs": [
    {
     "data": {
      "text/plain": [
       "249"
      ]
     },
     "execution_count": 711,
     "metadata": {},
     "output_type": "execute_result"
    }
   ],
   "source": [
    "len(labeled_zcode[[\"ZIP\", \"cluster\"]])"
   ]
  },
  {
   "cell_type": "code",
   "execution_count": null,
   "metadata": {},
   "outputs": [],
   "source": []
  }
 ],
 "metadata": {
  "kernelspec": {
   "display_name": "Python 3",
   "language": "python",
   "name": "python3"
  },
  "language_info": {
   "codemirror_mode": {
    "name": "ipython",
    "version": 3
   },
   "file_extension": ".py",
   "mimetype": "text/x-python",
   "name": "python",
   "nbconvert_exporter": "python",
   "pygments_lexer": "ipython3",
   "version": "3.6.8"
  }
 },
 "nbformat": 4,
 "nbformat_minor": 2
}
