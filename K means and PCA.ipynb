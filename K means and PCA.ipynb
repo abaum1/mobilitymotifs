{
 "cells": [
  {
   "cell_type": "code",
   "execution_count": 1233,
   "metadata": {},
   "outputs": [],
   "source": [
    "import numpy as np\n",
    "import pandas as pd\n",
    "from sklearn.decomposition import PCA\n",
    "from sklearn.preprocessing import StandardScaler\n",
    "import matplotlib.pyplot as plt\n",
    "import seaborn as sns"
   ]
  },
  {
   "cell_type": "code",
   "execution_count": 1234,
   "metadata": {},
   "outputs": [],
   "source": [
    "data_path = \"/Users/ameliabaum/Desktop/Amelia/Berkeley Fall 2019/CY PLAN 257/Final Project/data/\""
   ]
  },
  {
   "cell_type": "code",
   "execution_count": 1235,
   "metadata": {},
   "outputs": [],
   "source": [
    "# pums = pd.read_csv(data_path+\"csv_hca/psam_h06.csv\")\n",
    "# list(pums.columns)"
   ]
  },
  {
   "cell_type": "code",
   "execution_count": 1236,
   "metadata": {},
   "outputs": [],
   "source": [
    "zcode_data = pd.read_csv(data_path+\"la_all.csv\").rename({\"Unnamed: 0\": \"ZIP\"}, axis=1)\n",
    "\n",
    "\n",
    "modes_zcodes = zcode_data[[col for col in zcode_data.columns if (\"ZIP\" in col)\n",
    "                        or (\"auto\" in col) or (\"walkbk\" in col) or (\"transit\" in col)]]\n",
    "\n",
    "# purposes_zcodes = zcode_data[[col for col in zcode_data.columns if (\"ZIP\" in col)\n",
    "#                         or (\"sch_work\" in col) or (\"discretionary\" in col) or (\"home\" in col)]]\n",
    "\n",
    "# modes_zcodes"
   ]
  },
  {
   "cell_type": "code",
   "execution_count": 1237,
   "metadata": {},
   "outputs": [],
   "source": [
    "zcode_data = modes_zcodes"
   ]
  },
  {
   "cell_type": "code",
   "execution_count": 1238,
   "metadata": {},
   "outputs": [
    {
     "data": {
      "text/plain": [
       "Index(['ZIP', 'i_transit_hr_0', 'i_auto_hr_0', 'i_walkbk_hr_0',\n",
       "       'i_transit_hr_1', 'i_auto_hr_1', 'i_walkbk_hr_1', 'i_transit_hr_2',\n",
       "       'i_auto_hr_2', 'i_walkbk_hr_2',\n",
       "       ...\n",
       "       'o_walkbk_hr_20', 'o_transit_hr_21', 'o_auto_hr_21', 'o_walkbk_hr_21',\n",
       "       'o_transit_hr_22', 'o_auto_hr_22', 'o_walkbk_hr_22', 'o_transit_hr_23',\n",
       "       'o_auto_hr_23', 'o_walkbk_hr_23'],\n",
       "      dtype='object', length=145)"
      ]
     },
     "execution_count": 1238,
     "metadata": {},
     "output_type": "execute_result"
    }
   ],
   "source": [
    "zcode_data.columns"
   ]
  },
  {
   "cell_type": "markdown",
   "metadata": {},
   "source": [
    "We can see that several the the features have high collinearity. I eliminated the all auto and all transit feature because it had very high collinearity with some other features including any of the features containing transit or auto.total inbound and total oubound have reletively high collinearity with other subsets of inbound/outbound. some of the high collinearities are not easily explained, such as the relationship between \"total inbound\" and \"work auto outbound\". Other relationships between inbound and outbound features suggest that inboundna outbound counts are positively correlated, which suggests that zip codes with a lot of inbound trips at one time of day have a lot of outbound trips as well. This makes sense, given that this is daily activity and we would expect most people who enter the zip code for work, school, or other activities will eventually go back home."
   ]
  },
  {
   "cell_type": "code",
   "execution_count": 1239,
   "metadata": {},
   "outputs": [],
   "source": [
    "# color = sns.diverging_palette(11, 11)\n",
    "# sns.set(font_scale=1)\n",
    "# plt.subplots(figsize=(12,7))\n",
    "# corr = zcode_data[[col for col in zcode_data.columns if col not in ['internal', \"zip code\"]]].corr()\n",
    "# corr.style.set_precision(3)\n",
    "# sns.heatmap(corr, annot=True, cmap=\"YlGnBu\", vmax=1, vmin = -0.1);\n",
    "# sns.axes_style(\"white\");\n",
    "# plt.title(\"Pairwise Feature Correlations\");"
   ]
  },
  {
   "cell_type": "code",
   "execution_count": 1240,
   "metadata": {},
   "outputs": [
    {
     "name": "stdout",
     "output_type": "stream",
     "text": [
      "num feats:  144\n"
     ]
    }
   ],
   "source": [
    "features = zcode_data[[col for col in zcode_data.columns if col not in [\"ZIP\"]]].columns\n",
    "print(\"num feats: \", len(features))\n",
    "# zcode_data[[col for col in zcode_data.columns if col not in [\"ZIP\"]]]"
   ]
  },
  {
   "cell_type": "code",
   "execution_count": 1241,
   "metadata": {
    "scrolled": true
   },
   "outputs": [
    {
     "name": "stderr",
     "output_type": "stream",
     "text": [
      "/Users/ameliabaum/anaconda3/lib/python3.6/site-packages/sklearn/utils/validation.py:595: DataConversionWarning:\n",
      "\n",
      "Data with input dtype int64 was converted to float64 by StandardScaler.\n",
      "\n",
      "/Users/ameliabaum/anaconda3/lib/python3.6/site-packages/sklearn/utils/validation.py:595: DataConversionWarning:\n",
      "\n",
      "Data with input dtype int64 was converted to float64 by StandardScaler.\n",
      "\n"
     ]
    },
    {
     "data": {
      "text/plain": [
       "array([[-0.53640959,  0.7941267 ,  0.29505892, ..., -0.88240177,\n",
       "        -0.62587001, -0.92081609],\n",
       "       [ 0.41860983, -0.50743836,  0.17102489, ..., -0.15269247,\n",
       "        -0.28800439, -0.92081609],\n",
       "       [ 0.41860983, -0.50743836,  1.20464178, ..., -0.88240177,\n",
       "        -0.28800439, -0.92081609],\n",
       "       ...,\n",
       "       [-0.53640959, -0.50743836, -1.48276213, ..., -0.88240177,\n",
       "        -0.96373562, -0.92081609],\n",
       "       [-0.53640959, -0.50743836, -1.50343446, ..., -0.88240177,\n",
       "        -0.96373562, -0.92081609],\n",
       "       [-0.53640959, -0.50743836, -1.15200472, ..., -0.15269247,\n",
       "        -0.96373562, -0.0986912 ]])"
      ]
     },
     "execution_count": 1241,
     "metadata": {},
     "output_type": "execute_result"
    }
   ],
   "source": [
    "from sklearn.preprocessing import StandardScaler\n",
    "# Separating out the features\n",
    "x = zcode_data.loc[:, features].values\n",
    "# Separating out the target\n",
    "y = zcode_data.loc[:,'ZIP'].values\n",
    "# Standardizing the features\n",
    "standard_data = StandardScaler().fit_transform(x)\n",
    "standard_data"
   ]
  },
  {
   "cell_type": "code",
   "execution_count": 1242,
   "metadata": {},
   "outputs": [],
   "source": [
    "n_components = 15\n",
    "pca_model = PCA(n_components)\n",
    "principalComponents = pca_model.fit_transform(standard_data)\n",
    "principalDf = pd.DataFrame(data = principalComponents\n",
    "             , columns = [\"principal component {0}\".format(i+1) for i in range(n_components)])"
   ]
  },
  {
   "cell_type": "code",
   "execution_count": 1243,
   "metadata": {},
   "outputs": [],
   "source": [
    "PCs = pca_model.components_\n",
    "pc_df = pd.DataFrame(PCs, columns = features)\n",
    "pc_df.index = np.arange(1,n_components+1)\n",
    "\n",
    "#looks like the first PC is weighting almost all of the feats equally. this might suggest that the bucketing is\n",
    "#smoothing a lot of variability which ight be informative"
   ]
  },
  {
   "cell_type": "code",
   "execution_count": 1244,
   "metadata": {},
   "outputs": [
    {
     "data": {
      "text/html": [
       "<div>\n",
       "<style scoped>\n",
       "    .dataframe tbody tr th:only-of-type {\n",
       "        vertical-align: middle;\n",
       "    }\n",
       "\n",
       "    .dataframe tbody tr th {\n",
       "        vertical-align: top;\n",
       "    }\n",
       "\n",
       "    .dataframe thead th {\n",
       "        text-align: right;\n",
       "    }\n",
       "</style>\n",
       "<table border=\"1\" class=\"dataframe\">\n",
       "  <thead>\n",
       "    <tr style=\"text-align: right;\">\n",
       "      <th></th>\n",
       "      <th>principal component 1</th>\n",
       "      <th>principal component 2</th>\n",
       "      <th>principal component 3</th>\n",
       "      <th>principal component 4</th>\n",
       "      <th>principal component 5</th>\n",
       "      <th>principal component 6</th>\n",
       "      <th>principal component 7</th>\n",
       "      <th>principal component 8</th>\n",
       "      <th>principal component 9</th>\n",
       "      <th>principal component 10</th>\n",
       "      <th>principal component 11</th>\n",
       "      <th>principal component 12</th>\n",
       "      <th>principal component 13</th>\n",
       "      <th>principal component 14</th>\n",
       "      <th>principal component 15</th>\n",
       "      <th>ZIP</th>\n",
       "    </tr>\n",
       "  </thead>\n",
       "  <tbody>\n",
       "    <tr>\n",
       "      <th>0</th>\n",
       "      <td>0.67</td>\n",
       "      <td>6.43</td>\n",
       "      <td>-1.43</td>\n",
       "      <td>1.05</td>\n",
       "      <td>0.08</td>\n",
       "      <td>0.01</td>\n",
       "      <td>0.08</td>\n",
       "      <td>0.77</td>\n",
       "      <td>-2.05</td>\n",
       "      <td>0.45</td>\n",
       "      <td>1.36</td>\n",
       "      <td>-0.43</td>\n",
       "      <td>-0.03</td>\n",
       "      <td>-0.04</td>\n",
       "      <td>-0.83</td>\n",
       "      <td>90,001.00</td>\n",
       "    </tr>\n",
       "    <tr>\n",
       "      <th>1</th>\n",
       "      <td>-3.12</td>\n",
       "      <td>1.85</td>\n",
       "      <td>0.72</td>\n",
       "      <td>0.51</td>\n",
       "      <td>2.40</td>\n",
       "      <td>-0.05</td>\n",
       "      <td>0.02</td>\n",
       "      <td>-0.31</td>\n",
       "      <td>-1.28</td>\n",
       "      <td>-0.13</td>\n",
       "      <td>1.70</td>\n",
       "      <td>-0.63</td>\n",
       "      <td>-3.35</td>\n",
       "      <td>2.05</td>\n",
       "      <td>-0.91</td>\n",
       "      <td>90,002.00</td>\n",
       "    </tr>\n",
       "    <tr>\n",
       "      <th>2</th>\n",
       "      <td>1.93</td>\n",
       "      <td>8.69</td>\n",
       "      <td>-2.46</td>\n",
       "      <td>-0.41</td>\n",
       "      <td>3.73</td>\n",
       "      <td>1.10</td>\n",
       "      <td>1.11</td>\n",
       "      <td>-0.32</td>\n",
       "      <td>2.08</td>\n",
       "      <td>-2.56</td>\n",
       "      <td>2.00</td>\n",
       "      <td>0.97</td>\n",
       "      <td>-1.52</td>\n",
       "      <td>-4.07</td>\n",
       "      <td>0.25</td>\n",
       "      <td>90,003.00</td>\n",
       "    </tr>\n",
       "    <tr>\n",
       "      <th>3</th>\n",
       "      <td>1.38</td>\n",
       "      <td>9.18</td>\n",
       "      <td>3.84</td>\n",
       "      <td>-2.96</td>\n",
       "      <td>0.43</td>\n",
       "      <td>7.21</td>\n",
       "      <td>-5.01</td>\n",
       "      <td>-1.76</td>\n",
       "      <td>0.26</td>\n",
       "      <td>2.63</td>\n",
       "      <td>-0.61</td>\n",
       "      <td>-0.50</td>\n",
       "      <td>-1.42</td>\n",
       "      <td>-0.13</td>\n",
       "      <td>-4.62</td>\n",
       "      <td>90,004.00</td>\n",
       "    </tr>\n",
       "    <tr>\n",
       "      <th>4</th>\n",
       "      <td>-2.78</td>\n",
       "      <td>5.20</td>\n",
       "      <td>-1.32</td>\n",
       "      <td>0.35</td>\n",
       "      <td>2.95</td>\n",
       "      <td>-1.20</td>\n",
       "      <td>0.12</td>\n",
       "      <td>1.61</td>\n",
       "      <td>1.16</td>\n",
       "      <td>-0.17</td>\n",
       "      <td>-0.63</td>\n",
       "      <td>0.85</td>\n",
       "      <td>-0.00</td>\n",
       "      <td>-1.47</td>\n",
       "      <td>-0.16</td>\n",
       "      <td>90,005.00</td>\n",
       "    </tr>\n",
       "  </tbody>\n",
       "</table>\n",
       "</div>"
      ],
      "text/plain": [
       "   principal component 1  principal component 2  principal component 3  \\\n",
       "0                   0.67                   6.43                  -1.43   \n",
       "1                  -3.12                   1.85                   0.72   \n",
       "2                   1.93                   8.69                  -2.46   \n",
       "3                   1.38                   9.18                   3.84   \n",
       "4                  -2.78                   5.20                  -1.32   \n",
       "\n",
       "   principal component 4  principal component 5  principal component 6  \\\n",
       "0                   1.05                   0.08                   0.01   \n",
       "1                   0.51                   2.40                  -0.05   \n",
       "2                  -0.41                   3.73                   1.10   \n",
       "3                  -2.96                   0.43                   7.21   \n",
       "4                   0.35                   2.95                  -1.20   \n",
       "\n",
       "   principal component 7  principal component 8  principal component 9  \\\n",
       "0                   0.08                   0.77                  -2.05   \n",
       "1                   0.02                  -0.31                  -1.28   \n",
       "2                   1.11                  -0.32                   2.08   \n",
       "3                  -5.01                  -1.76                   0.26   \n",
       "4                   0.12                   1.61                   1.16   \n",
       "\n",
       "   principal component 10  principal component 11  principal component 12  \\\n",
       "0                    0.45                    1.36                   -0.43   \n",
       "1                   -0.13                    1.70                   -0.63   \n",
       "2                   -2.56                    2.00                    0.97   \n",
       "3                    2.63                   -0.61                   -0.50   \n",
       "4                   -0.17                   -0.63                    0.85   \n",
       "\n",
       "   principal component 13  principal component 14  principal component 15  \\\n",
       "0                   -0.03                   -0.04                   -0.83   \n",
       "1                   -3.35                    2.05                   -0.91   \n",
       "2                   -1.52                   -4.07                    0.25   \n",
       "3                   -1.42                   -0.13                   -4.62   \n",
       "4                   -0.00                   -1.47                   -0.16   \n",
       "\n",
       "        ZIP  \n",
       "0 90,001.00  \n",
       "1 90,002.00  \n",
       "2 90,003.00  \n",
       "3 90,004.00  \n",
       "4 90,005.00  "
      ]
     },
     "execution_count": 1244,
     "metadata": {},
     "output_type": "execute_result"
    }
   ],
   "source": [
    "finalDf = pd.concat([principalDf, zcode_data[['ZIP']]], axis = 1)\n",
    "finalDf.head()"
   ]
  },
  {
   "cell_type": "code",
   "execution_count": 1245,
   "metadata": {},
   "outputs": [],
   "source": [
    "# plt.figure(figsize = (8,8))\n",
    "\n",
    "# ax = plt.scatter(finalDf.iloc[:,0], finalDf.iloc[:,1], color='g', alpha=.5, edgecolor='g', s=0.2)\n",
    "# plt.xlabel('Principal Component 1', fontsize = 15)\n",
    "# plt.ylabel('Principal Component 2', fontsize = 15)\n",
    "# plt.xlim(-7,8)\n",
    "# plt.ylim(-7,8)\n",
    "# plt.title('{0} component PCA'.format(n_components), fontsize = 20)\n",
    "# plt.show()"
   ]
  },
  {
   "cell_type": "code",
   "execution_count": 1246,
   "metadata": {},
   "outputs": [
    {
     "name": "stdout",
     "output_type": "stream",
     "text": [
      "[0.27296222 0.35002664 0.38524897 0.41306474 0.43941187 0.46132167\n",
      " 0.47960233 0.49693114 0.51291707 0.52878258 0.54423331 0.55870948\n",
      " 0.57220801 0.58492752 0.59751729]\n"
     ]
    }
   ],
   "source": [
    "explained = pca_model.explained_variance_ratio_\n",
    "explained_sum = np.cumsum(explained)\n",
    "# eigenvector = np.array(range(1,24))\n",
    "\n",
    "print(explained_sum)\n",
    "# print(len(eigenvector))"
   ]
  },
  {
   "cell_type": "code",
   "execution_count": 1247,
   "metadata": {},
   "outputs": [
    {
     "data": {
      "text/plain": [
       "array([0.27296222, 0.07706443, 0.03522233, 0.02781577, 0.02634713,\n",
       "       0.0219098 , 0.01828066, 0.01732881, 0.01598593, 0.01586551,\n",
       "       0.01545074, 0.01447616, 0.01349854, 0.0127195 , 0.01258977])"
      ]
     },
     "execution_count": 1247,
     "metadata": {},
     "output_type": "execute_result"
    }
   ],
   "source": [
    "pca_model.explained_variance_ratio_"
   ]
  },
  {
   "cell_type": "code",
   "execution_count": 1248,
   "metadata": {},
   "outputs": [
    {
     "data": {
      "text/plain": [
       "<matplotlib.legend.Legend at 0x1a4a607c50>"
      ]
     },
     "execution_count": 1248,
     "metadata": {},
     "output_type": "execute_result"
    },
    {
     "data": {
      "image/png": "[encoded data removed]",
      "text/plain": [
       "<Figure size 576x432 with 1 Axes>"
      ]
     },
     "metadata": {
      "needs_background": "light"
     },
     "output_type": "display_data"
    }
   ],
   "source": [
    "plt.figure(figsize=(8,6))\n",
    "plt.bar(range(1,len(pca_model.explained_variance_ )+1),pca_model.explained_variance_ratio_ )\n",
    "plt.ylabel('Explained variance %')\n",
    "plt.xlabel('Components')\n",
    "plt.plot(range(1,len(pca_model.explained_variance_ratio_ )+1),\n",
    "         np.cumsum(pca_model.explained_variance_ratio_),\n",
    "         c='red',\n",
    "         label=\"Cumulative Explained Variance\")\n",
    "plt.legend(loc='upper left')"
   ]
  },
  {
   "cell_type": "code",
   "execution_count": 1249,
   "metadata": {},
   "outputs": [
    {
     "data": {
      "image/png": "[encoded data removed]",
      "text/plain": [
       "<Figure size 432x288 with 1 Axes>"
      ]
     },
     "metadata": {
      "needs_background": "light"
     },
     "output_type": "display_data"
    }
   ],
   "source": [
    "plt.plot(pca_model.explained_variance_ratio_)\n",
    "plt.xlabel('number of components')\n",
    "plt.ylabel('cumulative explained variance %')\n",
    "plt.show()"
   ]
  },
  {
   "cell_type": "code",
   "execution_count": 1250,
   "metadata": {
    "scrolled": true
   },
   "outputs": [
    {
     "data": {
      "application/vnd.plotly.v1+json": {
       "config": {
        "plotlyServerURL": "https://plot.ly"
       },
       "data": [
        {
         "hoverlabel": {
          "namelength": 0
         },
         "hovertemplate": "principal component 1=%{x}<br>principal component 2=%{y}<br>principal component 3=%{z}",
         "legendgroup": "",
         "marker": {
          "color": "#636efa",
          "opacity": 0.7,
          "symbol": "circle"
         },
         "mode": "markers",
         "name": "",
         "scene": "scene",
         "showlegend": false,
         "type": "scatter3d",
         "x": [
          0.6733614495997104,
          -3.1236158051333702,
          1.9284483392651979,
          1.3816039679693934,
          -2.7773889082738843,
          3.1098592124999835,
          5.862607376511153,
          -3.872212434647552,
          -3.3657996314878793,
          9.307582389660626,
          18.77848735532234,
          -1.7290625437577674,
          -6.316936018544062,
          2.0516796793424654,
          1.2070984225314705,
          2.3042583249873485,
          0.14456124928711964,
          5.843355704221163,
          -6.698433209695101,
          -7.385291686110582,
          4.39616214952979,
          1.4668103644181971,
          4.752379755709672,
          7.667735142339453,
          1.4888278272910678,
          11.594961591609254,
          10.299745267299079,
          -2.0263665794119867,
          -4.15213501317616,
          -2.0847929619205203,
          4.751686188731153,
          6.398510511812629,
          -2.438342766265833,
          3.072838876454305,
          -0.14537125354298713,
          -0.459809749579765,
          -1.5926901866493957,
          -3.4361433169466777,
          -1.5319147836823177,
          1.7065703034833497,
          -3.0916965908987804,
          4.015962689256134,
          19.75576330643241,
          6.559886151104321,
          -2.7075034014064916,
          3.039987760563335,
          2.579850854923071,
          -7.248070538237037,
          -0.42066687021601734,
          -7.755413374627239,
          -4.872560567697254,
          -5.726012371916509,
          -6.637612330607021,
          -1.3517164293286228,
          6.87633902836866,
          2.10847872849837,
          8.88172462697082,
          -5.989014716157163,
          -2.8594801196584263,
          0.3268439652038669,
          -6.250361330050029,
          -9.406282220487121,
          -7.740226719603422,
          -8.399839710175783,
          -8.942924569537764,
          -6.321754483680701,
          6.943559680296757,
          -4.388012001546485,
          -7.775941690476267,
          -4.863132766712208,
          -0.6315415076972062,
          -5.050450465410159,
          -7.698934931836542,
          9.285109277836998,
          1.598572827403291,
          -6.369317773853112,
          -1.2490479336344664,
          -2.273498005445607,
          3.3587646976378775,
          -1.2749139345639098,
          -3.7796591863556457,
          -6.262083216552525,
          7.2013699023762365,
          3.4302348889328957,
          3.8092150054555636,
          -3.570429458613461,
          -3.09911804840302,
          -3.255375662022335,
          15.331704927128422,
          -6.6761083336628895,
          1.434337377268377,
          -1.863498897086422,
          0.29750779065167715,
          2.4319992614233543,
          7.110201793544194,
          4.903009540418897,
          -8.55373349300283,
          5.69362604785494,
          -1.4550087232676727,
          -6.136724937662719,
          -1.0256297565063002,
          -3.491802117610236,
          -2.87189166562375,
          -7.3580706819963755,
          -8.138104350749485,
          2.45973693117982,
          -4.624393828307245,
          -0.7207553297525406,
          0.9770972454542047,
          8.786597553899181,
          3.084091182364625,
          -5.525203033214908,
          7.206125985223744,
          2.061183859997509,
          9.530985076687864,
          2.2097688338040986,
          -1.3830315957541313,
          -1.9649339511877097,
          -0.6742398124557708,
          -2.589883865703186,
          -5.36949087241404,
          0.21769441038212445,
          -6.004420222361107,
          -7.060738967463678,
          3.8569680167834828,
          8.57168394070599,
          1.66701788207808,
          6.816273752010437,
          17.135549519109162,
          -1.300233593150866,
          -5.560490811565633,
          -5.162928233592798,
          -6.405222657892681,
          7.210027023188273,
          -7.227945741452261,
          -0.0266894086883287,
          -2.8059967334649576,
          8.996770759907685,
          -2.6893726095212465,
          -8.120093620415778,
          -8.053182606348093,
          -2.5989134299183236,
          0.9626650622926008,
          -2.7486526614076214,
          9.443951724801602,
          -4.5045106250033795,
          4.351150232552314,
          -1.373924318257028,
          -3.3542894265121075,
          -3.354717213481668,
          -5.794079311042151,
          8.931973111410331,
          2.127104458759603,
          2.621744843744879,
          3.530995351434583,
          -0.3368228623887258,
          3.799289076731731,
          11.854604576348995,
          -5.175480618625455,
          -1.7833233636411905,
          -1.6993182523205255,
          14.848668954987904,
          -9.225401256418778,
          10.656808405698525,
          4.350449670299869,
          2.0519609547318827,
          3.193972420812055,
          4.795484281293643,
          14.09131440434864,
          -6.8215915267123215,
          0.12974431146633375,
          8.345297928124019,
          -2.5243910309472932,
          -4.48616486489633,
          6.880827541543506,
          4.573566675400201,
          7.222042694539289,
          3.922669415894724,
          3.3073032182757403,
          12.974914648100134,
          -1.396582267671166,
          -8.981256274423545,
          -2.658977969800206,
          -6.05932980816214,
          -6.445267557731187,
          -3.5650434685351113,
          -2.780266334489823,
          -1.9275407303195242,
          -6.861665268774389,
          -4.569317147883831,
          -8.577725899065811,
          2.1021656221097267,
          0.9011111309467357,
          -3.636197250229563,
          -3.8416792601211847,
          0.39463543321031336,
          -4.04043663380376,
          0.5949387045765187,
          4.920404159395819,
          -5.152772018402737,
          16.147340666075767,
          2.7879352763441836,
          2.275184289157997,
          -2.8866087981715176,
          -1.8200893967764153,
          -7.856946365906073,
          2.8774344481428864,
          2.615054001946292,
          -4.888914505096659,
          2.6915005015131266,
          2.3998156587528805,
          4.376267418447616,
          -6.282788627053812,
          10.116344113972893,
          -0.28204482062308545,
          -4.517236814017612,
          -1.4858284729635916,
          14.081468616202082,
          -1.3373174185129437,
          19.348468432507946,
          1.5904236584300013,
          9.928690031453375,
          0.6354494414746806,
          4.762862238275554,
          -4.6225800656311264,
          -3.250657917771454,
          -5.383045206721013,
          -0.9520235749512018,
          -4.558522127915002,
          -1.5622159909752618,
          -4.74052870852858,
          -1.3034166107830774,
          -0.04498634963463855,
          0.23673190550982262,
          -2.8599537710343457,
          -2.9636763342071597,
          -6.916507577928266,
          -4.86935044173139,
          1.183173042651027,
          0.42786039864565806,
          12.9304202416385,
          0.5294549849369377,
          -0.2590739696108976,
          -4.097258024793358,
          0.6904210463342854,
          -3.5328449253738126,
          0.6394282732927342,
          0.1222155946753702,
          -1.3247501954399772,
          0.9635845982209742,
          15.563046742835645,
          -2.559527975921273,
          -3.970807744773643,
          -2.458156547961986,
          -0.7343202167077497,
          -1.1611618486698927,
          -0.7788731416686465,
          -0.8253687935948233,
          0.9398358817594655,
          -3.3927694971247746,
          4.811574333926188,
          -6.18747412366083,
          1.830695155819823,
          3.454699310445917,
          -5.844133603296211,
          0.4853585374523927,
          -5.650354343910885,
          1.7784652057018557,
          0.2980480743785147,
          -0.7021800548877691,
          -3.615486870906659,
          -1.8637213713081207,
          8.043745675771673,
          -4.79073458011865,
          -3.2655158965859727,
          1.9601865814608528,
          1.279434737694926,
          0.43189584930886193,
          -2.9315294556469436,
          -4.0153506265133965,
          7.310507308976484,
          -0.02447001714023642,
          1.0239165641620065,
          -4.817499613793829,
          -8.743552707884781,
          -2.398582095262923,
          -2.1708482344419093,
          -2.0407132839192257,
          -6.46395968856683,
          -9.292453638538879,
          2.1843181630698125,
          -2.166712512058393,
          -3.67869617664613,
          -8.04740172963241,
          6.672869100424777,
          -4.750852506069799,
          4.677125975840811,
          2.0144010060936863,
          -2.684395295534592,
          -5.180099150046642,
          -3.651467399116441,
          -7.8745044716467385,
          -8.377077663951471,
          -1.7198228992540585,
          6.896215056656453,
          6.046939605015988,
          2.383146584090794,
          8.90622586305003,
          4.874286210549662,
          -1.7276832858336497,
          6.0194851307019395,
          -9.4274302012035,
          -1.3863554100082753,
          -6.798179326129045,
          -9.683620712986723,
          -7.8160000823427715,
          -0.974120285039511,
          -0.31328315550429736,
          0.27630987585933053,
          -8.792277769254895,
          -3.84683486374173,
          2.808169706849367,
          -3.889923818847249,
          -0.306289738067495,
          -9.511527891085798,
          13.600395324850766,
          0.535058816915127,
          -7.861912488241544,
          -2.3900241348449143,
          -5.823635374111451,
          -7.6286835676736935,
          -5.581492101744991,
          0.3186425466513513,
          -5.614144300744147,
          -2.866260318197827,
          -8.185825962859617,
          -5.75871591549175,
          8.863569459558766,
          9.442451949717963,
          -0.6869225011470285,
          -8.21515217357849,
          -1.8534156443288474,
          -3.747460532202458,
          2.7237340841243403,
          0.4701415924313527,
          -5.913404688895693,
          -1.5393524542744623,
          -1.976436494065541,
          -5.040668739992525,
          2.653828599781349,
          -1.858372141095588,
          -9.183846776961364,
          -5.803014843890281,
          12.832823762368628,
          1.2627385580223693,
          -1.538576365246873,
          8.717213823991425,
          -1.2091800155819623,
          7.299994819125274,
          13.178007873127813,
          1.711270082909524,
          1.12202797652811,
          -0.5152064897800671,
          -1.3656350364966778,
          -9.37240383025624,
          0.12256597042606086,
          -7.86569103324584,
          -0.32736974176174527,
          -8.655699678085798,
          -9.009081078515567,
          -4.693328337497301,
          -3.18662223616271,
          -4.296444539751607,
          1.0354858593858887,
          -9.29747966162567,
          5.435241379448497,
          -0.3342094096504819,
          11.680100202657272,
          3.3867487474626965,
          6.610718578475811,
          1.4924868144418515,
          -8.402689942961521,
          -9.297177990702068,
          -2.2615723354805843,
          -2.6969760397491185,
          1.4800776103409299,
          9.786161901622336,
          -1.5846119761482251,
          2.0544831909465064,
          6.812178957989143,
          9.76487731833002,
          -1.4510934635790818,
          -0.45253272216261525,
          5.709069723064928,
          -1.4293967840782078,
          1.685739808116071,
          -0.9394954614879958,
          -1.1868458692720254,
          -5.279618491374589,
          6.62753012502662,
          -9.19624164736423,
          0.247034686399847,
          -1.5808904726108282,
          -0.6619428356901457,
          3.2084708054658515,
          -4.543695962422082,
          -4.791761566892482,
          -5.148271522435252,
          -6.459374979064636,
          -5.614385480495322,
          -2.8657605426675046,
          -7.578355261412664,
          -0.35025988979978256,
          -4.504729452219624,
          4.031777705678142,
          -2.209904302207475,
          2.527481582051059,
          6.801373566972226,
          0.5464210228344061,
          -1.3339081316743802,
          -1.0831071869342532,
          0.7129232441882739,
          -4.4883892616085586,
          3.3306342335924617,
          -3.8061369006305354,
          15.866592004269389,
          31.965033640959447,
          5.853069075453785,
          20.353299711377126,
          3.5390935946477775,
          -1.6912412412464095,
          8.44089277793054,
          -7.747291289774516,
          8.298351861933291,
          5.413481255341893,
          6.5523022462752145,
          1.1661527076719842,
          7.164052323983767,
          -2.3630024296879295,
          1.5947429635076482,
          7.981669469729219,
          25.60225268557501,
          -6.391237921228985,
          -8.995572561377044,
          5.7315600433557305,
          7.301292171293527,
          12.630210834071375,
          -6.627089922687821,
          6.958872040982362,
          10.24708059517693,
          1.4194773046633142,
          -9.315963012205422,
          -9.504918908351527,
          -8.613164720011397
         ],
         "y": [
          6.425467011014453,
          1.8514183874969017,
          8.690063971974347,
          9.179503775077233,
          5.2047452459976045,
          9.547142260664778,
          12.14983550713738,
          3.3906953601647665,
          9.526733477779572,
          17.930831588472362,
          28.437623497405855,
          7.78263276439052,
          4.491570954037463,
          12.630022999381161,
          6.92603724915307,
          11.35973699344559,
          2.2515261899708308,
          7.153150189958775,
          1.3217911350346567,
          0.2671245744378215,
          5.137444439007764,
          5.743919470581991,
          7.57771755746921,
          0.5312389717668643,
          1.9377698684961386,
          9.203350542708822,
          12.969283937173728,
          3.3264717182613905,
          2.554799899793774,
          2.446495172485737,
          8.273943160995065,
          3.3447319991474735,
          0.9284921525261188,
          0.9084919654814851,
          8.53990155014857,
          2.238249914697453,
          -0.1538049768528284,
          2.49991787118895,
          -0.4256387196369736,
          5.957758099091331,
          0.8595165408712631,
          6.307223733516381,
          2.080970953490698,
          5.46595660099311,
          4.382264175281584,
          2.6494586994011264,
          -0.9690997300511112,
          -0.6967473735470383,
          11.045020409876052,
          0.9714954268247287,
          1.509790237977076,
          0.501226696735802,
          -0.8738377964109182,
          2.50938835243372,
          1.0099098617118911,
          3.003844291174137,
          -2.500461892069959,
          -0.32491260468692285,
          0.9166141916660048,
          0.7705888089152708,
          1.9517814547480734,
          0.09445269409654153,
          -0.3293518581027119,
          0.18001906140475538,
          -0.3603897244210833,
          2.699709196053087,
          5.864922870753291,
          -0.19608084499826642,
          -0.7174527439046803,
          -0.10952662140972826,
          3.736116957485929,
          1.2324649515273458,
          0.11371588804290861,
          0.156355469092625,
          -0.11794940944190896,
          -0.8032996560839218,
          -2.19551046628331,
          -0.2639108061524713,
          -0.35965569978203976,
          0.3198401709122345,
          2.01528556534915,
          -0.11542013737834887,
          -1.369097242984504,
          -0.9483603810309486,
          15.10256502687935,
          -0.988360215497175,
          1.9384804960603557,
          -1.0040070698429484,
          -2.840375150173725,
          -0.06328883520910225,
          -0.4698477449107954,
          -1.3653082506198528,
          -1.3447364344031971,
          -2.1299601367425813,
          -1.975569645099232,
          1.5778465345239814,
          -0.8136965519707419,
          3.9346352596332985,
          -0.7158134269999167,
          -0.29473850995930256,
          3.0524606021300453,
          0.7075744736149678,
          0.5833768366996237,
          0.6919224750602095,
          -0.9435654445155767,
          3.740072925154961,
          -0.3675248972169224,
          1.0685154121348124,
          2.2027978338518874,
          4.205864783056694,
          -2.3020996641635536,
          0.16813833319943491,
          -1.9470660593538058,
          -1.9463191807982312,
          -3.898185082520785,
          0.04123511274925565,
          -0.9388100848911239,
          -0.37742804025415844,
          -1.9139262786461766,
          -1.3278534595981721,
          -0.08406385973312962,
          0.0622662620350197,
          -0.3588750892351852,
          -1.0537437991250254,
          -2.3327644019170144,
          -2.0477986318066166,
          -2.217529921880778,
          3.192235808083363,
          -0.7539008556911471,
          0.14007454662148236,
          -0.17242664760748838,
          -0.10759326957018686,
          -1.067721287740015,
          -2.22242698387147,
          0.5309502296610985,
          0.5625730803204435,
          -0.7982118458796391,
          -2.370184516632035,
          -1.7593831592177833,
          -0.9944211814838976,
          -0.6978798436625844,
          -0.03946854476880286,
          -2.0219421363476284,
          0.11282500599320605,
          7.7547960581503705,
          -1.4370933980999996,
          -2.277036925751684,
          1.881456715052615,
          -2.1365005753689683,
          -0.48498940539038043,
          -0.550969886299463,
          8.053768063565222,
          0.132306221481689,
          1.9560970848112502,
          1.1224302058078646,
          0.01100656536377191,
          -1.765387917983747,
          -3.484952059813448,
          1.7323177780629404,
          4.202820111777487,
          -0.03759972336314337,
          -1.0725432984505208,
          -0.346278815649087,
          -1.9237577643467483,
          0.873952986422824,
          -2.681951549929487,
          -1.4056776313280077,
          -3.023499735123926,
          -3.0024664898951725,
          -0.44619344629551566,
          -0.4806738933088322,
          3.188992608095878,
          -1.8433073554989077,
          -1.605489503487624,
          2.798323892881783,
          -0.6831132258667056,
          -2.8499130001445865,
          -0.921727665227175,
          0.8732189139961021,
          -2.822537587928221,
          -1.6258871909840111,
          -0.2899412679314944,
          -0.8321885261290991,
          -1.2169263464263866,
          -0.536076503939874,
          3.106328558951847,
          2.0031204729884715,
          -0.5045698974645889,
          -1.120775795084991,
          -1.0761858308027834,
          -0.18619548902604463,
          -2.365629298329421,
          -1.4277554122801361,
          -1.5725464196825547,
          -0.29654845260422463,
          -2.7365885627669355,
          -0.955406638135479,
          -0.8950860920534398,
          -0.4536032471371458,
          -0.9842787679608613,
          -4.600016225360208,
          0.12126474104250692,
          -1.9047955528180098,
          0.09193345115402511,
          -1.630940310947677,
          -0.12860151808476766,
          0.8649373584391093,
          0.9231469716664159,
          0.0028638989686050474,
          0.628683135109763,
          2.3689936181451103,
          -1.3553730191714917,
          0.4318439822972948,
          -3.4053723574495214,
          -1.7467242083871684,
          0.6032350406792382,
          -1.155497026353081,
          -3.8084544020737567,
          -1.0872900831207544,
          -5.078299461035973,
          -1.5342165539374173,
          -4.625235241415336,
          -2.0389105866195245,
          -1.6693193417930414,
          -1.5300787499382078,
          -0.996468469410305,
          -1.499237208372907,
          -2.382200677119408,
          -1.070039324510642,
          1.9333341837424185,
          -0.29690726281754776,
          -1.1283518397998225,
          3.3858476345012885,
          0.7398851002775838,
          1.497068079070432,
          -1.2014047199947813,
          -0.8898167289366842,
          0.19643449142445585,
          0.4298764066624211,
          -2.0370437906888585,
          -0.5430893344915251,
          -0.8015555703782009,
          5.368472613806163,
          0.4552901173686977,
          2.3956586678524516,
          1.871855981665148,
          3.4724778684853335,
          -1.0015486094045112,
          -1.393079522279176,
          -1.1876213235168247,
          0.7670763807117378,
          -1.4725709311483823,
          0.3128819747816698,
          -1.0665517213941191,
          3.881589568655837,
          -0.8856864579893192,
          1.1053133085371558,
          -1.4579705978159054,
          -1.3847749821118194,
          -2.1011338193938065,
          -3.2171667053976813,
          -0.81170213232492,
          -2.2776993929231257,
          -2.9715166977864507,
          -0.5975065714884559,
          1.1716257518621205,
          -1.4906833950337202,
          -2.8292695448306815,
          -0.19897815071287384,
          0.867748265092972,
          0.48132999865457,
          -1.0961499144566313,
          -3.5662712908941296,
          -1.025099475493726,
          0.3155686420795319,
          -2.3356155702320365,
          -2.2883048540396924,
          -1.156116090764585,
          -2.2170140482709293,
          -1.8745367729676925,
          2.635581465414513,
          -0.24665259161258377,
          -2.5986926096991607,
          -1.28363525446283,
          0.30255806209345254,
          -1.8035806142851443,
          -2.208371107517554,
          -0.9815561329643111,
          -0.992018367680693,
          -0.6255040511290145,
          0.975371959826419,
          -0.5546858749337213,
          0.7365768803058248,
          -0.7455348666806865,
          -2.3834243074524335,
          1.379161938746848,
          -3.5881984568048484,
          0.031833581296773064,
          -1.243674635581495,
          -1.5777846452829558,
          0.5841600833415528,
          -0.9053495729598855,
          -0.93821436714097,
          0.08226718668512323,
          -3.4843998562682734,
          -0.6632007881521914,
          -1.890376283953755,
          -2.8644021043394603,
          0.5451471626462812,
          -1.8158683216532674,
          2.1552461062914214,
          -0.6232489273548519,
          -1.9185762907841395,
          -0.6639503083817202,
          -0.5526802746555286,
          -0.14282673196754198,
          0.09322314814751723,
          -1.2721308869849275,
          -1.888899444050884,
          -0.8080203777448163,
          3.2569156429055965,
          -1.8512190760902758,
          -1.6980655893576033,
          -1.6011991337071605,
          -0.5875739931283931,
          -1.7787536100908417,
          -2.2361002188937107,
          -0.9404842004917641,
          -0.7485659357446998,
          -0.5040170389637334,
          -0.7015565263936494,
          -1.628698065220913,
          -3.0229272581883078,
          -0.9746628544079872,
          -0.9403647170179998,
          -0.6953033977269868,
          -0.7715265958708182,
          -4.534519818644085,
          -5.095718255331876,
          -1.3500638057553618,
          -0.5844228179381278,
          -1.6793009249531083,
          -1.3858097728178858,
          -1.242207861062017,
          -2.183917746884491,
          -1.3832776413680576,
          -1.243547350487356,
          -1.2637203897085616,
          1.394157475714595,
          -1.7310672180590565,
          -2.7293442241142296,
          -0.6616628801071123,
          -0.592522493093625,
          -2.675024327265372,
          -1.0538613048811916,
          -0.9208842155398788,
          -2.2274065250640454,
          -0.48835735539734704,
          -3.9744001037405265,
          -3.61716133545861,
          -2.2489309972629847,
          -2.336197990433093,
          -0.7235421151810147,
          -1.6737317189342884,
          -0.6395366722538667,
          -2.9605494025424175,
          -0.8658951673079471,
          -1.806248293702559,
          -0.11126427322594354,
          -0.13579073987843457,
          -0.1829596744302382,
          0.3401012096184625,
          -1.8394321635044248,
          -2.1551006110082715,
          -0.6341888426368919,
          -3.423835053684446,
          -2.4809238741406663,
          -3.4075191612645863,
          -2.525287343371606,
          -0.3156601182127634,
          -2.486725264246565,
          -0.7701877932153343,
          -0.34195146580328595,
          1.2538740354514215,
          2.500835292008196,
          -0.10600845964719835,
          -2.6009746899763173,
          0.8745401557993389,
          4.596854242723288,
          -3.800028264443231,
          -1.5388771392496114,
          -0.9759790449544351,
          0.40575091052344614,
          0.764745264129168,
          -1.2409375572691026,
          1.271024071529976,
          -0.48428028508300536,
          -1.7968620591056033,
          -1.3532011005097113,
          -2.336325578533728,
          -0.7128814001870528,
          -1.0975173399134404,
          -1.1749471231035162,
          -1.959761074871532,
          -2.7897225680767894,
          -0.6545957282353835,
          -0.7072664619728144,
          -1.023672096458142,
          -1.0476664398955844,
          -0.8803577229636232,
          -1.7705721923055107,
          -0.8957575328175442,
          -2.1212690922204143,
          -0.9064447396662545,
          -2.9303372771595213,
          -1.2125968651387415,
          -2.495110291443652,
          -4.159439863340856,
          -2.7050096618891866,
          -2.2369790621561187,
          -2.214191316708432,
          1.1438267439388454,
          -1.8570402748385566,
          -2.833824147064841,
          -1.8371680926669625,
          1.0757167127221745,
          -6.546776944466449,
          -4.59904158000416,
          -5.679312652617262,
          -3.118089078441703,
          1.7461002202699079,
          -3.670717908950648,
          -0.40420889806684324,
          -1.4853388432667722,
          1.291089129571282,
          0.07971512243324017,
          -0.3413411545335796,
          -1.9802078329133803,
          -1.219313234250286,
          -1.3861774226061196,
          -2.7216264189230928,
          -7.456194039170209,
          -1.37595020796545,
          -0.2022249738338688,
          -1.583877583610041,
          -2.241318898174145,
          -4.710881678569382,
          -0.8099932294188411,
          1.45612301116876,
          -4.682889169647854,
          2.1033450253589248,
          -0.7594906408034995,
          -0.6370308465314839,
          -0.04626832852645628
         ],
         "z": [
          -1.4254141051378724,
          0.7175686253885176,
          -2.4558704594803085,
          3.8393685168537646,
          -1.3168611175834777,
          4.520109082711963,
          -2.8763916579260402,
          -1.7446604596431787,
          -2.0010877574796853,
          -2.6267481694997574,
          -12.258738117659359,
          -2.298676690380628,
          0.27302586891606756,
          -4.11816223952738,
          2.8890550967085225,
          -4.600137755484586,
          -0.805491816685137,
          -1.6289025695624806,
          -0.6727158697528973,
          -0.48265897583934847,
          -0.9188064960749421,
          8.337872529832552,
          1.8763292281077626,
          -1.1905445407590918,
          0.08354643104563103,
          4.009258100483284,
          16.500254287136055,
          0.898943919340957,
          -0.7212122215779262,
          -1.250283196177874,
          3.6111779122827072,
          6.8030129089182365,
          1.3369749120935401,
          -1.287528465863989,
          -1.3753735681497683,
          -1.0927374096703344,
          -1.177509073671407,
          -2.4666722601264492,
          0.2657292618612473,
          6.6462070692322675,
          -0.2545854457658396,
          -0.4544994406868771,
          2.5106795416719025,
          3.572384570068304,
          0.13073576078697433,
          -1.8808264178024887,
          1.9079761226201903,
          -0.29000297507227396,
          -3.2235893526165857,
          -1.265281937137816,
          -0.8325635245644156,
          -0.628886685669445,
          -0.1892228344958773,
          0.7138313173643511,
          -1.611969607180265,
          2.205291527362968,
          1.5237041842691903,
          -1.0677990306641412,
          -0.7399961717926887,
          1.2063039157895645,
          -1.3467110924294128,
          -0.47261634636415145,
          0.3203459966206988,
          -0.6310607530209594,
          -0.22794348303414605,
          4.307061547487955,
          0.8116590192368468,
          -1.0753811544380392,
          -0.33414859785343126,
          -1.1519322309602071,
          -1.4772853275384956,
          -0.5743370191181791,
          1.6301819072666177,
          -1.1491938591749378,
          1.9635392305237516,
          0.6276018178955745,
          -0.18711450389868223,
          1.3503738769044908,
          -3.1493715178137998,
          -1.0729497262501104,
          -1.8108411431177494,
          0.06336757778469998,
          0.8938873204458081,
          0.42189368489118706,
          9.376972094637066,
          -0.3033903537439128,
          0.4096305001189845,
          -0.8587074727388726,
          -1.064661765902517,
          0.6481172696562042,
          0.963654262412111,
          -1.39107205184806,
          -1.0985027525259505,
          -0.8092595455748826,
          -0.2449628768210402,
          -1.1997306325670631,
          -0.24456854026146152,
          -1.888688229396084,
          -0.7275317378654418,
          -0.15731123301644614,
          -2.0537643517606163,
          -0.128166077100288,
          -1.2347787538174924,
          -0.40178621483417715,
          -0.148421378114565,
          -1.6084275737401081,
          -0.3240200365664009,
          -0.14483563006096545,
          -2.2388164548387017,
          -2.470127466316977,
          -0.4865630392971667,
          -0.894389867005896,
          -0.9952822634754707,
          -0.6130415627952289,
          -3.071625985277716,
          -0.6080757854114268,
          -0.6087807953321985,
          -0.6220943725256262,
          0.8100186590760986,
          -1.170760531401916,
          -0.6087253723593173,
          3.716358289898545,
          -0.55814496984502,
          -0.44856423340936413,
          -0.9543838867919626,
          3.669030304219275,
          -0.9448750591020358,
          -1.0379817272722187,
          -1.0216165107815272,
          -0.2927014246670372,
          -0.01485798572644663,
          -0.3892180683085359,
          -0.5950000976419783,
          -0.29432693911556856,
          -0.6409444919873818,
          -0.6340462803295447,
          0.06435879660264392,
          -1.5660828290863162,
          0.6942381212712635,
          -0.05042228823475321,
          -0.308787531782289,
          -0.3955238968664885,
          1.0187913853752064,
          -0.24767131603292183,
          -1.0412281236950243,
          -0.279150426648697,
          -1.3756431579960533,
          0.2540299583518357,
          -0.138318451073824,
          1.0027635836582633,
          -0.8344828349027201,
          -2.082548651124567,
          1.2260984285171437,
          1.1259568739191708,
          -1.2020873801830079,
          2.02747688002702,
          -0.44473230010748094,
          1.7980312151746474,
          -0.9189388222277748,
          -0.5578535362854145,
          0.9309407291085501,
          0.8647505611095585,
          -0.3029875621759139,
          0.6385924299608238,
          -1.3258638462301,
          -0.29588423235214567,
          0.2486832964294997,
          -1.4924573165891264,
          -1.1154332300211554,
          -0.33807618771952075,
          -0.6905501146559145,
          0.7233597510836224,
          0.47932312401687843,
          -0.172405728592113,
          -2.7278069414865085,
          -1.3501759297177218,
          0.37852778948568927,
          -1.6646664795611625,
          -1.5079542996089947,
          -0.4223056413664697,
          -0.7020163185489159,
          -0.49036569612639214,
          0.37451227072339305,
          -0.03567642053046508,
          -0.4498152920393635,
          -2.4803432631986597,
          0.8636784748586485,
          -0.8389038868751397,
          -0.19445264563055506,
          -0.572270800075543,
          -0.25302131346190004,
          0.6839102381648161,
          0.38524453876006265,
          -0.17415105949208998,
          -0.5529103279801829,
          0.3550115509235042,
          -0.34781221005595164,
          -0.5124847499321575,
          -0.5916984912767179,
          -1.0176345816296788,
          -0.7707398567084087,
          0.6446931230944852,
          0.6293467754202008,
          -0.643632769020945,
          1.3346629516607653,
          -0.6191428635780496,
          -1.500642146160147,
          4.321513871054335,
          -0.47763719290206114,
          0.40827470903450436,
          -1.5747270493830887,
          0.26706289272713596,
          0.6375032080685833,
          2.227453060739721,
          0.4967779730855308,
          -1.17341049918797,
          3.9397437409193765,
          -2.8110373918256246,
          0.48553837334551087,
          -2.3504491155882494,
          0.00396024465617375,
          -1.9790183904126182,
          -0.9456789804239384,
          -1.4593804071215242,
          0.1663059932703237,
          -0.5849660788305928,
          0.2796467313417368,
          1.135503412819802,
          1.0686927066829888,
          -1.480012766698977,
          -0.47184471423326796,
          -0.7743925572150815,
          -1.3177361406829498,
          -1.2925318394505676,
          -0.3152903623390242,
          -0.4275259203103592,
          -0.5842236606478289,
          -0.28011811949847154,
          -1.953871024707566,
          -0.4636117208587874,
          3.849398614355019,
          0.8558562561323401,
          -1.5967985473624509,
          0.026510264847515588,
          -1.1843756098020093,
          -1.1034610719780888,
          -0.8334917406639264,
          0.8317058128029237,
          -0.49447385104969915,
          -0.2598964347882702,
          -2.126058744924027,
          -0.36170421924056645,
          6.5708586544727865,
          -0.18697067580127483,
          -1.6830881427131714,
          -0.6234809843701077,
          1.3139597444590374,
          2.4569199162323714,
          5.222517561700028,
          0.9411117207159431,
          1.3814820374699004,
          0.20200957325397123,
          -0.43937148669635284,
          -1.1762671363696942,
          -0.269940391701321,
          -0.8513453221558639,
          -0.31700339167711294,
          -0.8850810716580924,
          0.18254731788364717,
          -0.8614533555608673,
          -0.9155981600387131,
          -0.3546522886220961,
          2.901912110515345,
          -0.10314560925507939,
          0.5551312733095108,
          -0.7114268263584572,
          -0.8765534940762384,
          1.3270328235126994,
          -0.06721538523120865,
          0.551366725159123,
          1.7688324628633003,
          0.39063475460786873,
          0.5095112770439062,
          -0.51974184353488,
          -0.3239001273068389,
          -0.6709479204388048,
          -0.5343906445937595,
          1.207608579887953,
          -0.2932620479742919,
          -0.24012016738723876,
          1.7636580494804472,
          -0.5245159129571471,
          -0.4937774602070874,
          0.49259814531115104,
          -0.18240862612652392,
          -0.09413735236894157,
          -1.266208372159646,
          -1.7966642264321375,
          -0.5271449190311283,
          -0.5918518451476613,
          -1.142260404671097,
          -0.0036905608201307674,
          -0.3047760373159936,
          -0.8855071575928857,
          -1.4205498891019959,
          2.5521666841507096,
          -1.3347169408134762,
          1.1657383314095235,
          1.8304092129545178,
          0.14022106380621804,
          2.5557806981287636,
          -0.1377100689275572,
          -1.2325617141517413,
          -0.5389556771173024,
          -0.12747213305948443,
          0.6584941130591051,
          -0.6407754843624829,
          0.16154352705492248,
          -1.4383938407862178,
          -0.2164023047840336,
          22.498737668263168,
          1.8284110608282067,
          1.0869531195707944,
          -0.40215878063625565,
          -0.0761509131182738,
          7.519499135914706,
          0.12456209067201109,
          0.7635467011200833,
          0.8417068678370165,
          -0.5401142167233242,
          -0.285785667529275,
          -0.48189131116330086,
          0.24949631626263113,
          -0.3944779771655193,
          5.562286163359604,
          -0.21030984239957654,
          -1.0231663120174135,
          -0.4560741447178203,
          -0.08221016235065903,
          -1.27638956368405,
          -0.5983575340873676,
          -0.568779373880564,
          0.4245003012889503,
          1.8620121255473503,
          -0.16579990890342247,
          -0.2792810351636277,
          -0.8446950371953817,
          -1.0855574329137654,
          -0.8020160688671403,
          -0.5933360957409706,
          -0.4541943838167515,
          -0.15152931119983837,
          -0.14519911803389907,
          -1.9504061394368586,
          -0.2448281554438765,
          -0.0022456053617061363,
          0.3857160889661313,
          8.380749307648315,
          -0.5212203103272252,
          -1.0970467742475636,
          -0.47577374470777845,
          -0.3927821753120163,
          -0.5443047458116095,
          -1.3543628233293652,
          -0.07901908989945328,
          0.28493859175535097,
          -0.8183678650875343,
          -0.6491720120249157,
          -0.4705414123312632,
          -0.5574083225024791,
          -0.6087442137414948,
          -0.9254926385276411,
          -0.1812231327166594,
          0.1462226503968066,
          -0.2695426128388861,
          -0.5005531633282986,
          1.8223325215511732,
          0.11839861316877133,
          -1.0898793868647685,
          3.5055988957773137,
          0.20225376838888678,
          -0.19996476833566434,
          -0.4339465687906829,
          -0.6405791831736893,
          0.1818439273978,
          -0.6613036604784849,
          6.208229987190038,
          2.7594310050706956,
          -1.0511434065748768,
          -0.4397193437694227,
          -1.9637376963653428,
          2.450046143230313,
          -0.9580400182491957,
          -2.3331876885871825,
          -0.054356682313284846,
          -0.8731730046822755,
          -0.39302569666291814,
          0.4867837397111428,
          0.20214560701861342,
          -1.5249037458343913,
          -0.16801676351877665,
          -1.5696135742441728,
          -0.45254468188972746,
          -0.021811550402390224,
          -0.3822445362743369,
          -1.038075048005418,
          -0.514950018834782,
          -0.6420688257120307,
          -0.16130074014293266,
          -0.5278279537913284,
          -1.009604064065817,
          -0.1870682768505294,
          -0.09195081573015167,
          -1.0941483455705248,
          -0.42905835244487867,
          -0.9666916921473276,
          -0.4361544555319614,
          0.6003449440317833,
          -0.14905447653509585,
          2.9188271823433913,
          -0.5656984246817234,
          0.15472117686237527,
          0.18645671908267925,
          5.00071679650906,
          0.05178078098056933,
          0.28071996721861037,
          -4.016151165840007,
          0.7664007407963329,
          -2.1606537691400014,
          0.16786041589188266,
          1.211289821539872,
          -0.823320465004827,
          -0.1615404337921967,
          -1.8117581661085682,
          -0.21325134285722186,
          0.04465847851241797,
          0.4072848947696434,
          3.3456811456181734,
          1.2846951040247525,
          -0.8165923575475167,
          -1.0178532801409108,
          0.20692519641532056,
          -0.22566552745083204,
          -0.46750589521523556,
          -2.5654765830691315,
          3.8222883303404624,
          -0.9039528706731845,
          0.2727669557446382,
          -1.226908394791757,
          -0.3155979437884275,
          -0.5798988600316899,
          -0.11813318424279469,
          -0.030330721721737734,
          -0.27364578013055807
         ]
        }
       ],
       "layout": {
        "height": 600,
        "legend": {
         "tracegroupgap": 0
        },
        "margin": {
         "t": 60
        },
        "scene": {
         "domain": {
          "x": [
           0,
           1
          ],
          "y": [
           0,
           1
          ]
         },
         "xaxis": {
          "title": {
           "text": "principal component 1"
          }
         },
         "yaxis": {
          "title": {
           "text": "principal component 2"
          }
         },
         "zaxis": {
          "title": {
           "text": "principal component 3"
          }
         }
        },
        "template": {
         "data": {
          "bar": [
           {
            "error_x": {
             "color": "#2a3f5f"
            },
            "error_y": {
             "color": "#2a3f5f"
            },
            "marker": {
             "line": {
              "color": "#E5ECF6",
              "width": 0.5
             }
            },
            "type": "bar"
           }
          ],
          "barpolar": [
           {
            "marker": {
             "line": {
              "color": "#E5ECF6",
              "width": 0.5
             }
            },
            "type": "barpolar"
           }
          ],
          "carpet": [
           {
            "aaxis": {
             "endlinecolor": "#2a3f5f",
             "gridcolor": "white",
             "linecolor": "white",
             "minorgridcolor": "white",
             "startlinecolor": "#2a3f5f"
            },
            "baxis": {
             "endlinecolor": "#2a3f5f",
             "gridcolor": "white",
             "linecolor": "white",
             "minorgridcolor": "white",
             "startlinecolor": "#2a3f5f"
            },
            "type": "carpet"
           }
          ],
          "choropleth": [
           {
            "colorbar": {
             "outlinewidth": 0,
             "ticks": ""
            },
            "type": "choropleth"
           }
          ],
          "contour": [
           {
            "colorbar": {
             "outlinewidth": 0,
             "ticks": ""
            },
            "colorscale": [
             [
              0,
              "#0d0887"
             ],
             [
              0.1111111111111111,
              "#46039f"
             ],
             [
              0.2222222222222222,
              "#7201a8"
             ],
             [
              0.3333333333333333,
              "#9c179e"
             ],
             [
              0.4444444444444444,
              "#bd3786"
             ],
             [
              0.5555555555555556,
              "#d8576b"
             ],
             [
              0.6666666666666666,
              "#ed7953"
             ],
             [
              0.7777777777777778,
              "#fb9f3a"
             ],
             [
              0.8888888888888888,
              "#fdca26"
             ],
             [
              1,
              "#f0f921"
             ]
            ],
            "type": "contour"
           }
          ],
          "contourcarpet": [
           {
            "colorbar": {
             "outlinewidth": 0,
             "ticks": ""
            },
            "type": "contourcarpet"
           }
          ],
          "heatmap": [
           {
            "colorbar": {
             "outlinewidth": 0,
             "ticks": ""
            },
            "colorscale": [
             [
              0,
              "#0d0887"
             ],
             [
              0.1111111111111111,
              "#46039f"
             ],
             [
              0.2222222222222222,
              "#7201a8"
             ],
             [
              0.3333333333333333,
              "#9c179e"
             ],
             [
              0.4444444444444444,
              "#bd3786"
             ],
             [
              0.5555555555555556,
              "#d8576b"
             ],
             [
              0.6666666666666666,
              "#ed7953"
             ],
             [
              0.7777777777777778,
              "#fb9f3a"
             ],
             [
              0.8888888888888888,
              "#fdca26"
             ],
             [
              1,
              "#f0f921"
             ]
            ],
            "type": "heatmap"
           }
          ],
          "heatmapgl": [
           {
            "colorbar": {
             "outlinewidth": 0,
             "ticks": ""
            },
            "colorscale": [
             [
              0,
              "#0d0887"
             ],
             [
              0.1111111111111111,
              "#46039f"
             ],
             [
              0.2222222222222222,
              "#7201a8"
             ],
             [
              0.3333333333333333,
              "#9c179e"
             ],
             [
              0.4444444444444444,
              "#bd3786"
             ],
             [
              0.5555555555555556,
              "#d8576b"
             ],
             [
              0.6666666666666666,
              "#ed7953"
             ],
             [
              0.7777777777777778,
              "#fb9f3a"
             ],
             [
              0.8888888888888888,
              "#fdca26"
             ],
             [
              1,
              "#f0f921"
             ]
            ],
            "type": "heatmapgl"
           }
          ],
          "histogram": [
           {
            "marker": {
             "colorbar": {
              "outlinewidth": 0,
              "ticks": ""
             }
            },
            "type": "histogram"
           }
          ],
          "histogram2d": [
           {
            "colorbar": {
             "outlinewidth": 0,
             "ticks": ""
            },
            "colorscale": [
             [
              0,
              "#0d0887"
             ],
             [
              0.1111111111111111,
              "#46039f"
             ],
             [
              0.2222222222222222,
              "#7201a8"
             ],
             [
              0.3333333333333333,
              "#9c179e"
             ],
             [
              0.4444444444444444,
              "#bd3786"
             ],
             [
              0.5555555555555556,
              "#d8576b"
             ],
             [
              0.6666666666666666,
              "#ed7953"
             ],
             [
              0.7777777777777778,
              "#fb9f3a"
             ],
             [
              0.8888888888888888,
              "#fdca26"
             ],
             [
              1,
              "#f0f921"
             ]
            ],
            "type": "histogram2d"
           }
          ],
          "histogram2dcontour": [
           {
            "colorbar": {
             "outlinewidth": 0,
             "ticks": ""
            },
            "colorscale": [
             [
              0,
              "#0d0887"
             ],
             [
              0.1111111111111111,
              "#46039f"
             ],
             [
              0.2222222222222222,
              "#7201a8"
             ],
             [
              0.3333333333333333,
              "#9c179e"
             ],
             [
              0.4444444444444444,
              "#bd3786"
             ],
             [
              0.5555555555555556,
              "#d8576b"
             ],
             [
              0.6666666666666666,
              "#ed7953"
             ],
             [
              0.7777777777777778,
              "#fb9f3a"
             ],
             [
              0.8888888888888888,
              "#fdca26"
             ],
             [
              1,
              "#f0f921"
             ]
            ],
            "type": "histogram2dcontour"
           }
          ],
          "mesh3d": [
           {
            "colorbar": {
             "outlinewidth": 0,
             "ticks": ""
            },
            "type": "mesh3d"
           }
          ],
          "parcoords": [
           {
            "line": {
             "colorbar": {
              "outlinewidth": 0,
              "ticks": ""
             }
            },
            "type": "parcoords"
           }
          ],
          "pie": [
           {
            "automargin": true,
            "type": "pie"
           }
          ],
          "scatter": [
           {
            "marker": {
             "colorbar": {
              "outlinewidth": 0,
              "ticks": ""
             }
            },
            "type": "scatter"
           }
          ],
          "scatter3d": [
           {
            "line": {
             "colorbar": {
              "outlinewidth": 0,
              "ticks": ""
             }
            },
            "marker": {
             "colorbar": {
              "outlinewidth": 0,
              "ticks": ""
             }
            },
            "type": "scatter3d"
           }
          ],
          "scattercarpet": [
           {
            "marker": {
             "colorbar": {
              "outlinewidth": 0,
              "ticks": ""
             }
            },
            "type": "scattercarpet"
           }
          ],
          "scattergeo": [
           {
            "marker": {
             "colorbar": {
              "outlinewidth": 0,
              "ticks": ""
             }
            },
            "type": "scattergeo"
           }
          ],
          "scattergl": [
           {
            "marker": {
             "colorbar": {
              "outlinewidth": 0,
              "ticks": ""
             }
            },
            "type": "scattergl"
           }
          ],
          "scattermapbox": [
           {
            "marker": {
             "colorbar": {
              "outlinewidth": 0,
              "ticks": ""
             }
            },
            "type": "scattermapbox"
           }
          ],
          "scatterpolar": [
           {
            "marker": {
             "colorbar": {
              "outlinewidth": 0,
              "ticks": ""
             }
            },
            "type": "scatterpolar"
           }
          ],
          "scatterpolargl": [
           {
            "marker": {
             "colorbar": {
              "outlinewidth": 0,
              "ticks": ""
             }
            },
            "type": "scatterpolargl"
           }
          ],
          "scatterternary": [
           {
            "marker": {
             "colorbar": {
              "outlinewidth": 0,
              "ticks": ""
             }
            },
            "type": "scatterternary"
           }
          ],
          "surface": [
           {
            "colorbar": {
             "outlinewidth": 0,
             "ticks": ""
            },
            "colorscale": [
             [
              0,
              "#0d0887"
             ],
             [
              0.1111111111111111,
              "#46039f"
             ],
             [
              0.2222222222222222,
              "#7201a8"
             ],
             [
              0.3333333333333333,
              "#9c179e"
             ],
             [
              0.4444444444444444,
              "#bd3786"
             ],
             [
              0.5555555555555556,
              "#d8576b"
             ],
             [
              0.6666666666666666,
              "#ed7953"
             ],
             [
              0.7777777777777778,
              "#fb9f3a"
             ],
             [
              0.8888888888888888,
              "#fdca26"
             ],
             [
              1,
              "#f0f921"
             ]
            ],
            "type": "surface"
           }
          ],
          "table": [
           {
            "cells": {
             "fill": {
              "color": "#EBF0F8"
             },
             "line": {
              "color": "white"
             }
            },
            "header": {
             "fill": {
              "color": "#C8D4E3"
             },
             "line": {
              "color": "white"
             }
            },
            "type": "table"
           }
          ]
         },
         "layout": {
          "annotationdefaults": {
           "arrowcolor": "#2a3f5f",
           "arrowhead": 0,
           "arrowwidth": 1
          },
          "coloraxis": {
           "colorbar": {
            "outlinewidth": 0,
            "ticks": ""
           }
          },
          "colorscale": {
           "diverging": [
            [
             0,
             "#8e0152"
            ],
            [
             0.1,
             "#c51b7d"
            ],
            [
             0.2,
             "#de77ae"
            ],
            [
             0.3,
             "#f1b6da"
            ],
            [
             0.4,
             "#fde0ef"
            ],
            [
             0.5,
             "#f7f7f7"
            ],
            [
             0.6,
             "#e6f5d0"
            ],
            [
             0.7,
             "#b8e186"
            ],
            [
             0.8,
             "#7fbc41"
            ],
            [
             0.9,
             "#4d9221"
            ],
            [
             1,
             "#276419"
            ]
           ],
           "sequential": [
            [
             0,
             "#0d0887"
            ],
            [
             0.1111111111111111,
             "#46039f"
            ],
            [
             0.2222222222222222,
             "#7201a8"
            ],
            [
             0.3333333333333333,
             "#9c179e"
            ],
            [
             0.4444444444444444,
             "#bd3786"
            ],
            [
             0.5555555555555556,
             "#d8576b"
            ],
            [
             0.6666666666666666,
             "#ed7953"
            ],
            [
             0.7777777777777778,
             "#fb9f3a"
            ],
            [
             0.8888888888888888,
             "#fdca26"
            ],
            [
             1,
             "#f0f921"
            ]
           ],
           "sequentialminus": [
            [
             0,
             "#0d0887"
            ],
            [
             0.1111111111111111,
             "#46039f"
            ],
            [
             0.2222222222222222,
             "#7201a8"
            ],
            [
             0.3333333333333333,
             "#9c179e"
            ],
            [
             0.4444444444444444,
             "#bd3786"
            ],
            [
             0.5555555555555556,
             "#d8576b"
            ],
            [
             0.6666666666666666,
             "#ed7953"
            ],
            [
             0.7777777777777778,
             "#fb9f3a"
            ],
            [
             0.8888888888888888,
             "#fdca26"
            ],
            [
             1,
             "#f0f921"
            ]
           ]
          },
          "colorway": [
           "#636efa",
           "#EF553B",
           "#00cc96",
           "#ab63fa",
           "#FFA15A",
           "#19d3f3",
           "#FF6692",
           "#B6E880",
           "#FF97FF",
           "#FECB52"
          ],
          "font": {
           "color": "#2a3f5f"
          },
          "geo": {
           "bgcolor": "white",
           "lakecolor": "white",
           "landcolor": "#E5ECF6",
           "showlakes": true,
           "showland": true,
           "subunitcolor": "white"
          },
          "hoverlabel": {
           "align": "left"
          },
          "hovermode": "closest",
          "mapbox": {
           "style": "light"
          },
          "paper_bgcolor": "white",
          "plot_bgcolor": "#E5ECF6",
          "polar": {
           "angularaxis": {
            "gridcolor": "white",
            "linecolor": "white",
            "ticks": ""
           },
           "bgcolor": "#E5ECF6",
           "radialaxis": {
            "gridcolor": "white",
            "linecolor": "white",
            "ticks": ""
           }
          },
          "scene": {
           "xaxis": {
            "backgroundcolor": "#E5ECF6",
            "gridcolor": "white",
            "gridwidth": 2,
            "linecolor": "white",
            "showbackground": true,
            "ticks": "",
            "zerolinecolor": "white"
           },
           "yaxis": {
            "backgroundcolor": "#E5ECF6",
            "gridcolor": "white",
            "gridwidth": 2,
            "linecolor": "white",
            "showbackground": true,
            "ticks": "",
            "zerolinecolor": "white"
           },
           "zaxis": {
            "backgroundcolor": "#E5ECF6",
            "gridcolor": "white",
            "gridwidth": 2,
            "linecolor": "white",
            "showbackground": true,
            "ticks": "",
            "zerolinecolor": "white"
           }
          },
          "shapedefaults": {
           "line": {
            "color": "#2a3f5f"
           }
          },
          "ternary": {
           "aaxis": {
            "gridcolor": "white",
            "linecolor": "white",
            "ticks": ""
           },
           "baxis": {
            "gridcolor": "white",
            "linecolor": "white",
            "ticks": ""
           },
           "bgcolor": "#E5ECF6",
           "caxis": {
            "gridcolor": "white",
            "linecolor": "white",
            "ticks": ""
           }
          },
          "title": {
           "x": 0.05
          },
          "xaxis": {
           "automargin": true,
           "gridcolor": "white",
           "linecolor": "white",
           "ticks": "",
           "title": {
            "standoff": 15
           },
           "zerolinecolor": "white",
           "zerolinewidth": 2
          },
          "yaxis": {
           "automargin": true,
           "gridcolor": "white",
           "linecolor": "white",
           "ticks": "",
           "title": {
            "standoff": 15
           },
           "zerolinecolor": "white",
           "zerolinewidth": 2
          }
         }
        }
       }
      },
      "text/html": [
       "<div>\n",
       "        \n",
       "        \n",
       "            <div id=\"013fa130-3fad-4b66-a478-6b1ad7fbc942\" class=\"plotly-graph-div\" style=\"height:600px; width:100%;\"></div>\n",
       "            <script type=\"text/javascript\">\n",
       "                require([\"plotly\"], function(Plotly) {\n",
       "                    window.PLOTLYENV=window.PLOTLYENV || {};\n",
       "                    \n",
       "                if (document.getElementById(\"013fa130-3fad-4b66-a478-6b1ad7fbc942\")) {\n",
       "                    Plotly.newPlot(\n",
       "                        '013fa130-3fad-4b66-a478-6b1ad7fbc942',\n",
       "                        [{\"hoverlabel\": {\"namelength\": 0}, \"hovertemplate\": \"principal component 1=%{x}<br>principal component 2=%{y}<br>principal component 3=%{z}\", \"legendgroup\": \"\", \"marker\": {\"color\": \"#636efa\", \"opacity\": 0.7, \"symbol\": \"circle\"}, \"mode\": \"markers\", \"name\": \"\", \"scene\": \"scene\", \"showlegend\": false, \"type\": \"scatter3d\", \"x\": [0.6733614495997104, -3.1236158051333702, 1.9284483392651979, 1.3816039679693934, -2.7773889082738843, 3.1098592124999835, 5.862607376511153, -3.872212434647552, -3.3657996314878793, 9.307582389660626, 18.77848735532234, -1.7290625437577674, -6.316936018544062, 2.0516796793424654, 1.2070984225314705, 2.3042583249873485, 0.14456124928711964, 5.843355704221163, -6.698433209695101, -7.385291686110582, 4.39616214952979, 1.4668103644181971, 4.752379755709672, 7.667735142339453, 1.4888278272910678, 11.594961591609254, 10.299745267299079, -2.0263665794119867, -4.15213501317616, -2.0847929619205203, 4.751686188731153, 6.398510511812629, -2.438342766265833, 3.072838876454305, -0.14537125354298713, -0.459809749579765, -1.5926901866493957, -3.4361433169466777, -1.5319147836823177, 1.7065703034833497, -3.0916965908987804, 4.015962689256134, 19.75576330643241, 6.559886151104321, -2.7075034014064916, 3.039987760563335, 2.579850854923071, -7.248070538237037, -0.42066687021601734, -7.755413374627239, -4.872560567697254, -5.726012371916509, -6.637612330607021, -1.3517164293286228, 6.87633902836866, 2.10847872849837, 8.88172462697082, -5.989014716157163, -2.8594801196584263, 0.3268439652038669, -6.250361330050029, -9.406282220487121, -7.740226719603422, -8.399839710175783, -8.942924569537764, -6.321754483680701, 6.943559680296757, -4.388012001546485, -7.775941690476267, -4.863132766712208, -0.6315415076972062, -5.050450465410159, -7.698934931836542, 9.285109277836998, 1.598572827403291, -6.369317773853112, -1.2490479336344664, -2.273498005445607, 3.3587646976378775, -1.2749139345639098, -3.7796591863556457, -6.262083216552525, 7.2013699023762365, 3.4302348889328957, 3.8092150054555636, -3.570429458613461, -3.09911804840302, -3.255375662022335, 15.331704927128422, -6.6761083336628895, 1.434337377268377, -1.863498897086422, 0.29750779065167715, 2.4319992614233543, 7.110201793544194, 4.903009540418897, -8.55373349300283, 5.69362604785494, -1.4550087232676727, -6.136724937662719, -1.0256297565063002, -3.491802117610236, -2.87189166562375, -7.3580706819963755, -8.138104350749485, 2.45973693117982, -4.624393828307245, -0.7207553297525406, 0.9770972454542047, 8.786597553899181, 3.084091182364625, -5.525203033214908, 7.206125985223744, 2.061183859997509, 9.530985076687864, 2.2097688338040986, -1.3830315957541313, -1.9649339511877097, -0.6742398124557708, -2.589883865703186, -5.36949087241404, 0.21769441038212445, -6.004420222361107, -7.060738967463678, 3.8569680167834828, 8.57168394070599, 1.66701788207808, 6.816273752010437, 17.135549519109162, -1.300233593150866, -5.560490811565633, -5.162928233592798, -6.405222657892681, 7.210027023188273, -7.227945741452261, -0.0266894086883287, -2.8059967334649576, 8.996770759907685, -2.6893726095212465, -8.120093620415778, -8.053182606348093, -2.5989134299183236, 0.9626650622926008, -2.7486526614076214, 9.443951724801602, -4.5045106250033795, 4.351150232552314, -1.373924318257028, -3.3542894265121075, -3.354717213481668, -5.794079311042151, 8.931973111410331, 2.127104458759603, 2.621744843744879, 3.530995351434583, -0.3368228623887258, 3.799289076731731, 11.854604576348995, -5.175480618625455, -1.7833233636411905, -1.6993182523205255, 14.848668954987904, -9.225401256418778, 10.656808405698525, 4.350449670299869, 2.0519609547318827, 3.193972420812055, 4.795484281293643, 14.09131440434864, -6.8215915267123215, 0.12974431146633375, 8.345297928124019, -2.5243910309472932, -4.48616486489633, 6.880827541543506, 4.573566675400201, 7.222042694539289, 3.922669415894724, 3.3073032182757403, 12.974914648100134, -1.396582267671166, -8.981256274423545, -2.658977969800206, -6.05932980816214, -6.445267557731187, -3.5650434685351113, -2.780266334489823, -1.9275407303195242, -6.861665268774389, -4.569317147883831, -8.577725899065811, 2.1021656221097267, 0.9011111309467357, -3.636197250229563, -3.8416792601211847, 0.39463543321031336, -4.04043663380376, 0.5949387045765187, 4.920404159395819, -5.152772018402737, 16.147340666075767, 2.7879352763441836, 2.275184289157997, -2.8866087981715176, -1.8200893967764153, -7.856946365906073, 2.8774344481428864, 2.615054001946292, -4.888914505096659, 2.6915005015131266, 2.3998156587528805, 4.376267418447616, -6.282788627053812, 10.116344113972893, -0.28204482062308545, -4.517236814017612, -1.4858284729635916, 14.081468616202082, -1.3373174185129437, 19.348468432507946, 1.5904236584300013, 9.928690031453375, 0.6354494414746806, 4.762862238275554, -4.6225800656311264, -3.250657917771454, -5.383045206721013, -0.9520235749512018, -4.558522127915002, -1.5622159909752618, -4.74052870852858, -1.3034166107830774, -0.04498634963463855, 0.23673190550982262, -2.8599537710343457, -2.9636763342071597, -6.916507577928266, -4.86935044173139, 1.183173042651027, 0.42786039864565806, 12.9304202416385, 0.5294549849369377, -0.2590739696108976, -4.097258024793358, 0.6904210463342854, -3.5328449253738126, 0.6394282732927342, 0.1222155946753702, -1.3247501954399772, 0.9635845982209742, 15.563046742835645, -2.559527975921273, -3.970807744773643, -2.458156547961986, -0.7343202167077497, -1.1611618486698927, -0.7788731416686465, -0.8253687935948233, 0.9398358817594655, -3.3927694971247746, 4.811574333926188, -6.18747412366083, 1.830695155819823, 3.454699310445917, -5.844133603296211, 0.4853585374523927, -5.650354343910885, 1.7784652057018557, 0.2980480743785147, -0.7021800548877691, -3.615486870906659, -1.8637213713081207, 8.043745675771673, -4.79073458011865, -3.2655158965859727, 1.9601865814608528, 1.279434737694926, 0.43189584930886193, -2.9315294556469436, -4.0153506265133965, 7.310507308976484, -0.02447001714023642, 1.0239165641620065, -4.817499613793829, -8.743552707884781, -2.398582095262923, -2.1708482344419093, -2.0407132839192257, -6.46395968856683, -9.292453638538879, 2.1843181630698125, -2.166712512058393, -3.67869617664613, -8.04740172963241, 6.672869100424777, -4.750852506069799, 4.677125975840811, 2.0144010060936863, -2.684395295534592, -5.180099150046642, -3.651467399116441, -7.8745044716467385, -8.377077663951471, -1.7198228992540585, 6.896215056656453, 6.046939605015988, 2.383146584090794, 8.90622586305003, 4.874286210549662, -1.7276832858336497, 6.0194851307019395, -9.4274302012035, -1.3863554100082753, -6.798179326129045, -9.683620712986723, -7.8160000823427715, -0.974120285039511, -0.31328315550429736, 0.27630987585933053, -8.792277769254895, -3.84683486374173, 2.808169706849367, -3.889923818847249, -0.306289738067495, -9.511527891085798, 13.600395324850766, 0.535058816915127, -7.861912488241544, -2.3900241348449143, -5.823635374111451, -7.6286835676736935, -5.581492101744991, 0.3186425466513513, -5.614144300744147, -2.866260318197827, -8.185825962859617, -5.75871591549175, 8.863569459558766, 9.442451949717963, -0.6869225011470285, -8.21515217357849, -1.8534156443288474, -3.747460532202458, 2.7237340841243403, 0.4701415924313527, -5.913404688895693, -1.5393524542744623, -1.976436494065541, -5.040668739992525, 2.653828599781349, -1.858372141095588, -9.183846776961364, -5.803014843890281, 12.832823762368628, 1.2627385580223693, -1.538576365246873, 8.717213823991425, -1.2091800155819623, 7.299994819125274, 13.178007873127813, 1.711270082909524, 1.12202797652811, -0.5152064897800671, -1.3656350364966778, -9.37240383025624, 0.12256597042606086, -7.86569103324584, -0.32736974176174527, -8.655699678085798, -9.009081078515567, -4.693328337497301, -3.18662223616271, -4.296444539751607, 1.0354858593858887, -9.29747966162567, 5.435241379448497, -0.3342094096504819, 11.680100202657272, 3.3867487474626965, 6.610718578475811, 1.4924868144418515, -8.402689942961521, -9.297177990702068, -2.2615723354805843, -2.6969760397491185, 1.4800776103409299, 9.786161901622336, -1.5846119761482251, 2.0544831909465064, 6.812178957989143, 9.76487731833002, -1.4510934635790818, -0.45253272216261525, 5.709069723064928, -1.4293967840782078, 1.685739808116071, -0.9394954614879958, -1.1868458692720254, -5.279618491374589, 6.62753012502662, -9.19624164736423, 0.247034686399847, -1.5808904726108282, -0.6619428356901457, 3.2084708054658515, -4.543695962422082, -4.791761566892482, -5.148271522435252, -6.459374979064636, -5.614385480495322, -2.8657605426675046, -7.578355261412664, -0.35025988979978256, -4.504729452219624, 4.031777705678142, -2.209904302207475, 2.527481582051059, 6.801373566972226, 0.5464210228344061, -1.3339081316743802, -1.0831071869342532, 0.7129232441882739, -4.4883892616085586, 3.3306342335924617, -3.8061369006305354, 15.866592004269389, 31.965033640959447, 5.853069075453785, 20.353299711377126, 3.5390935946477775, -1.6912412412464095, 8.44089277793054, -7.747291289774516, 8.298351861933291, 5.413481255341893, 6.5523022462752145, 1.1661527076719842, 7.164052323983767, -2.3630024296879295, 1.5947429635076482, 7.981669469729219, 25.60225268557501, -6.391237921228985, -8.995572561377044, 5.7315600433557305, 7.301292171293527, 12.630210834071375, -6.627089922687821, 6.958872040982362, 10.24708059517693, 1.4194773046633142, -9.315963012205422, -9.504918908351527, -8.613164720011397], \"y\": [6.425467011014453, 1.8514183874969017, 8.690063971974347, 9.179503775077233, 5.2047452459976045, 9.547142260664778, 12.14983550713738, 3.3906953601647665, 9.526733477779572, 17.930831588472362, 28.437623497405855, 7.78263276439052, 4.491570954037463, 12.630022999381161, 6.92603724915307, 11.35973699344559, 2.2515261899708308, 7.153150189958775, 1.3217911350346567, 0.2671245744378215, 5.137444439007764, 5.743919470581991, 7.57771755746921, 0.5312389717668643, 1.9377698684961386, 9.203350542708822, 12.969283937173728, 3.3264717182613905, 2.554799899793774, 2.446495172485737, 8.273943160995065, 3.3447319991474735, 0.9284921525261188, 0.9084919654814851, 8.53990155014857, 2.238249914697453, -0.1538049768528284, 2.49991787118895, -0.4256387196369736, 5.957758099091331, 0.8595165408712631, 6.307223733516381, 2.080970953490698, 5.46595660099311, 4.382264175281584, 2.6494586994011264, -0.9690997300511112, -0.6967473735470383, 11.045020409876052, 0.9714954268247287, 1.509790237977076, 0.501226696735802, -0.8738377964109182, 2.50938835243372, 1.0099098617118911, 3.003844291174137, -2.500461892069959, -0.32491260468692285, 0.9166141916660048, 0.7705888089152708, 1.9517814547480734, 0.09445269409654153, -0.3293518581027119, 0.18001906140475538, -0.3603897244210833, 2.699709196053087, 5.864922870753291, -0.19608084499826642, -0.7174527439046803, -0.10952662140972826, 3.736116957485929, 1.2324649515273458, 0.11371588804290861, 0.156355469092625, -0.11794940944190896, -0.8032996560839218, -2.19551046628331, -0.2639108061524713, -0.35965569978203976, 0.3198401709122345, 2.01528556534915, -0.11542013737834887, -1.369097242984504, -0.9483603810309486, 15.10256502687935, -0.988360215497175, 1.9384804960603557, -1.0040070698429484, -2.840375150173725, -0.06328883520910225, -0.4698477449107954, -1.3653082506198528, -1.3447364344031971, -2.1299601367425813, -1.975569645099232, 1.5778465345239814, -0.8136965519707419, 3.9346352596332985, -0.7158134269999167, -0.29473850995930256, 3.0524606021300453, 0.7075744736149678, 0.5833768366996237, 0.6919224750602095, -0.9435654445155767, 3.740072925154961, -0.3675248972169224, 1.0685154121348124, 2.2027978338518874, 4.205864783056694, -2.3020996641635536, 0.16813833319943491, -1.9470660593538058, -1.9463191807982312, -3.898185082520785, 0.04123511274925565, -0.9388100848911239, -0.37742804025415844, -1.9139262786461766, -1.3278534595981721, -0.08406385973312962, 0.0622662620350197, -0.3588750892351852, -1.0537437991250254, -2.3327644019170144, -2.0477986318066166, -2.217529921880778, 3.192235808083363, -0.7539008556911471, 0.14007454662148236, -0.17242664760748838, -0.10759326957018686, -1.067721287740015, -2.22242698387147, 0.5309502296610985, 0.5625730803204435, -0.7982118458796391, -2.370184516632035, -1.7593831592177833, -0.9944211814838976, -0.6978798436625844, -0.03946854476880286, -2.0219421363476284, 0.11282500599320605, 7.7547960581503705, -1.4370933980999996, -2.277036925751684, 1.881456715052615, -2.1365005753689683, -0.48498940539038043, -0.550969886299463, 8.053768063565222, 0.132306221481689, 1.9560970848112502, 1.1224302058078646, 0.01100656536377191, -1.765387917983747, -3.484952059813448, 1.7323177780629404, 4.202820111777487, -0.03759972336314337, -1.0725432984505208, -0.346278815649087, -1.9237577643467483, 0.873952986422824, -2.681951549929487, -1.4056776313280077, -3.023499735123926, -3.0024664898951725, -0.44619344629551566, -0.4806738933088322, 3.188992608095878, -1.8433073554989077, -1.605489503487624, 2.798323892881783, -0.6831132258667056, -2.8499130001445865, -0.921727665227175, 0.8732189139961021, -2.822537587928221, -1.6258871909840111, -0.2899412679314944, -0.8321885261290991, -1.2169263464263866, -0.536076503939874, 3.106328558951847, 2.0031204729884715, -0.5045698974645889, -1.120775795084991, -1.0761858308027834, -0.18619548902604463, -2.365629298329421, -1.4277554122801361, -1.5725464196825547, -0.29654845260422463, -2.7365885627669355, -0.955406638135479, -0.8950860920534398, -0.4536032471371458, -0.9842787679608613, -4.600016225360208, 0.12126474104250692, -1.9047955528180098, 0.09193345115402511, -1.630940310947677, -0.12860151808476766, 0.8649373584391093, 0.9231469716664159, 0.0028638989686050474, 0.628683135109763, 2.3689936181451103, -1.3553730191714917, 0.4318439822972948, -3.4053723574495214, -1.7467242083871684, 0.6032350406792382, -1.155497026353081, -3.8084544020737567, -1.0872900831207544, -5.078299461035973, -1.5342165539374173, -4.625235241415336, -2.0389105866195245, -1.6693193417930414, -1.5300787499382078, -0.996468469410305, -1.499237208372907, -2.382200677119408, -1.070039324510642, 1.9333341837424185, -0.29690726281754776, -1.1283518397998225, 3.3858476345012885, 0.7398851002775838, 1.497068079070432, -1.2014047199947813, -0.8898167289366842, 0.19643449142445585, 0.4298764066624211, -2.0370437906888585, -0.5430893344915251, -0.8015555703782009, 5.368472613806163, 0.4552901173686977, 2.3956586678524516, 1.871855981665148, 3.4724778684853335, -1.0015486094045112, -1.393079522279176, -1.1876213235168247, 0.7670763807117378, -1.4725709311483823, 0.3128819747816698, -1.0665517213941191, 3.881589568655837, -0.8856864579893192, 1.1053133085371558, -1.4579705978159054, -1.3847749821118194, -2.1011338193938065, -3.2171667053976813, -0.81170213232492, -2.2776993929231257, -2.9715166977864507, -0.5975065714884559, 1.1716257518621205, -1.4906833950337202, -2.8292695448306815, -0.19897815071287384, 0.867748265092972, 0.48132999865457, -1.0961499144566313, -3.5662712908941296, -1.025099475493726, 0.3155686420795319, -2.3356155702320365, -2.2883048540396924, -1.156116090764585, -2.2170140482709293, -1.8745367729676925, 2.635581465414513, -0.24665259161258377, -2.5986926096991607, -1.28363525446283, 0.30255806209345254, -1.8035806142851443, -2.208371107517554, -0.9815561329643111, -0.992018367680693, -0.6255040511290145, 0.975371959826419, -0.5546858749337213, 0.7365768803058248, -0.7455348666806865, -2.3834243074524335, 1.379161938746848, -3.5881984568048484, 0.031833581296773064, -1.243674635581495, -1.5777846452829558, 0.5841600833415528, -0.9053495729598855, -0.93821436714097, 0.08226718668512323, -3.4843998562682734, -0.6632007881521914, -1.890376283953755, -2.8644021043394603, 0.5451471626462812, -1.8158683216532674, 2.1552461062914214, -0.6232489273548519, -1.9185762907841395, -0.6639503083817202, -0.5526802746555286, -0.14282673196754198, 0.09322314814751723, -1.2721308869849275, -1.888899444050884, -0.8080203777448163, 3.2569156429055965, -1.8512190760902758, -1.6980655893576033, -1.6011991337071605, -0.5875739931283931, -1.7787536100908417, -2.2361002188937107, -0.9404842004917641, -0.7485659357446998, -0.5040170389637334, -0.7015565263936494, -1.628698065220913, -3.0229272581883078, -0.9746628544079872, -0.9403647170179998, -0.6953033977269868, -0.7715265958708182, -4.534519818644085, -5.095718255331876, -1.3500638057553618, -0.5844228179381278, -1.6793009249531083, -1.3858097728178858, -1.242207861062017, -2.183917746884491, -1.3832776413680576, -1.243547350487356, -1.2637203897085616, 1.394157475714595, -1.7310672180590565, -2.7293442241142296, -0.6616628801071123, -0.592522493093625, -2.675024327265372, -1.0538613048811916, -0.9208842155398788, -2.2274065250640454, -0.48835735539734704, -3.9744001037405265, -3.61716133545861, -2.2489309972629847, -2.336197990433093, -0.7235421151810147, -1.6737317189342884, -0.6395366722538667, -2.9605494025424175, -0.8658951673079471, -1.806248293702559, -0.11126427322594354, -0.13579073987843457, -0.1829596744302382, 0.3401012096184625, -1.8394321635044248, -2.1551006110082715, -0.6341888426368919, -3.423835053684446, -2.4809238741406663, -3.4075191612645863, -2.525287343371606, -0.3156601182127634, -2.486725264246565, -0.7701877932153343, -0.34195146580328595, 1.2538740354514215, 2.500835292008196, -0.10600845964719835, -2.6009746899763173, 0.8745401557993389, 4.596854242723288, -3.800028264443231, -1.5388771392496114, -0.9759790449544351, 0.40575091052344614, 0.764745264129168, -1.2409375572691026, 1.271024071529976, -0.48428028508300536, -1.7968620591056033, -1.3532011005097113, -2.336325578533728, -0.7128814001870528, -1.0975173399134404, -1.1749471231035162, -1.959761074871532, -2.7897225680767894, -0.6545957282353835, -0.7072664619728144, -1.023672096458142, -1.0476664398955844, -0.8803577229636232, -1.7705721923055107, -0.8957575328175442, -2.1212690922204143, -0.9064447396662545, -2.9303372771595213, -1.2125968651387415, -2.495110291443652, -4.159439863340856, -2.7050096618891866, -2.2369790621561187, -2.214191316708432, 1.1438267439388454, -1.8570402748385566, -2.833824147064841, -1.8371680926669625, 1.0757167127221745, -6.546776944466449, -4.59904158000416, -5.679312652617262, -3.118089078441703, 1.7461002202699079, -3.670717908950648, -0.40420889806684324, -1.4853388432667722, 1.291089129571282, 0.07971512243324017, -0.3413411545335796, -1.9802078329133803, -1.219313234250286, -1.3861774226061196, -2.7216264189230928, -7.456194039170209, -1.37595020796545, -0.2022249738338688, -1.583877583610041, -2.241318898174145, -4.710881678569382, -0.8099932294188411, 1.45612301116876, -4.682889169647854, 2.1033450253589248, -0.7594906408034995, -0.6370308465314839, -0.04626832852645628], \"z\": [-1.4254141051378724, 0.7175686253885176, -2.4558704594803085, 3.8393685168537646, -1.3168611175834777, 4.520109082711963, -2.8763916579260402, -1.7446604596431787, -2.0010877574796853, -2.6267481694997574, -12.258738117659359, -2.298676690380628, 0.27302586891606756, -4.11816223952738, 2.8890550967085225, -4.600137755484586, -0.805491816685137, -1.6289025695624806, -0.6727158697528973, -0.48265897583934847, -0.9188064960749421, 8.337872529832552, 1.8763292281077626, -1.1905445407590918, 0.08354643104563103, 4.009258100483284, 16.500254287136055, 0.898943919340957, -0.7212122215779262, -1.250283196177874, 3.6111779122827072, 6.8030129089182365, 1.3369749120935401, -1.287528465863989, -1.3753735681497683, -1.0927374096703344, -1.177509073671407, -2.4666722601264492, 0.2657292618612473, 6.6462070692322675, -0.2545854457658396, -0.4544994406868771, 2.5106795416719025, 3.572384570068304, 0.13073576078697433, -1.8808264178024887, 1.9079761226201903, -0.29000297507227396, -3.2235893526165857, -1.265281937137816, -0.8325635245644156, -0.628886685669445, -0.1892228344958773, 0.7138313173643511, -1.611969607180265, 2.205291527362968, 1.5237041842691903, -1.0677990306641412, -0.7399961717926887, 1.2063039157895645, -1.3467110924294128, -0.47261634636415145, 0.3203459966206988, -0.6310607530209594, -0.22794348303414605, 4.307061547487955, 0.8116590192368468, -1.0753811544380392, -0.33414859785343126, -1.1519322309602071, -1.4772853275384956, -0.5743370191181791, 1.6301819072666177, -1.1491938591749378, 1.9635392305237516, 0.6276018178955745, -0.18711450389868223, 1.3503738769044908, -3.1493715178137998, -1.0729497262501104, -1.8108411431177494, 0.06336757778469998, 0.8938873204458081, 0.42189368489118706, 9.376972094637066, -0.3033903537439128, 0.4096305001189845, -0.8587074727388726, -1.064661765902517, 0.6481172696562042, 0.963654262412111, -1.39107205184806, -1.0985027525259505, -0.8092595455748826, -0.2449628768210402, -1.1997306325670631, -0.24456854026146152, -1.888688229396084, -0.7275317378654418, -0.15731123301644614, -2.0537643517606163, -0.128166077100288, -1.2347787538174924, -0.40178621483417715, -0.148421378114565, -1.6084275737401081, -0.3240200365664009, -0.14483563006096545, -2.2388164548387017, -2.470127466316977, -0.4865630392971667, -0.894389867005896, -0.9952822634754707, -0.6130415627952289, -3.071625985277716, -0.6080757854114268, -0.6087807953321985, -0.6220943725256262, 0.8100186590760986, -1.170760531401916, -0.6087253723593173, 3.716358289898545, -0.55814496984502, -0.44856423340936413, -0.9543838867919626, 3.669030304219275, -0.9448750591020358, -1.0379817272722187, -1.0216165107815272, -0.2927014246670372, -0.01485798572644663, -0.3892180683085359, -0.5950000976419783, -0.29432693911556856, -0.6409444919873818, -0.6340462803295447, 0.06435879660264392, -1.5660828290863162, 0.6942381212712635, -0.05042228823475321, -0.308787531782289, -0.3955238968664885, 1.0187913853752064, -0.24767131603292183, -1.0412281236950243, -0.279150426648697, -1.3756431579960533, 0.2540299583518357, -0.138318451073824, 1.0027635836582633, -0.8344828349027201, -2.082548651124567, 1.2260984285171437, 1.1259568739191708, -1.2020873801830079, 2.02747688002702, -0.44473230010748094, 1.7980312151746474, -0.9189388222277748, -0.5578535362854145, 0.9309407291085501, 0.8647505611095585, -0.3029875621759139, 0.6385924299608238, -1.3258638462301, -0.29588423235214567, 0.2486832964294997, -1.4924573165891264, -1.1154332300211554, -0.33807618771952075, -0.6905501146559145, 0.7233597510836224, 0.47932312401687843, -0.172405728592113, -2.7278069414865085, -1.3501759297177218, 0.37852778948568927, -1.6646664795611625, -1.5079542996089947, -0.4223056413664697, -0.7020163185489159, -0.49036569612639214, 0.37451227072339305, -0.03567642053046508, -0.4498152920393635, -2.4803432631986597, 0.8636784748586485, -0.8389038868751397, -0.19445264563055506, -0.572270800075543, -0.25302131346190004, 0.6839102381648161, 0.38524453876006265, -0.17415105949208998, -0.5529103279801829, 0.3550115509235042, -0.34781221005595164, -0.5124847499321575, -0.5916984912767179, -1.0176345816296788, -0.7707398567084087, 0.6446931230944852, 0.6293467754202008, -0.643632769020945, 1.3346629516607653, -0.6191428635780496, -1.500642146160147, 4.321513871054335, -0.47763719290206114, 0.40827470903450436, -1.5747270493830887, 0.26706289272713596, 0.6375032080685833, 2.227453060739721, 0.4967779730855308, -1.17341049918797, 3.9397437409193765, -2.8110373918256246, 0.48553837334551087, -2.3504491155882494, 0.00396024465617375, -1.9790183904126182, -0.9456789804239384, -1.4593804071215242, 0.1663059932703237, -0.5849660788305928, 0.2796467313417368, 1.135503412819802, 1.0686927066829888, -1.480012766698977, -0.47184471423326796, -0.7743925572150815, -1.3177361406829498, -1.2925318394505676, -0.3152903623390242, -0.4275259203103592, -0.5842236606478289, -0.28011811949847154, -1.953871024707566, -0.4636117208587874, 3.849398614355019, 0.8558562561323401, -1.5967985473624509, 0.026510264847515588, -1.1843756098020093, -1.1034610719780888, -0.8334917406639264, 0.8317058128029237, -0.49447385104969915, -0.2598964347882702, -2.126058744924027, -0.36170421924056645, 6.5708586544727865, -0.18697067580127483, -1.6830881427131714, -0.6234809843701077, 1.3139597444590374, 2.4569199162323714, 5.222517561700028, 0.9411117207159431, 1.3814820374699004, 0.20200957325397123, -0.43937148669635284, -1.1762671363696942, -0.269940391701321, -0.8513453221558639, -0.31700339167711294, -0.8850810716580924, 0.18254731788364717, -0.8614533555608673, -0.9155981600387131, -0.3546522886220961, 2.901912110515345, -0.10314560925507939, 0.5551312733095108, -0.7114268263584572, -0.8765534940762384, 1.3270328235126994, -0.06721538523120865, 0.551366725159123, 1.7688324628633003, 0.39063475460786873, 0.5095112770439062, -0.51974184353488, -0.3239001273068389, -0.6709479204388048, -0.5343906445937595, 1.207608579887953, -0.2932620479742919, -0.24012016738723876, 1.7636580494804472, -0.5245159129571471, -0.4937774602070874, 0.49259814531115104, -0.18240862612652392, -0.09413735236894157, -1.266208372159646, -1.7966642264321375, -0.5271449190311283, -0.5918518451476613, -1.142260404671097, -0.0036905608201307674, -0.3047760373159936, -0.8855071575928857, -1.4205498891019959, 2.5521666841507096, -1.3347169408134762, 1.1657383314095235, 1.8304092129545178, 0.14022106380621804, 2.5557806981287636, -0.1377100689275572, -1.2325617141517413, -0.5389556771173024, -0.12747213305948443, 0.6584941130591051, -0.6407754843624829, 0.16154352705492248, -1.4383938407862178, -0.2164023047840336, 22.498737668263168, 1.8284110608282067, 1.0869531195707944, -0.40215878063625565, -0.0761509131182738, 7.519499135914706, 0.12456209067201109, 0.7635467011200833, 0.8417068678370165, -0.5401142167233242, -0.285785667529275, -0.48189131116330086, 0.24949631626263113, -0.3944779771655193, 5.562286163359604, -0.21030984239957654, -1.0231663120174135, -0.4560741447178203, -0.08221016235065903, -1.27638956368405, -0.5983575340873676, -0.568779373880564, 0.4245003012889503, 1.8620121255473503, -0.16579990890342247, -0.2792810351636277, -0.8446950371953817, -1.0855574329137654, -0.8020160688671403, -0.5933360957409706, -0.4541943838167515, -0.15152931119983837, -0.14519911803389907, -1.9504061394368586, -0.2448281554438765, -0.0022456053617061363, 0.3857160889661313, 8.380749307648315, -0.5212203103272252, -1.0970467742475636, -0.47577374470777845, -0.3927821753120163, -0.5443047458116095, -1.3543628233293652, -0.07901908989945328, 0.28493859175535097, -0.8183678650875343, -0.6491720120249157, -0.4705414123312632, -0.5574083225024791, -0.6087442137414948, -0.9254926385276411, -0.1812231327166594, 0.1462226503968066, -0.2695426128388861, -0.5005531633282986, 1.8223325215511732, 0.11839861316877133, -1.0898793868647685, 3.5055988957773137, 0.20225376838888678, -0.19996476833566434, -0.4339465687906829, -0.6405791831736893, 0.1818439273978, -0.6613036604784849, 6.208229987190038, 2.7594310050706956, -1.0511434065748768, -0.4397193437694227, -1.9637376963653428, 2.450046143230313, -0.9580400182491957, -2.3331876885871825, -0.054356682313284846, -0.8731730046822755, -0.39302569666291814, 0.4867837397111428, 0.20214560701861342, -1.5249037458343913, -0.16801676351877665, -1.5696135742441728, -0.45254468188972746, -0.021811550402390224, -0.3822445362743369, -1.038075048005418, -0.514950018834782, -0.6420688257120307, -0.16130074014293266, -0.5278279537913284, -1.009604064065817, -0.1870682768505294, -0.09195081573015167, -1.0941483455705248, -0.42905835244487867, -0.9666916921473276, -0.4361544555319614, 0.6003449440317833, -0.14905447653509585, 2.9188271823433913, -0.5656984246817234, 0.15472117686237527, 0.18645671908267925, 5.00071679650906, 0.05178078098056933, 0.28071996721861037, -4.016151165840007, 0.7664007407963329, -2.1606537691400014, 0.16786041589188266, 1.211289821539872, -0.823320465004827, -0.1615404337921967, -1.8117581661085682, -0.21325134285722186, 0.04465847851241797, 0.4072848947696434, 3.3456811456181734, 1.2846951040247525, -0.8165923575475167, -1.0178532801409108, 0.20692519641532056, -0.22566552745083204, -0.46750589521523556, -2.5654765830691315, 3.8222883303404624, -0.9039528706731845, 0.2727669557446382, -1.226908394791757, -0.3155979437884275, -0.5798988600316899, -0.11813318424279469, -0.030330721721737734, -0.27364578013055807]}],\n",
       "                        {\"height\": 600, \"legend\": {\"tracegroupgap\": 0}, \"margin\": {\"t\": 60}, \"scene\": {\"domain\": {\"x\": [0.0, 1.0], \"y\": [0.0, 1.0]}, \"xaxis\": {\"title\": {\"text\": \"principal component 1\"}}, \"yaxis\": {\"title\": {\"text\": \"principal component 2\"}}, \"zaxis\": {\"title\": {\"text\": \"principal component 3\"}}}, \"template\": {\"data\": {\"bar\": [{\"error_x\": {\"color\": \"#2a3f5f\"}, \"error_y\": {\"color\": \"#2a3f5f\"}, \"marker\": {\"line\": {\"color\": \"#E5ECF6\", \"width\": 0.5}}, \"type\": \"bar\"}], \"barpolar\": [{\"marker\": {\"line\": {\"color\": \"#E5ECF6\", \"width\": 0.5}}, \"type\": \"barpolar\"}], \"carpet\": [{\"aaxis\": {\"endlinecolor\": \"#2a3f5f\", \"gridcolor\": \"white\", \"linecolor\": \"white\", \"minorgridcolor\": \"white\", \"startlinecolor\": \"#2a3f5f\"}, \"baxis\": {\"endlinecolor\": \"#2a3f5f\", \"gridcolor\": \"white\", \"linecolor\": \"white\", \"minorgridcolor\": \"white\", \"startlinecolor\": \"#2a3f5f\"}, \"type\": \"carpet\"}], \"choropleth\": [{\"colorbar\": {\"outlinewidth\": 0, \"ticks\": \"\"}, \"type\": \"choropleth\"}], \"contour\": [{\"colorbar\": {\"outlinewidth\": 0, \"ticks\": \"\"}, \"colorscale\": [[0.0, \"#0d0887\"], [0.1111111111111111, \"#46039f\"], [0.2222222222222222, \"#7201a8\"], [0.3333333333333333, \"#9c179e\"], [0.4444444444444444, \"#bd3786\"], [0.5555555555555556, \"#d8576b\"], [0.6666666666666666, \"#ed7953\"], [0.7777777777777778, \"#fb9f3a\"], [0.8888888888888888, \"#fdca26\"], [1.0, \"#f0f921\"]], \"type\": \"contour\"}], \"contourcarpet\": [{\"colorbar\": {\"outlinewidth\": 0, \"ticks\": \"\"}, \"type\": \"contourcarpet\"}], \"heatmap\": [{\"colorbar\": {\"outlinewidth\": 0, \"ticks\": \"\"}, \"colorscale\": [[0.0, \"#0d0887\"], [0.1111111111111111, \"#46039f\"], [0.2222222222222222, \"#7201a8\"], [0.3333333333333333, \"#9c179e\"], [0.4444444444444444, \"#bd3786\"], [0.5555555555555556, \"#d8576b\"], [0.6666666666666666, \"#ed7953\"], [0.7777777777777778, \"#fb9f3a\"], [0.8888888888888888, \"#fdca26\"], [1.0, \"#f0f921\"]], \"type\": \"heatmap\"}], \"heatmapgl\": [{\"colorbar\": {\"outlinewidth\": 0, \"ticks\": \"\"}, \"colorscale\": [[0.0, \"#0d0887\"], [0.1111111111111111, \"#46039f\"], [0.2222222222222222, \"#7201a8\"], [0.3333333333333333, \"#9c179e\"], [0.4444444444444444, \"#bd3786\"], [0.5555555555555556, \"#d8576b\"], [0.6666666666666666, \"#ed7953\"], [0.7777777777777778, \"#fb9f3a\"], [0.8888888888888888, \"#fdca26\"], [1.0, \"#f0f921\"]], \"type\": \"heatmapgl\"}], \"histogram\": [{\"marker\": {\"colorbar\": {\"outlinewidth\": 0, \"ticks\": \"\"}}, \"type\": \"histogram\"}], \"histogram2d\": [{\"colorbar\": {\"outlinewidth\": 0, \"ticks\": \"\"}, \"colorscale\": [[0.0, \"#0d0887\"], [0.1111111111111111, \"#46039f\"], [0.2222222222222222, \"#7201a8\"], [0.3333333333333333, \"#9c179e\"], [0.4444444444444444, \"#bd3786\"], [0.5555555555555556, \"#d8576b\"], [0.6666666666666666, \"#ed7953\"], [0.7777777777777778, \"#fb9f3a\"], [0.8888888888888888, \"#fdca26\"], [1.0, \"#f0f921\"]], \"type\": \"histogram2d\"}], \"histogram2dcontour\": [{\"colorbar\": {\"outlinewidth\": 0, \"ticks\": \"\"}, \"colorscale\": [[0.0, \"#0d0887\"], [0.1111111111111111, \"#46039f\"], [0.2222222222222222, \"#7201a8\"], [0.3333333333333333, \"#9c179e\"], [0.4444444444444444, \"#bd3786\"], [0.5555555555555556, \"#d8576b\"], [0.6666666666666666, \"#ed7953\"], [0.7777777777777778, \"#fb9f3a\"], [0.8888888888888888, \"#fdca26\"], [1.0, \"#f0f921\"]], \"type\": \"histogram2dcontour\"}], \"mesh3d\": [{\"colorbar\": {\"outlinewidth\": 0, \"ticks\": \"\"}, \"type\": \"mesh3d\"}], \"parcoords\": [{\"line\": {\"colorbar\": {\"outlinewidth\": 0, \"ticks\": \"\"}}, \"type\": \"parcoords\"}], \"pie\": [{\"automargin\": true, \"type\": \"pie\"}], \"scatter\": [{\"marker\": {\"colorbar\": {\"outlinewidth\": 0, \"ticks\": \"\"}}, \"type\": \"scatter\"}], \"scatter3d\": [{\"line\": {\"colorbar\": {\"outlinewidth\": 0, \"ticks\": \"\"}}, \"marker\": {\"colorbar\": {\"outlinewidth\": 0, \"ticks\": \"\"}}, \"type\": \"scatter3d\"}], \"scattercarpet\": [{\"marker\": {\"colorbar\": {\"outlinewidth\": 0, \"ticks\": \"\"}}, \"type\": \"scattercarpet\"}], \"scattergeo\": [{\"marker\": {\"colorbar\": {\"outlinewidth\": 0, \"ticks\": \"\"}}, \"type\": \"scattergeo\"}], \"scattergl\": [{\"marker\": {\"colorbar\": {\"outlinewidth\": 0, \"ticks\": \"\"}}, \"type\": \"scattergl\"}], \"scattermapbox\": [{\"marker\": {\"colorbar\": {\"outlinewidth\": 0, \"ticks\": \"\"}}, \"type\": \"scattermapbox\"}], \"scatterpolar\": [{\"marker\": {\"colorbar\": {\"outlinewidth\": 0, \"ticks\": \"\"}}, \"type\": \"scatterpolar\"}], \"scatterpolargl\": [{\"marker\": {\"colorbar\": {\"outlinewidth\": 0, \"ticks\": \"\"}}, \"type\": \"scatterpolargl\"}], \"scatterternary\": [{\"marker\": {\"colorbar\": {\"outlinewidth\": 0, \"ticks\": \"\"}}, \"type\": \"scatterternary\"}], \"surface\": [{\"colorbar\": {\"outlinewidth\": 0, \"ticks\": \"\"}, \"colorscale\": [[0.0, \"#0d0887\"], [0.1111111111111111, \"#46039f\"], [0.2222222222222222, \"#7201a8\"], [0.3333333333333333, \"#9c179e\"], [0.4444444444444444, \"#bd3786\"], [0.5555555555555556, \"#d8576b\"], [0.6666666666666666, \"#ed7953\"], [0.7777777777777778, \"#fb9f3a\"], [0.8888888888888888, \"#fdca26\"], [1.0, \"#f0f921\"]], \"type\": \"surface\"}], \"table\": [{\"cells\": {\"fill\": {\"color\": \"#EBF0F8\"}, \"line\": {\"color\": \"white\"}}, \"header\": {\"fill\": {\"color\": \"#C8D4E3\"}, \"line\": {\"color\": \"white\"}}, \"type\": \"table\"}]}, \"layout\": {\"annotationdefaults\": {\"arrowcolor\": \"#2a3f5f\", \"arrowhead\": 0, \"arrowwidth\": 1}, \"coloraxis\": {\"colorbar\": {\"outlinewidth\": 0, \"ticks\": \"\"}}, \"colorscale\": {\"diverging\": [[0, \"#8e0152\"], [0.1, \"#c51b7d\"], [0.2, \"#de77ae\"], [0.3, \"#f1b6da\"], [0.4, \"#fde0ef\"], [0.5, \"#f7f7f7\"], [0.6, \"#e6f5d0\"], [0.7, \"#b8e186\"], [0.8, \"#7fbc41\"], [0.9, \"#4d9221\"], [1, \"#276419\"]], \"sequential\": [[0.0, \"#0d0887\"], [0.1111111111111111, \"#46039f\"], [0.2222222222222222, \"#7201a8\"], [0.3333333333333333, \"#9c179e\"], [0.4444444444444444, \"#bd3786\"], [0.5555555555555556, \"#d8576b\"], [0.6666666666666666, \"#ed7953\"], [0.7777777777777778, \"#fb9f3a\"], [0.8888888888888888, \"#fdca26\"], [1.0, \"#f0f921\"]], \"sequentialminus\": [[0.0, \"#0d0887\"], [0.1111111111111111, \"#46039f\"], [0.2222222222222222, \"#7201a8\"], [0.3333333333333333, \"#9c179e\"], [0.4444444444444444, \"#bd3786\"], [0.5555555555555556, \"#d8576b\"], [0.6666666666666666, \"#ed7953\"], [0.7777777777777778, \"#fb9f3a\"], [0.8888888888888888, \"#fdca26\"], [1.0, \"#f0f921\"]]}, \"colorway\": [\"#636efa\", \"#EF553B\", \"#00cc96\", \"#ab63fa\", \"#FFA15A\", \"#19d3f3\", \"#FF6692\", \"#B6E880\", \"#FF97FF\", \"#FECB52\"], \"font\": {\"color\": \"#2a3f5f\"}, \"geo\": {\"bgcolor\": \"white\", \"lakecolor\": \"white\", \"landcolor\": \"#E5ECF6\", \"showlakes\": true, \"showland\": true, \"subunitcolor\": \"white\"}, \"hoverlabel\": {\"align\": \"left\"}, \"hovermode\": \"closest\", \"mapbox\": {\"style\": \"light\"}, \"paper_bgcolor\": \"white\", \"plot_bgcolor\": \"#E5ECF6\", \"polar\": {\"angularaxis\": {\"gridcolor\": \"white\", \"linecolor\": \"white\", \"ticks\": \"\"}, \"bgcolor\": \"#E5ECF6\", \"radialaxis\": {\"gridcolor\": \"white\", \"linecolor\": \"white\", \"ticks\": \"\"}}, \"scene\": {\"xaxis\": {\"backgroundcolor\": \"#E5ECF6\", \"gridcolor\": \"white\", \"gridwidth\": 2, \"linecolor\": \"white\", \"showbackground\": true, \"ticks\": \"\", \"zerolinecolor\": \"white\"}, \"yaxis\": {\"backgroundcolor\": \"#E5ECF6\", \"gridcolor\": \"white\", \"gridwidth\": 2, \"linecolor\": \"white\", \"showbackground\": true, \"ticks\": \"\", \"zerolinecolor\": \"white\"}, \"zaxis\": {\"backgroundcolor\": \"#E5ECF6\", \"gridcolor\": \"white\", \"gridwidth\": 2, \"linecolor\": \"white\", \"showbackground\": true, \"ticks\": \"\", \"zerolinecolor\": \"white\"}}, \"shapedefaults\": {\"line\": {\"color\": \"#2a3f5f\"}}, \"ternary\": {\"aaxis\": {\"gridcolor\": \"white\", \"linecolor\": \"white\", \"ticks\": \"\"}, \"baxis\": {\"gridcolor\": \"white\", \"linecolor\": \"white\", \"ticks\": \"\"}, \"bgcolor\": \"#E5ECF6\", \"caxis\": {\"gridcolor\": \"white\", \"linecolor\": \"white\", \"ticks\": \"\"}}, \"title\": {\"x\": 0.05}, \"xaxis\": {\"automargin\": true, \"gridcolor\": \"white\", \"linecolor\": \"white\", \"ticks\": \"\", \"title\": {\"standoff\": 15}, \"zerolinecolor\": \"white\", \"zerolinewidth\": 2}, \"yaxis\": {\"automargin\": true, \"gridcolor\": \"white\", \"linecolor\": \"white\", \"ticks\": \"\", \"title\": {\"standoff\": 15}, \"zerolinecolor\": \"white\", \"zerolinewidth\": 2}}}},\n",
       "                        {\"responsive\": true}\n",
       "                    ).then(function(){\n",
       "                            \n",
       "var gd = document.getElementById('013fa130-3fad-4b66-a478-6b1ad7fbc942');\n",
       "var x = new MutationObserver(function (mutations, observer) {{\n",
       "        var display = window.getComputedStyle(gd).display;\n",
       "        if (!display || display === 'none') {{\n",
       "            console.log([gd, 'removed!']);\n",
       "            Plotly.purge(gd);\n",
       "            observer.disconnect();\n",
       "        }}\n",
       "}});\n",
       "\n",
       "// Listen for the removal of the full notebook cells\n",
       "var notebookContainer = gd.closest('#notebook-container');\n",
       "if (notebookContainer) {{\n",
       "    x.observe(notebookContainer, {childList: true});\n",
       "}}\n",
       "\n",
       "// Listen for the clearing of the current output cell\n",
       "var outputEl = gd.closest('.output');\n",
       "if (outputEl) {{\n",
       "    x.observe(outputEl, {childList: true});\n",
       "}}\n",
       "\n",
       "                        })\n",
       "                };\n",
       "                });\n",
       "            </script>\n",
       "        </div>"
      ]
     },
     "metadata": {},
     "output_type": "display_data"
    }
   ],
   "source": [
    "import plotly.express as px\n",
    "#projection of the data onto the first 3 PCs, most of the variation is in PC1\n",
    "fig = px.scatter_3d(principalDf, x='principal component 1', y='principal component 2', z='principal component 3',\n",
    "                   opacity=0.7)\n",
    "fig.show()"
   ]
  },
  {
   "cell_type": "code",
   "execution_count": 1251,
   "metadata": {},
   "outputs": [
    {
     "data": {
      "text/plain": [
       "144"
      ]
     },
     "execution_count": 1251,
     "metadata": {},
     "output_type": "execute_result"
    }
   ],
   "source": [
    "std_data = pd.DataFrame(standard_data, columns=features)\n",
    "std_data.head()\n",
    "len(std_data.columns)"
   ]
  },
  {
   "cell_type": "markdown",
   "metadata": {},
   "source": [
    "Now we can see the weight of each of the features onto each of the principle components. Both visualizations below show this in different ways. The first PC has the most homogeneity because there is some collinarity in the features, and all the PCs after have much more variance in the weights because each of them is orthogonal to one another."
   ]
  },
  {
   "cell_type": "code",
   "execution_count": 1252,
   "metadata": {},
   "outputs": [],
   "source": [
    "# def myplot(score,coeff,labels=None):\n",
    "#     xs = score[:,0]\n",
    "#     ys = score[:,1]\n",
    "#     n = coeff.shape[0]\n",
    "#     scalex = 1.0/(xs.max() - xs.min())\n",
    "#     scaley = 1.0/(ys.max() - ys.min())\n",
    "#     plt.scatter(xs * scalex,ys * scaley,s=5)\n",
    "#     for i in range(n):\n",
    "#         plt.arrow(0, 0, coeff[i,0], coeff[i,1],color = 'r',alpha = 0.5)\n",
    "#         if labels is None:\n",
    "#             plt.text(coeff[i,0]* 1.15, coeff[i,1] * 1.15, \"Var\"+str(i+1), color = 'green', ha = 'center', va = 'center')\n",
    "#         else:\n",
    "#             plt.text(coeff[i,0]* 1.15, coeff[i,1] * 1.15, labels[i], color = 'g', ha = 'center', va = 'center')\n",
    " \n",
    "#     plt.xlabel(\"PC{}\".format(1))\n",
    "#     plt.ylabel(\"PC{}\".format(2))\n",
    "#     plt.grid()\n",
    "\n",
    "# plt.figure(figsize=(12,10))\n",
    "# myplot(principalComponents[:,0:2],np.transpose(pca_model.components_[0:2, :]),list(std_data.columns))\n",
    "# plt.show()"
   ]
  },
  {
   "cell_type": "code",
   "execution_count": 1253,
   "metadata": {},
   "outputs": [],
   "source": [
    "# plt.figure(figsize = (12,8))\n",
    "# sns.heatmap(pca_model.components_,\n",
    "#       yticklabels=[ \"PCA\"+str(x) for x in range(1,pca_model.n_components_+1)],\n",
    "#         xticklabels=list(features) )\n",
    "# pca_model.n_components"
   ]
  },
  {
   "cell_type": "markdown",
   "metadata": {},
   "source": [
    "#### Interpretation of PCs\n",
    "PC2 has stronger positive weights on: work transit outbound and inbound, and stronger negative weights on: am school inbound and outbound. There is also a slight positive weights on work auto inbound and active. This might suggest that this is a zip code with a lot of commuters, and not a lot of children/students that were surveyed.\n",
    "\n",
    "***note*** the fact that this is a survey highly affects the results. When we do a post factor demographic analysis, it will be interesting to see how that lines up with the survey results. We are clustering based on imperfect survey information. \n",
    "\n",
    "PC3 has moderate positive weights on am school inbound and outbound, and work transit inbound and outbound. Auto trips are not as heavily weighted here. Active trips are just barely positively weighted. This might suggests that this PC describes zip codes with lower than average car use and maybe better than average transit\n",
    "\n",
    "PC4 is very uniformly unweighted, except for the non workday shopping feature which is highly positively weighted. This suggests that this PC describes zip codes where there is a lot of retail establishments, where people are making perchases in the evening.\n",
    "\n",
    "PC5 has strong negative weights on pm home inbound and outbound and the highest positive weight on active mobility trips. there is also a moderately positive weight on work auto inbound trips. this could mean that this zip code is not primarily residential (the lack of inbound home trips and the higher amount of inbound work trips). this also fits with a business district because in more dense locations people might be more likely to walk/bike to destinations close to their office, like to lunch or a quick errand,etc.\n",
    "\n"
   ]
  },
  {
   "cell_type": "markdown",
   "metadata": {},
   "source": [
    "# K- means"
   ]
  },
  {
   "cell_type": "code",
   "execution_count": 1254,
   "metadata": {},
   "outputs": [],
   "source": [
    "\n",
    "import matplotlib.pyplot as plt\n",
    "import matplotlib.cm as cm\n",
    "\n",
    "from sklearn.cluster import KMeans\n",
    "from sklearn import metrics\n",
    "from sklearn.metrics import silhouette_samples, silhouette_score\n",
    "from scipy.spatial.distance import cdist\n",
    "\n",
    "from sklearn.cluster import DBSCAN"
   ]
  },
  {
   "cell_type": "code",
   "execution_count": 1255,
   "metadata": {},
   "outputs": [
    {
     "name": "stdout",
     "output_type": "stream",
     "text": [
      "(454, 15)\n"
     ]
    },
    {
     "data": {
      "text/plain": [
       "array([[ 6.73361450e-01,  6.42546701e+00, -1.42541411e+00, ...,\n",
       "        -3.24212748e-02, -3.53946807e-02, -8.30248679e-01],\n",
       "       [-3.12361581e+00,  1.85141839e+00,  7.17568625e-01, ...,\n",
       "        -3.35094925e+00,  2.05459807e+00, -9.05372379e-01],\n",
       "       [ 1.92844834e+00,  8.69006397e+00, -2.45587046e+00, ...,\n",
       "        -1.51867175e+00, -4.06757264e+00,  2.49912279e-01],\n",
       "       ...,\n",
       "       [-9.31596301e+00, -7.59490641e-01, -1.18133184e-01, ...,\n",
       "         4.62934154e-02, -1.63629578e-01, -1.24143047e-01],\n",
       "       [-9.50491891e+00, -6.37030847e-01, -3.03307217e-02, ...,\n",
       "        -1.33538673e-02,  8.57623066e-02,  2.57298228e-03],\n",
       "       [-8.61316472e+00, -4.62683285e-02, -2.73645780e-01, ...,\n",
       "        -3.14776178e-02,  6.35381986e-02, -2.49739995e-01]])"
      ]
     },
     "execution_count": 1255,
     "metadata": {},
     "output_type": "execute_result"
    }
   ],
   "source": [
    "# Keep the top 5 principal components to use in clustering\n",
    "print(principalComponents.shape)\n",
    "\n",
    "y = principalComponents[:,0:n_components]\n",
    "# y = PCs\n",
    "y"
   ]
  },
  {
   "cell_type": "code",
   "execution_count": 1256,
   "metadata": {},
   "outputs": [
    {
     "data": {
      "image/png": "[encoded data removed]",
      "text/plain": [
       "<Figure size 432x288 with 1 Axes>"
      ]
     },
     "metadata": {
      "needs_background": "light"
     },
     "output_type": "display_data"
    }
   ],
   "source": [
    "# k means determine k\n",
    "distortions = []\n",
    "K = range(1,5)\n",
    "for k in K:\n",
    "    kmeanModel = KMeans(n_clusters=k).fit(y)\n",
    "    kmeanModel.fit(y)\n",
    "    distortions.append(sum(np.min(cdist(y, kmeanModel.cluster_centers_, 'euclidean'), axis=1)) / y.shape[0])\n",
    "\n",
    "# Plot the elbow\n",
    "plt.plot(K, distortions, 'bx-')\n",
    "plt.xlabel('k (number of clusters)')\n",
    "plt.ylabel('Distortion')\n",
    "plt.title('The Elbow Method showing the optimal k')\n",
    "plt.show()"
   ]
  },
  {
   "cell_type": "code",
   "execution_count": 1257,
   "metadata": {},
   "outputs": [
    {
     "name": "stdout",
     "output_type": "stream",
     "text": [
      "For n_clusters = 4 The average silhouette_score is : 0.2248242635472668\n"
     ]
    },
    {
     "data": {
      "image/png": "[encoded data removed]",
      "text/plain": [
       "<Figure size 1296x504 with 2 Axes>"
      ]
     },
     "metadata": {
      "needs_background": "light"
     },
     "output_type": "display_data"
    }
   ],
   "source": [
    "range_n_clusters = [4]\n",
    "\n",
    "for n_clusters in range_n_clusters:\n",
    "    # Create a subplot with 1 row and 2 columns\n",
    "    fig, (ax1, ax2) = plt.subplots(1, 2)\n",
    "    fig.set_size_inches(18, 7)\n",
    "\n",
    "    # The 1st subplot is the silhouette plot\n",
    "    # The silhouette coefficient can range from -1, 1 but in this example all\n",
    "    # lie within [-0.1, 1]\n",
    "    ax1.set_xlim([-0.1, 1])\n",
    "    # The (n_clusters+1)*10 is for inserting blank space between silhouette\n",
    "    # plots of individual clusters, to demarcate them clearly.\n",
    "    ax1.set_ylim([0, len(y) + (n_clusters + 1) * 10])\n",
    "\n",
    "    # Initialize the clusterer with n_clusters value and a random generator\n",
    "    # seed of 10 for reproducibility.\n",
    "    clusterer = KMeans(n_clusters=n_clusters, random_state=9)\n",
    "    cluster_labels = clusterer.fit_predict(y)\n",
    "\n",
    "    # The silhouette_score gives the average value for all the samples.\n",
    "    # This gives a perspective into the density and separation of the formed\n",
    "    # clusters\n",
    "    silhouette_avg = silhouette_score(y, cluster_labels)\n",
    "    print(\"For n_clusters =\", n_clusters,\n",
    "          \"The average silhouette_score is :\", silhouette_avg)\n",
    "\n",
    "    # Compute the silhouette scores for each sample\n",
    "    sample_silhouette_values = silhouette_samples(y, cluster_labels)\n",
    "\n",
    "    y_lower = 10\n",
    "    for i in range(n_clusters):\n",
    "        # Aggregate the silhouette scores for samples belonging to\n",
    "        # cluster i, and sort them\n",
    "        ith_cluster_silhouette_values = \\\n",
    "            sample_silhouette_values[cluster_labels == i]\n",
    "\n",
    "        ith_cluster_silhouette_values.sort()\n",
    "\n",
    "        size_cluster_i = ith_cluster_silhouette_values.shape[0]\n",
    "        y_upper = y_lower + size_cluster_i\n",
    "\n",
    "        color = cm.nipy_spectral(float(i) / n_clusters)\n",
    "        ax1.fill_betweenx(np.arange(y_lower, y_upper),\n",
    "                          0, ith_cluster_silhouette_values,\n",
    "                          facecolor=color, edgecolor=color, alpha=0.7)\n",
    "\n",
    "        # Label the silhouette plots with their cluster numbers at the middle\n",
    "        ax1.text(-0.05, y_lower + 0.5 * size_cluster_i, str(i))\n",
    "\n",
    "        # Compute the new y_lower for next plot\n",
    "        y_lower = y_upper + 10  # 10 for the 0 samples\n",
    "\n",
    "    ax1.set_title(\"The silhouette plot for the various clusters.\", fontsize=18)\n",
    "    ax1.set_xlabel(\"The silhouette coefficient values\", fontsize=16)\n",
    "    ax1.set_ylabel(\"Cluster label\", fontsize=16)\n",
    "\n",
    "    # The vertical line for average silhouette score of all the values\n",
    "    ax1.axvline(x=silhouette_avg, color=\"red\", linestyle=\"--\")\n",
    "\n",
    "    ax1.set_yticks([])  # Clear the yaxis labels / ticks\n",
    "    ax1.set_xticks([-0.1, 0, 0.2, 0.4, 0.6, 0.8, 1])\n",
    "\n",
    "    # 2nd Plot showing the actual clusters formed\n",
    "    colors = cm.nipy_spectral(cluster_labels.astype(float) / n_clusters)\n",
    "    ax2.scatter(y[:, 0], y[:, 1], marker='.', s=30, lw=0, alpha=0.7,\n",
    "                c=colors, edgecolor='k')\n",
    "\n",
    "    # Labeling the clusters\n",
    "    centers = clusterer.cluster_centers_\n",
    "    # Draw white circles at cluster centers\n",
    "    ax2.scatter(centers[:, 0], centers[:, 1], marker='o',\n",
    "                c=\"white\", alpha=1, s=200, edgecolor='k')\n",
    "\n",
    "    for i, c in enumerate(centers):\n",
    "        ax2.scatter(c[0], c[1], marker='$%d$' % i, alpha=1,\n",
    "                    s=50, edgecolor='k')\n",
    "\n",
    "    ax2.set_title(\"The visualization of the clustered data.\", fontsize=18)\n",
    "    ax2.set_xlabel(\"Feature space for the 1st feature\", fontsize=16)\n",
    "    ax2.set_ylabel(\"Feature space for the 2nd feature\", fontsize=16)\n",
    "\n",
    "    plt.suptitle((\"Silhouette analysis for KMeans clustering \"\n",
    "                  \"with n_clusters = %d\" % n_clusters, \"avg silhouette score: {:.3}\".format(silhouette_avg)),\n",
    "                 fontsize=18, fontweight='bold')\n",
    "    #plt.savefig('Graphics/silhouette %d.png' % n_clusters,dpi=600)\n",
    "plt.show()"
   ]
  },
  {
   "cell_type": "code",
   "execution_count": 1258,
   "metadata": {
    "scrolled": true
   },
   "outputs": [
    {
     "data": {
      "text/html": [
       "<div>\n",
       "<style scoped>\n",
       "    .dataframe tbody tr th:only-of-type {\n",
       "        vertical-align: middle;\n",
       "    }\n",
       "\n",
       "    .dataframe tbody tr th {\n",
       "        vertical-align: top;\n",
       "    }\n",
       "\n",
       "    .dataframe thead th {\n",
       "        text-align: right;\n",
       "    }\n",
       "</style>\n",
       "<table border=\"1\" class=\"dataframe\">\n",
       "  <thead>\n",
       "    <tr style=\"text-align: right;\">\n",
       "      <th></th>\n",
       "      <th>ZIP</th>\n",
       "      <th>cluster</th>\n",
       "      <th>geometry</th>\n",
       "    </tr>\n",
       "  </thead>\n",
       "  <tbody>\n",
       "    <tr>\n",
       "      <th>0</th>\n",
       "      <td>91504</td>\n",
       "      <td>0</td>\n",
       "      <td>POLYGON ((152155.300 -421716.167, 152155.319 -...</td>\n",
       "    </tr>\n",
       "    <tr>\n",
       "      <th>1</th>\n",
       "      <td>91606</td>\n",
       "      <td>0</td>\n",
       "      <td>POLYGON ((147163.060 -423412.989, 147209.317 -...</td>\n",
       "    </tr>\n",
       "    <tr>\n",
       "      <th>2</th>\n",
       "      <td>90640</td>\n",
       "      <td>2</td>\n",
       "      <td>POLYGON ((172932.197 -446024.724, 173019.560 -...</td>\n",
       "    </tr>\n",
       "    <tr>\n",
       "      <th>3</th>\n",
       "      <td>91770</td>\n",
       "      <td>0</td>\n",
       "      <td>POLYGON ((174699.264 -437077.342, 174696.116 -...</td>\n",
       "    </tr>\n",
       "    <tr>\n",
       "      <th>4</th>\n",
       "      <td>93535</td>\n",
       "      <td>3</td>\n",
       "      <td>POLYGON ((171209.630 -367918.738, 171208.464 -...</td>\n",
       "    </tr>\n",
       "    <tr>\n",
       "      <th>5</th>\n",
       "      <td>90290</td>\n",
       "      <td>1</td>\n",
       "      <td>POLYGON ((125379.675 -431310.786, 125426.500 -...</td>\n",
       "    </tr>\n",
       "    <tr>\n",
       "      <th>6</th>\n",
       "      <td>91792</td>\n",
       "      <td>1</td>\n",
       "      <td>POLYGON ((194959.533 -443060.749, 195033.977 -...</td>\n",
       "    </tr>\n",
       "    <tr>\n",
       "      <th>7</th>\n",
       "      <td>91789</td>\n",
       "      <td>0</td>\n",
       "      <td>POLYGON ((195470.463 -442335.163, 195458.077 -...</td>\n",
       "    </tr>\n",
       "    <tr>\n",
       "      <th>8</th>\n",
       "      <td>91791</td>\n",
       "      <td>1</td>\n",
       "      <td>MULTIPOLYGON (((192272.176 -435275.913, 192272...</td>\n",
       "    </tr>\n",
       "    <tr>\n",
       "      <th>9</th>\n",
       "      <td>91723</td>\n",
       "      <td>1</td>\n",
       "      <td>POLYGON ((193747.051 -435653.476, 193653.189 -...</td>\n",
       "    </tr>\n",
       "    <tr>\n",
       "      <th>10</th>\n",
       "      <td>91773</td>\n",
       "      <td>3</td>\n",
       "      <td>POLYGON ((199140.144 -433273.863, 199116.152 -...</td>\n",
       "    </tr>\n",
       "    <tr>\n",
       "      <th>11</th>\n",
       "      <td>91702</td>\n",
       "      <td>0</td>\n",
       "      <td>POLYGON ((195338.447 -425679.429, 195350.798 -...</td>\n",
       "    </tr>\n",
       "    <tr>\n",
       "      <th>12</th>\n",
       "      <td>91741</td>\n",
       "      <td>0</td>\n",
       "      <td>POLYGON ((194578.711 -428812.253, 194578.640 -...</td>\n",
       "    </tr>\n",
       "    <tr>\n",
       "      <th>13</th>\n",
       "      <td>91765</td>\n",
       "      <td>0</td>\n",
       "      <td>POLYGON ((201042.438 -442657.680, 201036.919 -...</td>\n",
       "    </tr>\n",
       "    <tr>\n",
       "      <th>14</th>\n",
       "      <td>90303</td>\n",
       "      <td>1</td>\n",
       "      <td>POLYGON ((153731.478 -452641.346, 153730.311 -...</td>\n",
       "    </tr>\n",
       "    <tr>\n",
       "      <th>15</th>\n",
       "      <td>90033</td>\n",
       "      <td>2</td>\n",
       "      <td>POLYGON ((165210.785 -437537.022, 165326.649 -...</td>\n",
       "    </tr>\n",
       "    <tr>\n",
       "      <th>16</th>\n",
       "      <td>90032</td>\n",
       "      <td>0</td>\n",
       "      <td>POLYGON ((169563.634 -433578.162, 169638.268 -...</td>\n",
       "    </tr>\n",
       "    <tr>\n",
       "      <th>17</th>\n",
       "      <td>90249</td>\n",
       "      <td>1</td>\n",
       "      <td>POLYGON ((157201.476 -455430.587, 157203.385 -...</td>\n",
       "    </tr>\n",
       "    <tr>\n",
       "      <th>18</th>\n",
       "      <td>90822</td>\n",
       "      <td>1</td>\n",
       "      <td>POLYGON ((173973.696 -469104.371, 173963.426 -...</td>\n",
       "    </tr>\n",
       "    <tr>\n",
       "      <th>19</th>\n",
       "      <td>91355</td>\n",
       "      <td>3</td>\n",
       "      <td>POLYGON ((130102.985 -398300.163, 130092.579 -...</td>\n",
       "    </tr>\n",
       "    <tr>\n",
       "      <th>20</th>\n",
       "      <td>91350</td>\n",
       "      <td>3</td>\n",
       "      <td>POLYGON ((134577.361 -394440.321, 134581.956 -...</td>\n",
       "    </tr>\n",
       "    <tr>\n",
       "      <th>21</th>\n",
       "      <td>91387</td>\n",
       "      <td>0</td>\n",
       "      <td>POLYGON ((147425.131 -394198.856, 147643.905 -...</td>\n",
       "    </tr>\n",
       "    <tr>\n",
       "      <th>22</th>\n",
       "      <td>91001</td>\n",
       "      <td>3</td>\n",
       "      <td>POLYGON ((173139.812 -424652.310, 172985.937 -...</td>\n",
       "    </tr>\n",
       "    <tr>\n",
       "      <th>23</th>\n",
       "      <td>91604</td>\n",
       "      <td>0</td>\n",
       "      <td>POLYGON ((145660.573 -428755.512, 145575.560 -...</td>\n",
       "    </tr>\n",
       "    <tr>\n",
       "      <th>24</th>\n",
       "      <td>91402</td>\n",
       "      <td>1</td>\n",
       "      <td>POLYGON ((141882.976 -420086.588, 141883.516 -...</td>\n",
       "    </tr>\n",
       "    <tr>\n",
       "      <th>25</th>\n",
       "      <td>91030</td>\n",
       "      <td>2</td>\n",
       "      <td>POLYGON ((170971.637 -430787.921, 170985.596 -...</td>\n",
       "    </tr>\n",
       "    <tr>\n",
       "      <th>26</th>\n",
       "      <td>91108</td>\n",
       "      <td>0</td>\n",
       "      <td>POLYGON ((173282.184 -432805.588, 173274.433 -...</td>\n",
       "    </tr>\n",
       "    <tr>\n",
       "      <th>27</th>\n",
       "      <td>90062</td>\n",
       "      <td>1</td>\n",
       "      <td>POLYGON ((156997.541 -442937.718, 156999.258 -...</td>\n",
       "    </tr>\n",
       "    <tr>\n",
       "      <th>28</th>\n",
       "      <td>90293</td>\n",
       "      <td>1</td>\n",
       "      <td>POLYGON ((146256.308 -449871.086, 146266.200 -...</td>\n",
       "    </tr>\n",
       "    <tr>\n",
       "      <th>29</th>\n",
       "      <td>90292</td>\n",
       "      <td>0</td>\n",
       "      <td>POLYGON ((141699.301 -447326.504, 141781.707 -...</td>\n",
       "    </tr>\n",
       "    <tr>\n",
       "      <th>...</th>\n",
       "      <td>...</td>\n",
       "      <td>...</td>\n",
       "      <td>...</td>\n",
       "    </tr>\n",
       "    <tr>\n",
       "      <th>421</th>\n",
       "      <td>90201</td>\n",
       "      <td>2</td>\n",
       "      <td>MULTIPOLYGON (((166109.534 -446848.152, 166100...</td>\n",
       "    </tr>\n",
       "    <tr>\n",
       "      <th>422</th>\n",
       "      <td>90505</td>\n",
       "      <td>3</td>\n",
       "      <td>POLYGON ((150540.540 -466352.139, 150544.630 -...</td>\n",
       "    </tr>\n",
       "    <tr>\n",
       "      <th>423</th>\n",
       "      <td>90503</td>\n",
       "      <td>3</td>\n",
       "      <td>POLYGON ((151648.693 -460574.764, 151881.413 -...</td>\n",
       "    </tr>\n",
       "    <tr>\n",
       "      <th>424</th>\n",
       "      <td>90605</td>\n",
       "      <td>1</td>\n",
       "      <td>POLYGON ((180607.839 -451011.277, 180607.619 -...</td>\n",
       "    </tr>\n",
       "    <tr>\n",
       "      <th>425</th>\n",
       "      <td>91024</td>\n",
       "      <td>0</td>\n",
       "      <td>POLYGON ((178080.370 -425634.377, 178076.477 -...</td>\n",
       "    </tr>\n",
       "    <tr>\n",
       "      <th>426</th>\n",
       "      <td>91210</td>\n",
       "      <td>1</td>\n",
       "      <td>POLYGON ((160788.203 -428873.928, 160726.962 -...</td>\n",
       "    </tr>\n",
       "    <tr>\n",
       "      <th>427</th>\n",
       "      <td>92833</td>\n",
       "      <td>0</td>\n",
       "      <td>MULTIPOLYGON (((187267.903 -459197.975, 187254...</td>\n",
       "    </tr>\n",
       "    <tr>\n",
       "      <th>428</th>\n",
       "      <td>92867</td>\n",
       "      <td>0</td>\n",
       "      <td>POLYGON ((204061.146 -463735.366, 204058.430 -...</td>\n",
       "    </tr>\n",
       "    <tr>\n",
       "      <th>429</th>\n",
       "      <td>92706</td>\n",
       "      <td>0</td>\n",
       "      <td>POLYGON ((194290.265 -469798.120, 194289.332 -...</td>\n",
       "    </tr>\n",
       "    <tr>\n",
       "      <th>430</th>\n",
       "      <td>92627</td>\n",
       "      <td>0</td>\n",
       "      <td>POLYGON ((194977.144 -483480.222, 194973.443 -...</td>\n",
       "    </tr>\n",
       "    <tr>\n",
       "      <th>431</th>\n",
       "      <td>92620</td>\n",
       "      <td>0</td>\n",
       "      <td>POLYGON ((205632.519 -475918.640, 205622.322 -...</td>\n",
       "    </tr>\n",
       "    <tr>\n",
       "      <th>432</th>\n",
       "      <td>92646</td>\n",
       "      <td>3</td>\n",
       "      <td>POLYGON ((186536.104 -478790.902, 186532.958 -...</td>\n",
       "    </tr>\n",
       "    <tr>\n",
       "      <th>433</th>\n",
       "      <td>92655</td>\n",
       "      <td>1</td>\n",
       "      <td>MULTIPOLYGON (((187618.078 -471909.861, 187615...</td>\n",
       "    </tr>\n",
       "    <tr>\n",
       "      <th>434</th>\n",
       "      <td>92672</td>\n",
       "      <td>1</td>\n",
       "      <td>POLYGON ((221927.783 -505202.613, 221931.510 -...</td>\n",
       "    </tr>\n",
       "    <tr>\n",
       "      <th>435</th>\n",
       "      <td>92688</td>\n",
       "      <td>0</td>\n",
       "      <td>POLYGON ((220029.494 -489594.451, 220031.808 -...</td>\n",
       "    </tr>\n",
       "    <tr>\n",
       "      <th>436</th>\n",
       "      <td>92694</td>\n",
       "      <td>1</td>\n",
       "      <td>POLYGON ((218047.449 -491938.319, 218127.146 -...</td>\n",
       "    </tr>\n",
       "    <tr>\n",
       "      <th>437</th>\n",
       "      <td>92886</td>\n",
       "      <td>0</td>\n",
       "      <td>POLYGON ((203124.447 -457839.156, 203120.834 -...</td>\n",
       "    </tr>\n",
       "    <tr>\n",
       "      <th>438</th>\n",
       "      <td>92831</td>\n",
       "      <td>0</td>\n",
       "      <td>POLYGON ((193055.723 -458527.602, 193054.551 -...</td>\n",
       "    </tr>\n",
       "    <tr>\n",
       "      <th>439</th>\n",
       "      <td>92707</td>\n",
       "      <td>2</td>\n",
       "      <td>MULTIPOLYGON (((196173.104 -476801.460, 196173...</td>\n",
       "    </tr>\n",
       "    <tr>\n",
       "      <th>440</th>\n",
       "      <td>92648</td>\n",
       "      <td>0</td>\n",
       "      <td>MULTIPOLYGON (((183676.056 -481413.919, 183409...</td>\n",
       "    </tr>\n",
       "    <tr>\n",
       "      <th>441</th>\n",
       "      <td>92651</td>\n",
       "      <td>0</td>\n",
       "      <td>POLYGON ((202392.030 -490342.692, 202325.569 -...</td>\n",
       "    </tr>\n",
       "    <tr>\n",
       "      <th>442</th>\n",
       "      <td>92254</td>\n",
       "      <td>1</td>\n",
       "      <td>POLYGON ((375054.207 -490805.039, 374062.615 -...</td>\n",
       "    </tr>\n",
       "    <tr>\n",
       "      <th>443</th>\n",
       "      <td>92241</td>\n",
       "      <td>1</td>\n",
       "      <td>MULTIPOLYGON (((343578.227 -461806.975, 343142...</td>\n",
       "    </tr>\n",
       "    <tr>\n",
       "      <th>444</th>\n",
       "      <td>92532</td>\n",
       "      <td>1</td>\n",
       "      <td>POLYGON ((257768.595 -479318.806, 257768.598 -...</td>\n",
       "    </tr>\n",
       "    <tr>\n",
       "      <th>445</th>\n",
       "      <td>92545</td>\n",
       "      <td>0</td>\n",
       "      <td>POLYGON ((273887.535 -467078.492, 274347.310 -...</td>\n",
       "    </tr>\n",
       "    <tr>\n",
       "      <th>446</th>\n",
       "      <td>92596</td>\n",
       "      <td>1</td>\n",
       "      <td>POLYGON ((269313.401 -491272.366, 269300.200 -...</td>\n",
       "    </tr>\n",
       "    <tr>\n",
       "      <th>447</th>\n",
       "      <td>92563</td>\n",
       "      <td>0</td>\n",
       "      <td>POLYGON ((269189.800 -488708.055, 269190.051 -...</td>\n",
       "    </tr>\n",
       "    <tr>\n",
       "      <th>448</th>\n",
       "      <td>92506</td>\n",
       "      <td>3</td>\n",
       "      <td>POLYGON ((247333.658 -450182.212, 247359.461 -...</td>\n",
       "    </tr>\n",
       "    <tr>\n",
       "      <th>449</th>\n",
       "      <td>92551</td>\n",
       "      <td>1</td>\n",
       "      <td>POLYGON ((255169.081 -453234.285, 255189.049 -...</td>\n",
       "    </tr>\n",
       "    <tr>\n",
       "      <th>450</th>\n",
       "      <td>92571</td>\n",
       "      <td>1</td>\n",
       "      <td>POLYGON ((254982.246 -461268.028, 254847.071 -...</td>\n",
       "    </tr>\n",
       "  </tbody>\n",
       "</table>\n",
       "<p>451 rows × 3 columns</p>\n",
       "</div>"
      ],
      "text/plain": [
       "       ZIP  cluster                                           geometry\n",
       "0    91504        0  POLYGON ((152155.300 -421716.167, 152155.319 -...\n",
       "1    91606        0  POLYGON ((147163.060 -423412.989, 147209.317 -...\n",
       "2    90640        2  POLYGON ((172932.197 -446024.724, 173019.560 -...\n",
       "3    91770        0  POLYGON ((174699.264 -437077.342, 174696.116 -...\n",
       "4    93535        3  POLYGON ((171209.630 -367918.738, 171208.464 -...\n",
       "5    90290        1  POLYGON ((125379.675 -431310.786, 125426.500 -...\n",
       "6    91792        1  POLYGON ((194959.533 -443060.749, 195033.977 -...\n",
       "7    91789        0  POLYGON ((195470.463 -442335.163, 195458.077 -...\n",
       "8    91791        1  MULTIPOLYGON (((192272.176 -435275.913, 192272...\n",
       "9    91723        1  POLYGON ((193747.051 -435653.476, 193653.189 -...\n",
       "10   91773        3  POLYGON ((199140.144 -433273.863, 199116.152 -...\n",
       "11   91702        0  POLYGON ((195338.447 -425679.429, 195350.798 -...\n",
       "12   91741        0  POLYGON ((194578.711 -428812.253, 194578.640 -...\n",
       "13   91765        0  POLYGON ((201042.438 -442657.680, 201036.919 -...\n",
       "14   90303        1  POLYGON ((153731.478 -452641.346, 153730.311 -...\n",
       "15   90033        2  POLYGON ((165210.785 -437537.022, 165326.649 -...\n",
       "16   90032        0  POLYGON ((169563.634 -433578.162, 169638.268 -...\n",
       "17   90249        1  POLYGON ((157201.476 -455430.587, 157203.385 -...\n",
       "18   90822        1  POLYGON ((173973.696 -469104.371, 173963.426 -...\n",
       "19   91355        3  POLYGON ((130102.985 -398300.163, 130092.579 -...\n",
       "20   91350        3  POLYGON ((134577.361 -394440.321, 134581.956 -...\n",
       "21   91387        0  POLYGON ((147425.131 -394198.856, 147643.905 -...\n",
       "22   91001        3  POLYGON ((173139.812 -424652.310, 172985.937 -...\n",
       "23   91604        0  POLYGON ((145660.573 -428755.512, 145575.560 -...\n",
       "24   91402        1  POLYGON ((141882.976 -420086.588, 141883.516 -...\n",
       "25   91030        2  POLYGON ((170971.637 -430787.921, 170985.596 -...\n",
       "26   91108        0  POLYGON ((173282.184 -432805.588, 173274.433 -...\n",
       "27   90062        1  POLYGON ((156997.541 -442937.718, 156999.258 -...\n",
       "28   90293        1  POLYGON ((146256.308 -449871.086, 146266.200 -...\n",
       "29   90292        0  POLYGON ((141699.301 -447326.504, 141781.707 -...\n",
       "..     ...      ...                                                ...\n",
       "421  90201        2  MULTIPOLYGON (((166109.534 -446848.152, 166100...\n",
       "422  90505        3  POLYGON ((150540.540 -466352.139, 150544.630 -...\n",
       "423  90503        3  POLYGON ((151648.693 -460574.764, 151881.413 -...\n",
       "424  90605        1  POLYGON ((180607.839 -451011.277, 180607.619 -...\n",
       "425  91024        0  POLYGON ((178080.370 -425634.377, 178076.477 -...\n",
       "426  91210        1  POLYGON ((160788.203 -428873.928, 160726.962 -...\n",
       "427  92833        0  MULTIPOLYGON (((187267.903 -459197.975, 187254...\n",
       "428  92867        0  POLYGON ((204061.146 -463735.366, 204058.430 -...\n",
       "429  92706        0  POLYGON ((194290.265 -469798.120, 194289.332 -...\n",
       "430  92627        0  POLYGON ((194977.144 -483480.222, 194973.443 -...\n",
       "431  92620        0  POLYGON ((205632.519 -475918.640, 205622.322 -...\n",
       "432  92646        3  POLYGON ((186536.104 -478790.902, 186532.958 -...\n",
       "433  92655        1  MULTIPOLYGON (((187618.078 -471909.861, 187615...\n",
       "434  92672        1  POLYGON ((221927.783 -505202.613, 221931.510 -...\n",
       "435  92688        0  POLYGON ((220029.494 -489594.451, 220031.808 -...\n",
       "436  92694        1  POLYGON ((218047.449 -491938.319, 218127.146 -...\n",
       "437  92886        0  POLYGON ((203124.447 -457839.156, 203120.834 -...\n",
       "438  92831        0  POLYGON ((193055.723 -458527.602, 193054.551 -...\n",
       "439  92707        2  MULTIPOLYGON (((196173.104 -476801.460, 196173...\n",
       "440  92648        0  MULTIPOLYGON (((183676.056 -481413.919, 183409...\n",
       "441  92651        0  POLYGON ((202392.030 -490342.692, 202325.569 -...\n",
       "442  92254        1  POLYGON ((375054.207 -490805.039, 374062.615 -...\n",
       "443  92241        1  MULTIPOLYGON (((343578.227 -461806.975, 343142...\n",
       "444  92532        1  POLYGON ((257768.595 -479318.806, 257768.598 -...\n",
       "445  92545        0  POLYGON ((273887.535 -467078.492, 274347.310 -...\n",
       "446  92596        1  POLYGON ((269313.401 -491272.366, 269300.200 -...\n",
       "447  92563        0  POLYGON ((269189.800 -488708.055, 269190.051 -...\n",
       "448  92506        3  POLYGON ((247333.658 -450182.212, 247359.461 -...\n",
       "449  92551        1  POLYGON ((255169.081 -453234.285, 255189.049 -...\n",
       "450  92571        1  POLYGON ((254982.246 -461268.028, 254847.071 -...\n",
       "\n",
       "[451 rows x 3 columns]"
      ]
     },
     "execution_count": 1258,
     "metadata": {},
     "output_type": "execute_result"
    }
   ],
   "source": [
    "import geopandas as gp\n",
    "labeled_zcode = zcode_data.copy()\n",
    "labeled_zcode[\"cluster\"] = clusterer.labels_\n",
    "labeled_zcode[\"ZIP\"] = zcode_data[\"ZIP\"].apply(lambda x: str((int(float(x)))))\n",
    "# cluster_zip_geo = zcode_data[[\"ZIP\", \"cluster\"]]\n",
    "zip_shp = gp.read_file(data_path+\"zcode_shapefile/ZCTA2010.shp\")\n",
    "cluster_zip_geo = zip_shp.merge(labeled_zcode, right_on=\"ZIP\", left_on=\"ZCTA\")[[\"ZIP\", \"cluster\", \"geometry\"]]\n",
    "cluster_zip_geo\n",
    "\n"
   ]
  },
  {
   "cell_type": "code",
   "execution_count": 1259,
   "metadata": {},
   "outputs": [],
   "source": [
    "cluster_zip_geo.to_file(data_path+\"modes_cluster_bay.shp\")"
   ]
  },
  {
   "cell_type": "code",
   "execution_count": 1260,
   "metadata": {
    "scrolled": true
   },
   "outputs": [],
   "source": [
    "labeled_zcode[[\"ZIP\", \"cluster\"]].to_csv(\"bay_cluster_labels.csv\")"
   ]
  },
  {
   "cell_type": "code",
   "execution_count": 1261,
   "metadata": {},
   "outputs": [
    {
     "data": {
      "text/plain": [
       "array([2, 1, 0, 3])"
      ]
     },
     "execution_count": 1261,
     "metadata": {},
     "output_type": "execute_result"
    }
   ],
   "source": [
    "labeled_zcode[\"cluster\"].unique()"
   ]
  },
  {
   "cell_type": "markdown",
   "metadata": {},
   "source": [
    "### Demographics"
   ]
  },
  {
   "cell_type": "code",
   "execution_count": 1262,
   "metadata": {},
   "outputs": [
    {
     "data": {
      "text/plain": [
       "'/Users/ameliabaum/Desktop/Amelia/Berkeley Fall 2019/CY PLAN 257/Final Project/data/'"
      ]
     },
     "execution_count": 1262,
     "metadata": {},
     "output_type": "execute_result"
    }
   ],
   "source": [
    "data_path"
   ]
  },
  {
   "cell_type": "code",
   "execution_count": 1263,
   "metadata": {},
   "outputs": [],
   "source": [
    "hh_size = pd.read_csv(data_path+'hh_size/ACS_17_5YR_B25010_with_ann.csv', header=1)[[\"Id2\", 'Estimate; Total:']]\n",
    "hh_size[\"avg_hh_size\"] = hh_size[\"Estimate; Total:\"].replace({\"-\":0}).astype(float)                                                               \n",
    "edu = pd.read_csv(data_path+'edu/ACS_17_5YR_S1501_with_ann.csv', header=1)[[\"Id2\", \"Percent; Estimate; Population 18 to 24 years - Bachelor's degree or higher\"]]\n",
    "edu[\"pct_bach\"] = edu[\"Percent; Estimate; Population 18 to 24 years - Bachelor\\'s degree or higher\"].replace({\"-\":0}).astype(float)\n",
    "units = pd.read_csv(data_path+'units/ACS_17_5YR_B25001_with_ann.csv', header=1)[[\"Id2\", 'Estimate; Total']]\n",
    "units[\"h_units\"] = units[\"Estimate; Total\"]\n",
    "race = pd.read_csv(data_path+'race/ACS_17_5YR_B02001_with_ann.csv', header=1)[[\"Id2\",\"Estimate; Total:\",'Estimate; Total: - White alone',\n",
    "         'Estimate; Total: - Black or African American alone', 'Estimate; Total: - Asian alone']]                                                                    \n",
    "race[\"pct_white\"] = race[\"Estimate; Total: - White alone\"]/race[\"Estimate; Total:\"]\n",
    "race[\"pct_black\"] = race[\"Estimate; Total: - Black or African American alone\"]/race[\"Estimate; Total:\"]\n",
    "race[\"pct_asian\"] = race[\"Estimate; Total: - Asian alone\"]/race[\"Estimate; Total:\"]\n",
    "\n",
    "income = pd.read_csv(data_path+'income/ACS_17_5YR_S1902_with_ann.csv', header=1)[[\"Id2\", 'Mean income (dollars); Estimate; All households']]\n",
    "income[\"mean_inc\"] = income[\"Mean income (dollars); Estimate; All households\"].replace({\"N\":0, \"-\":0}).astype(float)    "
   ]
  },
  {
   "cell_type": "code",
   "execution_count": 1264,
   "metadata": {},
   "outputs": [],
   "source": [
    "# edu"
   ]
  },
  {
   "cell_type": "code",
   "execution_count": 1265,
   "metadata": {},
   "outputs": [
    {
     "data": {
      "text/plain": [
       "Id2             object\n",
       "avg_hh_size    float64\n",
       "pct_white      float64\n",
       "pct_black      float64\n",
       "pct_asian      float64\n",
       "h_units          int64\n",
       "pct_bach       float64\n",
       "mean_inc       float64\n",
       "dtype: object"
      ]
     },
     "execution_count": 1265,
     "metadata": {},
     "output_type": "execute_result"
    }
   ],
   "source": [
    "all_demos = pd.concat([hh_size, edu, race, units, edu, income], axis=1)[[\"Id2\", \"avg_hh_size\",\"pct_white\", \"pct_black\", \"pct_asian\", \"h_units\", \"pct_bach\" , \"mean_inc\"]]\n",
    "all_demos = all_demos.loc[:,~all_demos.columns.duplicated()]\n",
    "# .fillna(0).replace({\"-\":0})\n",
    "all_demos[\"Id2\"] = all_demos[\"Id2\"].apply(lambda x: str(x))\n",
    "all_demos.head()\n",
    "all_demos.dtypes\n"
   ]
  },
  {
   "cell_type": "code",
   "execution_count": 1266,
   "metadata": {},
   "outputs": [
    {
     "data": {
      "text/html": [
       "<div>\n",
       "<style scoped>\n",
       "    .dataframe tbody tr th:only-of-type {\n",
       "        vertical-align: middle;\n",
       "    }\n",
       "\n",
       "    .dataframe tbody tr th {\n",
       "        vertical-align: top;\n",
       "    }\n",
       "\n",
       "    .dataframe thead th {\n",
       "        text-align: right;\n",
       "    }\n",
       "</style>\n",
       "<table border=\"1\" class=\"dataframe\">\n",
       "  <thead>\n",
       "    <tr style=\"text-align: right;\">\n",
       "      <th></th>\n",
       "      <th>avg_hh_size</th>\n",
       "      <th>pct_white</th>\n",
       "      <th>pct_black</th>\n",
       "      <th>pct_asian</th>\n",
       "      <th>h_units</th>\n",
       "      <th>pct_bach</th>\n",
       "      <th>mean_inc</th>\n",
       "    </tr>\n",
       "    <tr>\n",
       "      <th>cluster</th>\n",
       "      <th></th>\n",
       "      <th></th>\n",
       "      <th></th>\n",
       "      <th></th>\n",
       "      <th></th>\n",
       "      <th></th>\n",
       "      <th></th>\n",
       "    </tr>\n",
       "  </thead>\n",
       "  <tbody>\n",
       "    <tr>\n",
       "      <th>0</th>\n",
       "      <td>3.01</td>\n",
       "      <td>0.60</td>\n",
       "      <td>0.04</td>\n",
       "      <td>0.16</td>\n",
       "      <td>14,121.52</td>\n",
       "      <td>12.79</td>\n",
       "      <td>100,263.61</td>\n",
       "    </tr>\n",
       "    <tr>\n",
       "      <th>1</th>\n",
       "      <td>2.97</td>\n",
       "      <td>0.58</td>\n",
       "      <td>0.08</td>\n",
       "      <td>0.13</td>\n",
       "      <td>7,741.18</td>\n",
       "      <td>10.88</td>\n",
       "      <td>95,928.84</td>\n",
       "    </tr>\n",
       "    <tr>\n",
       "      <th>2</th>\n",
       "      <td>2.88</td>\n",
       "      <td>0.49</td>\n",
       "      <td>0.08</td>\n",
       "      <td>0.14</td>\n",
       "      <td>17,991.61</td>\n",
       "      <td>15.72</td>\n",
       "      <td>70,627.08</td>\n",
       "    </tr>\n",
       "    <tr>\n",
       "      <th>3</th>\n",
       "      <td>2.94</td>\n",
       "      <td>0.67</td>\n",
       "      <td>0.05</td>\n",
       "      <td>0.13</td>\n",
       "      <td>17,799.61</td>\n",
       "      <td>12.53</td>\n",
       "      <td>106,003.64</td>\n",
       "    </tr>\n",
       "  </tbody>\n",
       "</table>\n",
       "</div>"
      ],
      "text/plain": [
       "         avg_hh_size  pct_white  pct_black  pct_asian   h_units  pct_bach  \\\n",
       "cluster                                                                     \n",
       "0               3.01       0.60       0.04       0.16 14,121.52     12.79   \n",
       "1               2.97       0.58       0.08       0.13  7,741.18     10.88   \n",
       "2               2.88       0.49       0.08       0.14 17,991.61     15.72   \n",
       "3               2.94       0.67       0.05       0.13 17,799.61     12.53   \n",
       "\n",
       "          mean_inc  \n",
       "cluster             \n",
       "0       100,263.61  \n",
       "1        95,928.84  \n",
       "2        70,627.08  \n",
       "3       106,003.64  "
      ]
     },
     "execution_count": 1266,
     "metadata": {},
     "output_type": "execute_result"
    }
   ],
   "source": [
    "merged = pd.merge(all_demos, labeled_zcode[[\"ZIP\", \"cluster\"]], left_on='Id2', right_on=\"ZIP\", how=\"right\").drop([\"ZIP\",\"Id2\"], axis=1)\n",
    "f = merged.groupby(\"cluster\").mean()\n",
    "f"
   ]
  },
  {
   "cell_type": "code",
   "execution_count": null,
   "metadata": {},
   "outputs": [],
   "source": []
  },
  {
   "cell_type": "markdown",
   "metadata": {},
   "source": [
    "#### Mobility"
   ]
  },
  {
   "cell_type": "code",
   "execution_count": 1267,
   "metadata": {
    "scrolled": true
   },
   "outputs": [
    {
     "name": "stderr",
     "output_type": "stream",
     "text": [
      "/Users/ameliabaum/anaconda3/lib/python3.6/site-packages/ipykernel_launcher.py:2: SettingWithCopyWarning:\n",
      "\n",
      "\n",
      "A value is trying to be set on a copy of a slice from a DataFrame.\n",
      "Try using .loc[row_indexer,col_indexer] = value instead\n",
      "\n",
      "See the caveats in the documentation: http://pandas.pydata.org/pandas-docs/stable/indexing.html#indexing-view-versus-copy\n",
      "\n",
      "/Users/ameliabaum/anaconda3/lib/python3.6/site-packages/ipykernel_launcher.py:5: SettingWithCopyWarning:\n",
      "\n",
      "\n",
      "A value is trying to be set on a copy of a slice from a DataFrame.\n",
      "Try using .loc[row_indexer,col_indexer] = value instead\n",
      "\n",
      "See the caveats in the documentation: http://pandas.pydata.org/pandas-docs/stable/indexing.html#indexing-view-versus-copy\n",
      "\n",
      "/Users/ameliabaum/anaconda3/lib/python3.6/site-packages/ipykernel_launcher.py:8: SettingWithCopyWarning:\n",
      "\n",
      "\n",
      "A value is trying to be set on a copy of a slice from a DataFrame.\n",
      "Try using .loc[row_indexer,col_indexer] = value instead\n",
      "\n",
      "See the caveats in the documentation: http://pandas.pydata.org/pandas-docs/stable/indexing.html#indexing-view-versus-copy\n",
      "\n",
      "/Users/ameliabaum/anaconda3/lib/python3.6/site-packages/ipykernel_launcher.py:11: SettingWithCopyWarning:\n",
      "\n",
      "\n",
      "A value is trying to be set on a copy of a slice from a DataFrame.\n",
      "Try using .loc[row_indexer,col_indexer] = value instead\n",
      "\n",
      "See the caveats in the documentation: http://pandas.pydata.org/pandas-docs/stable/indexing.html#indexing-view-versus-copy\n",
      "\n",
      "/Users/ameliabaum/anaconda3/lib/python3.6/site-packages/ipykernel_launcher.py:14: SettingWithCopyWarning:\n",
      "\n",
      "\n",
      "A value is trying to be set on a copy of a slice from a DataFrame.\n",
      "Try using .loc[row_indexer,col_indexer] = value instead\n",
      "\n",
      "See the caveats in the documentation: http://pandas.pydata.org/pandas-docs/stable/indexing.html#indexing-view-versus-copy\n",
      "\n",
      "/Users/ameliabaum/anaconda3/lib/python3.6/site-packages/ipykernel_launcher.py:17: SettingWithCopyWarning:\n",
      "\n",
      "\n",
      "A value is trying to be set on a copy of a slice from a DataFrame.\n",
      "Try using .loc[row_indexer,col_indexer] = value instead\n",
      "\n",
      "See the caveats in the documentation: http://pandas.pydata.org/pandas-docs/stable/indexing.html#indexing-view-versus-copy\n",
      "\n"
     ]
    }
   ],
   "source": [
    "inbound_transit = labeled_zcode[[col for col in labeled_zcode.columns if \"i_transit\" in col or \"cluster\" in col]]\n",
    "inbound_transit[\"inbound_transit\"] = inbound_transit[[col for col in inbound_transit.columns if col != \"cluster\"]].sum(axis=1)\n",
    "\n",
    "outbound_transit = labeled_zcode[[col for col in labeled_zcode.columns if \"o_transit\" in col or \"cluster\" in col]]\n",
    "outbound_transit[\"outbound_transit\"] = outbound_transit[[col for col in outbound_transit.columns if col != \"cluster\"]].sum(axis=1)\n",
    "\n",
    "inbound_auto = labeled_zcode[[col for col in labeled_zcode.columns if \"i_auto\" in col or \"cluster\" in col]]\n",
    "inbound_auto[\"inbound_auto\"] = inbound_auto[[col for col in inbound_auto.columns if col != \"cluster\"]].sum(axis=1)\n",
    "\n",
    "outbound_auto = labeled_zcode[[col for col in labeled_zcode.columns if \"o_auto\" in col or \"cluster\" in col]]\n",
    "outbound_auto[\"outbound_auto\"] = outbound_auto[[col for col in outbound_auto.columns if col != \"cluster\"]].sum(axis=1)\n",
    "\n",
    "inbound_active = labeled_zcode[[col for col in labeled_zcode.columns if \"i_walkbk\" in col or \"cluster\" in col]]\n",
    "inbound_active[\"inbound_active\"] = inbound_active[[col for col in inbound_active.columns if col != \"cluster\"]].sum(axis=1)\n",
    "\n",
    "outbound_active = labeled_zcode[[col for col in labeled_zcode.columns if \"o_walkbk\" in col or \"cluster\" in col]]\n",
    "outbound_active[\"outbound_active\"] = outbound_active[[col for col in outbound_active.columns if col != \"cluster\"]].sum(axis=1)"
   ]
  },
  {
   "cell_type": "code",
   "execution_count": 1268,
   "metadata": {},
   "outputs": [],
   "source": [
    "dfs = []\n",
    "for i in [inbound_transit, outbound_transit, inbound_auto, outbound_auto, inbound_active, outbound_active]:\n",
    "    dfs.append(i.iloc[:, -2:].groupby(\"cluster\").mean())\n",
    "    pd.options.display.float_format = '{:,.2f}'.format\n",
    "mobvars = pd.concat(dfs, axis=1)   "
   ]
  },
  {
   "cell_type": "code",
   "execution_count": 1269,
   "metadata": {},
   "outputs": [],
   "source": [
    "all_vars = pd.merge(mobvars, merged, left_index=True, right_index=True)"
   ]
  },
  {
   "cell_type": "code",
   "execution_count": 1271,
   "metadata": {},
   "outputs": [
    {
     "data": {
      "text/html": [
       "<div>\n",
       "<style scoped>\n",
       "    .dataframe tbody tr th:only-of-type {\n",
       "        vertical-align: middle;\n",
       "    }\n",
       "\n",
       "    .dataframe tbody tr th {\n",
       "        vertical-align: top;\n",
       "    }\n",
       "\n",
       "    .dataframe thead th {\n",
       "        text-align: right;\n",
       "    }\n",
       "</style>\n",
       "<table border=\"1\" class=\"dataframe\">\n",
       "  <thead>\n",
       "    <tr style=\"text-align: right;\">\n",
       "      <th></th>\n",
       "      <th>0</th>\n",
       "      <th>1</th>\n",
       "      <th>2</th>\n",
       "      <th>3</th>\n",
       "    </tr>\n",
       "  </thead>\n",
       "  <tbody>\n",
       "    <tr>\n",
       "      <th>inbound_transit</th>\n",
       "      <td>106.19</td>\n",
       "      <td>44.22</td>\n",
       "      <td>154.37</td>\n",
       "      <td>214.08</td>\n",
       "    </tr>\n",
       "    <tr>\n",
       "      <th>outbound_transit</th>\n",
       "      <td>89.13</td>\n",
       "      <td>34.86</td>\n",
       "      <td>126.89</td>\n",
       "      <td>182.97</td>\n",
       "    </tr>\n",
       "    <tr>\n",
       "      <th>inbound_auto</th>\n",
       "      <td>107.33</td>\n",
       "      <td>43.13</td>\n",
       "      <td>144.92</td>\n",
       "      <td>221.80</td>\n",
       "    </tr>\n",
       "    <tr>\n",
       "      <th>outbound_auto</th>\n",
       "      <td>86.61</td>\n",
       "      <td>33.17</td>\n",
       "      <td>116.45</td>\n",
       "      <td>173.72</td>\n",
       "    </tr>\n",
       "    <tr>\n",
       "      <th>inbound_active</th>\n",
       "      <td>187.46</td>\n",
       "      <td>75.32</td>\n",
       "      <td>224.32</td>\n",
       "      <td>355.36</td>\n",
       "    </tr>\n",
       "    <tr>\n",
       "      <th>outbound_active</th>\n",
       "      <td>149.18</td>\n",
       "      <td>60.57</td>\n",
       "      <td>187.71</td>\n",
       "      <td>283.84</td>\n",
       "    </tr>\n",
       "    <tr>\n",
       "      <th>avg_hh_size</th>\n",
       "      <td>4.25</td>\n",
       "      <td>4.16</td>\n",
       "      <td>4.24</td>\n",
       "      <td>2.79</td>\n",
       "    </tr>\n",
       "    <tr>\n",
       "      <th>pct_white</th>\n",
       "      <td>0.32</td>\n",
       "      <td>0.38</td>\n",
       "      <td>0.30</td>\n",
       "      <td>0.38</td>\n",
       "    </tr>\n",
       "    <tr>\n",
       "      <th>pct_black</th>\n",
       "      <td>0.09</td>\n",
       "      <td>0.22</td>\n",
       "      <td>0.22</td>\n",
       "      <td>0.04</td>\n",
       "    </tr>\n",
       "    <tr>\n",
       "      <th>pct_asian</th>\n",
       "      <td>0.00</td>\n",
       "      <td>0.01</td>\n",
       "      <td>0.00</td>\n",
       "      <td>0.25</td>\n",
       "    </tr>\n",
       "    <tr>\n",
       "      <th>h_units</th>\n",
       "      <td>14,438.00</td>\n",
       "      <td>13,171.00</td>\n",
       "      <td>17,737.00</td>\n",
       "      <td>24,711.00</td>\n",
       "    </tr>\n",
       "    <tr>\n",
       "      <th>pct_bach</th>\n",
       "      <td>3.50</td>\n",
       "      <td>1.90</td>\n",
       "      <td>3.50</td>\n",
       "      <td>14.70</td>\n",
       "    </tr>\n",
       "    <tr>\n",
       "      <th>mean_inc</th>\n",
       "      <td>45,650.00</td>\n",
       "      <td>44,463.00</td>\n",
       "      <td>43,342.00</td>\n",
       "      <td>82,091.00</td>\n",
       "    </tr>\n",
       "    <tr>\n",
       "      <th>cluster</th>\n",
       "      <td>2.00</td>\n",
       "      <td>1.00</td>\n",
       "      <td>2.00</td>\n",
       "      <td>2.00</td>\n",
       "    </tr>\n",
       "  </tbody>\n",
       "</table>\n",
       "</div>"
      ],
      "text/plain": [
       "                         0         1         2         3\n",
       "inbound_transit     106.19     44.22    154.37    214.08\n",
       "outbound_transit     89.13     34.86    126.89    182.97\n",
       "inbound_auto        107.33     43.13    144.92    221.80\n",
       "outbound_auto        86.61     33.17    116.45    173.72\n",
       "inbound_active      187.46     75.32    224.32    355.36\n",
       "outbound_active     149.18     60.57    187.71    283.84\n",
       "avg_hh_size           4.25      4.16      4.24      2.79\n",
       "pct_white             0.32      0.38      0.30      0.38\n",
       "pct_black             0.09      0.22      0.22      0.04\n",
       "pct_asian             0.00      0.01      0.00      0.25\n",
       "h_units          14,438.00 13,171.00 17,737.00 24,711.00\n",
       "pct_bach              3.50      1.90      3.50     14.70\n",
       "mean_inc         45,650.00 44,463.00 43,342.00 82,091.00\n",
       "cluster               2.00      1.00      2.00      2.00"
      ]
     },
     "execution_count": 1271,
     "metadata": {},
     "output_type": "execute_result"
    }
   ],
   "source": [
    "all_vars.T"
   ]
  },
  {
   "cell_type": "code",
   "execution_count": null,
   "metadata": {},
   "outputs": [],
   "source": []
  }
 ],
 "metadata": {
  "kernelspec": {
   "display_name": "Python 3",
   "language": "python",
   "name": "python3"
  },
  "language_info": {
   "codemirror_mode": {
    "name": "ipython",
    "version": 3
   },
   "file_extension": ".py",
   "mimetype": "text/x-python",
   "name": "python",
   "nbconvert_exporter": "python",
   "pygments_lexer": "ipython3",
   "version": "3.6.8"
  }
 },
 "nbformat": 4,
 "nbformat_minor": 2
}
