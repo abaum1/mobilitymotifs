{
 "cells": [
  {
   "cell_type": "code",
   "execution_count": 2,
   "metadata": {},
   "outputs": [],
   "source": [
    "import pandas as pd\n",
    "import os\n",
    "import matplotlib.pyplot as plt\n",
    "import numpy as np\n",
    "import uszipcode\n",
    "from uszipcode import SearchEngine\n",
    "import seaborn as sns"
   ]
  },
  {
   "cell_type": "code",
   "execution_count": 3,
   "metadata": {},
   "outputs": [],
   "source": [
    "data_path = '/Users/ameliabaum/Desktop/Amelia/Berkeley Fall 2019/CY PLAN 257/Final Project/data/'\n",
    "notebooks_path = '/Users/ameliabaum/Desktop/Amelia/Berkeley Fall 2019/CY PLAN 257/Final Project/notebooks/'"
   ]
  },
  {
   "cell_type": "markdown",
   "metadata": {},
   "source": [
    "## Load in the chts tables "
   ]
  },
  {
   "cell_type": "code",
   "execution_count": 4,
   "metadata": {},
   "outputs": [
    {
     "data": {
      "text/plain": [
       "['LookUp_PLACE.csv',\n",
       " 'Deliv_PER.csv',\n",
       " 'Deliv_HH.csv',\n",
       " 'LookUp_LD.csv',\n",
       " 'Deliv_PLACE.csv',\n",
       " 'LookUp_PER.csv',\n",
       " 'Deliv_LD.csv',\n",
       " 'ASSN_TravelDate.csv',\n",
       " 'Deliv_VEH.csv',\n",
       " 'LookUp_Home.csv',\n",
       " 'Deliv_ACTIVITY.csv']"
      ]
     },
     "execution_count": 4,
     "metadata": {},
     "output_type": "execute_result"
    }
   ],
   "source": [
    "os.listdir(data_path+'chts_csv_data')"
   ]
  },
  {
   "cell_type": "code",
   "execution_count": 5,
   "metadata": {},
   "outputs": [
    {
     "name": "stderr",
     "output_type": "stream",
     "text": [
      "/Users/ameliabaum/anaconda3/lib/python3.6/site-packages/IPython/core/interactiveshell.py:3020: DtypeWarning: Columns (40,60,93,97,104) have mixed types. Specify dtype option on import or set low_memory=False.\n",
      "  interactivity=interactivity, compiler=compiler, result=result)\n",
      "/Users/ameliabaum/anaconda3/lib/python3.6/site-packages/IPython/core/interactiveshell.py:3020: DtypeWarning: Columns (25,27,31) have mixed types. Specify dtype option on import or set low_memory=False.\n",
      "  interactivity=interactivity, compiler=compiler, result=result)\n",
      "/Users/ameliabaum/anaconda3/lib/python3.6/site-packages/IPython/core/interactiveshell.py:3020: DtypeWarning: Columns (22,38,39,40) have mixed types. Specify dtype option on import or set low_memory=False.\n",
      "  interactivity=interactivity, compiler=compiler, result=result)\n",
      "/Users/ameliabaum/anaconda3/lib/python3.6/site-packages/IPython/core/interactiveshell.py:3020: DtypeWarning: Columns (35) have mixed types. Specify dtype option on import or set low_memory=False.\n",
      "  interactivity=interactivity, compiler=compiler, result=result)\n"
     ]
    }
   ],
   "source": [
    "persons = pd.read_csv(data_path+'chts_csv_data/Deliv_PER.csv')\n",
    "hh = pd.read_csv(data_path+'chts_csv_data/Deliv_HH.csv')\n",
    "place = pd.read_csv(data_path+'chts_csv_data/Deliv_PLACE.csv')\n",
    "ld = pd.read_csv(data_path+'chts_csv_data/Deliv_LD.csv')\n",
    "activity = pd.read_csv(data_path+'chts_csv_data/Deliv_ACTIVITY.csv')[['SAMPN', 'PERNO', 'PLANO', 'APURP', 'O_APURP', 'STIME', 'ETIME']]\n"
   ]
  },
  {
   "cell_type": "markdown",
   "metadata": {},
   "source": [
    "### In Place table: create unique record identifiers by person, place and hh\n",
    "SAMPN is the unique household identifier, PERNO is the person num within the household. HHPER is a unique id for an individual person and includes information about their household\n",
    "\n",
    "HHPERPLA is the unique id for a person going to a certain place.\n",
    "\n",
    "Lat Lon information is redacted, so we only have ZIP code, tract and City for place values. This is likely fine because it would make sense to do out analysis at the census tract level."
   ]
  },
  {
   "cell_type": "code",
   "execution_count": 6,
   "metadata": {},
   "outputs": [
    {
     "data": {
      "text/plain": [
       "Index(['SAMPN', 'PERNO', 'PLANO', 'TOTTR', 'HHMEM', 'PER1', 'PER2', 'PER3',\n",
       "       'PER4', 'PER5', 'NONHH', 'MODE', 'VEHNO', 'DYGOV', 'PRKTY', 'O_PRKTY',\n",
       "       'PXSTR', 'PRKMIN', 'PAYPK', 'PKAMT', 'PKUNT', 'PRKHW', 'O_PRKHW',\n",
       "       'EMPARK', 'TRANSYS', 'O_TRANSYS', 'ROUTE', 'ACTCNT', 'ARR_HR',\n",
       "       'ARR_MIN', 'DEP_HR', 'DEP_MIN', 'TRIPDUR', 'ACTDUR', 'TRIPDIST',\n",
       "       'PNAME', 'CITY', 'STATE', 'ZIP', 'XCORD', 'YCORD', 'RouteDistance',\n",
       "       'CTFIP', 'TRACT', 'PPrimaryCity', 'PSTFIP', 'PERWGT', 'EXPPERWGT',\n",
       "       'TRIPNO', 'TCF', 'TCFPERWGT', 'EXPTCFPERWGT'],\n",
       "      dtype='object')"
      ]
     },
     "execution_count": 6,
     "metadata": {},
     "output_type": "execute_result"
    }
   ],
   "source": [
    "place.columns"
   ]
  },
  {
   "cell_type": "code",
   "execution_count": 7,
   "metadata": {},
   "outputs": [
    {
     "data": {
      "text/html": [
       "<div>\n",
       "<style scoped>\n",
       "    .dataframe tbody tr th:only-of-type {\n",
       "        vertical-align: middle;\n",
       "    }\n",
       "\n",
       "    .dataframe tbody tr th {\n",
       "        vertical-align: top;\n",
       "    }\n",
       "\n",
       "    .dataframe thead th {\n",
       "        text-align: right;\n",
       "    }\n",
       "</style>\n",
       "<table border=\"1\" class=\"dataframe\">\n",
       "  <thead>\n",
       "    <tr style=\"text-align: right;\">\n",
       "      <th></th>\n",
       "      <th>HHPERPLA</th>\n",
       "      <th>MODE</th>\n",
       "      <th>ARR_HR</th>\n",
       "      <th>ARR_MIN</th>\n",
       "      <th>DEP_HR</th>\n",
       "      <th>DEP_MIN</th>\n",
       "      <th>TRIPDUR</th>\n",
       "      <th>CITY</th>\n",
       "      <th>PNAME</th>\n",
       "      <th>STATE</th>\n",
       "      <th>ZIP</th>\n",
       "      <th>TRACT</th>\n",
       "    </tr>\n",
       "  </thead>\n",
       "  <tbody>\n",
       "    <tr>\n",
       "      <th>0</th>\n",
       "      <td>103198511</td>\n",
       "      <td>NaN</td>\n",
       "      <td>3</td>\n",
       "      <td>0</td>\n",
       "      <td>8</td>\n",
       "      <td>40</td>\n",
       "      <td>NaN</td>\n",
       "      <td>VALLEJO</td>\n",
       "      <td>HOME</td>\n",
       "      <td>CA</td>\n",
       "      <td>94591</td>\n",
       "      <td>252202.0</td>\n",
       "    </tr>\n",
       "    <tr>\n",
       "      <th>1</th>\n",
       "      <td>103198512</td>\n",
       "      <td>6.0</td>\n",
       "      <td>9</td>\n",
       "      <td>2</td>\n",
       "      <td>12</td>\n",
       "      <td>53</td>\n",
       "      <td>22.0</td>\n",
       "      <td>BENICIA</td>\n",
       "      <td>BENICIA SENIOR CITIZEN CENTER</td>\n",
       "      <td>CA</td>\n",
       "      <td>94510</td>\n",
       "      <td>960500.0</td>\n",
       "    </tr>\n",
       "    <tr>\n",
       "      <th>2</th>\n",
       "      <td>103198513</td>\n",
       "      <td>6.0</td>\n",
       "      <td>13</td>\n",
       "      <td>13</td>\n",
       "      <td>2</td>\n",
       "      <td>59</td>\n",
       "      <td>20.0</td>\n",
       "      <td>VALLEJO</td>\n",
       "      <td>HOME</td>\n",
       "      <td>CA</td>\n",
       "      <td>94591</td>\n",
       "      <td>252202.0</td>\n",
       "    </tr>\n",
       "    <tr>\n",
       "      <th>3</th>\n",
       "      <td>103198521</td>\n",
       "      <td>NaN</td>\n",
       "      <td>3</td>\n",
       "      <td>0</td>\n",
       "      <td>9</td>\n",
       "      <td>16</td>\n",
       "      <td>NaN</td>\n",
       "      <td>VALLEJO</td>\n",
       "      <td>HOME</td>\n",
       "      <td>CA</td>\n",
       "      <td>94591</td>\n",
       "      <td>252202.0</td>\n",
       "    </tr>\n",
       "    <tr>\n",
       "      <th>4</th>\n",
       "      <td>103198522</td>\n",
       "      <td>5.0</td>\n",
       "      <td>9</td>\n",
       "      <td>26</td>\n",
       "      <td>10</td>\n",
       "      <td>43</td>\n",
       "      <td>10.0</td>\n",
       "      <td>VALLEJO</td>\n",
       "      <td>LOMA VISTA ELEMENTARY SCHOOL</td>\n",
       "      <td>CA</td>\n",
       "      <td>94589</td>\n",
       "      <td>950200.0</td>\n",
       "    </tr>\n",
       "  </tbody>\n",
       "</table>\n",
       "</div>"
      ],
      "text/plain": [
       "    HHPERPLA  MODE  ARR_HR  ARR_MIN  DEP_HR  DEP_MIN  TRIPDUR     CITY  \\\n",
       "0  103198511   NaN       3        0       8       40      NaN  VALLEJO   \n",
       "1  103198512   6.0       9        2      12       53     22.0  BENICIA   \n",
       "2  103198513   6.0      13       13       2       59     20.0  VALLEJO   \n",
       "3  103198521   NaN       3        0       9       16      NaN  VALLEJO   \n",
       "4  103198522   5.0       9       26      10       43     10.0  VALLEJO   \n",
       "\n",
       "                           PNAME STATE    ZIP     TRACT  \n",
       "0                           HOME    CA  94591  252202.0  \n",
       "1  BENICIA SENIOR CITIZEN CENTER    CA  94510  960500.0  \n",
       "2                           HOME    CA  94591  252202.0  \n",
       "3                           HOME    CA  94591  252202.0  \n",
       "4   LOMA VISTA ELEMENTARY SCHOOL    CA  94589  950200.0  "
      ]
     },
     "execution_count": 7,
     "metadata": {},
     "output_type": "execute_result"
    }
   ],
   "source": [
    "place['HHPER'] = place['SAMPN'].map(str) + place['PERNO'].map(str) \n",
    "\n",
    "place['HHPERPLA'] = place['HHPER'].map(str) + place['PLANO'].map(str)\n",
    "place1 = place[['HHPERPLA','MODE',\"ARR_HR\", \"ARR_MIN\", \"DEP_HR\", \"DEP_MIN\",\"TRIPDUR\", \"CITY\", 'PNAME',\n",
    "                'STATE', 'ZIP',\"TRACT\"]]\n",
    "place1.head()"
   ]
  },
  {
   "cell_type": "markdown",
   "metadata": {},
   "source": [
    "### In activity table: create unique record identifiers by person, place and hh id\n",
    "CHTS entries are organized into individual trips by survey participants (\"persons\"), each of which has a destination (\"place\") and activity purpose (\"purpose\"), a start time and end time, and an interpolated dwell time. \n",
    "\n",
    "This data manipulation step forms uniquely identifiable records for every indidivual trip in the travel diary for that daySAMPN is the unique household identifier, PERNO is the person num within the household. HHPER is a unique id for an individual person and the household that they belong to.\n",
    "\n",
    "HHPERPLA is the unique identfier for person-place combinations. Two trips by the same person with different destinations will have 2 unique HHPERPLA identifiers. The last number is the place number, the second to last is the person id within the household, and the remaining are the household id.\n",
    "\n",
    "TSERIES_NUM is the number assigned to a trip within an activity path for each person-place combination. An example of what this represents might be: say a person makes a roundtrip trip from their home, as shown in the image below. The trips that are part of the tour are each assigned a number, and each are to a different place and with a different activity purpose. For instance, trips 1 and 2 are both part of the \"home-to-work\" trip and so they have the same destination (place) but they may have different purposes (ie: one might be an errand, drop off, getting coffee, etc.)"
   ]
  },
  {
   "cell_type": "markdown",
   "metadata": {},
   "source": [
    "<img src=\"activity_model.png\" style=\"width: 400px;\">"
   ]
  },
  {
   "cell_type": "markdown",
   "metadata": {},
   "source": [
    "#### Activity Purposes (from CHTS data dictionary)"
   ]
  },
  {
   "cell_type": "markdown",
   "metadata": {},
   "source": [
    "|    APURP    | Purpose | Other info | APURP | Purpose | Other info  |\n",
    "|--------|--------|--------|--------|--------|--------|\n",
    "| **1** | PERSONAL ACTIVITIES      | SLEEPING, PERSONAL CARE, LEISURE, CHORES      |   **20**    |ALL OTHER AFTER SCHOOL OR NON-CLASS RELATED ACTIVITIES |LIBRARY, BAND REHEARSAL, CLUBS, ETC |\n",
    "| **2** | PREPARING MEALS/EATING      | 0      |   **21**    |  CHANGE TYPE OF TRANSPORTATION/TRANSFER  | WALK TO BUS, WALK TO/FROM PARKED CAR |\n",
    "| **3** | HOSTING VISITORS/ENTERTAINING GUESTS  | 0|   **22**    |  PICKUP/DROP OFF PASSENGER(S) | 0    |\n",
    "| **4**| EXERCISE/PLAYING SPORTS      | WITH OR WITHOUT EQUIPMENT |   **23**   |DRIVE THROUGH MEALS| 0 |\n",
    "| **5**| STUDY / SCHOOLWORK      | 0      |   **24**    | DRIVE THROUGH OTHER| ATM, BANK|\n",
    "| **6**| WORK FOR PAY AT HOME   | TELECOMMUNICATIONS EQUIPMENT     |   **25**    |WORK-RELATED |MEETING, SALES CALL, DELIVERY |\n",
    "| **7**| USING COMPUTER/CELLPHONE FOR PERSONAL ACTIVITIES| 0 | **26** | SERVICE PRIVATE VEHICLE |GAS, OIL, LUBE, REPAIRS |\n",
    "| **8**| ALL OTHER HOME ACTIVITIES  | 0      |   **27**    |ROUTINE SHOPPING  |GROCERIES, CLOTHING, CONVENIENCE STORE, HH MAINTENANCE |\n",
    "| **9**| WORK/JOB DUTIES      | 0      |   **28**    |SHOPPING FOR MAJOR PURCHASES OR SPECIALTY ITEMS |APPLIANCE, ELECTRONICS, NEW VEHICLE, MAJOR HH REPAIRS |\n",
    "| **10**| TRAINING      | 0      |   **29**    |HOUSEHOLD ERRANDS |BANK, DRY CLEANING, ETC. |\n",
    "| **11**| MEALS AT WORK       | 0      |   **30**    |PERSONAL BUSINESS|EAT MEAL AT RESTAURANT/DINER|\n",
    "| **12**| WORK-SPONSORED SOCIAL ACTIVITIES      | HOLIDAY OR BIRTHDAY CELEBRATIONS, ETC      |   **31**    | 0| 0    |\n",
    "| **13**| NON-WORK RELATED ACTIVITIES     | SOCIAL CLUBS, ETC      |   **32**    |HEALTH CARE |DOCTOR, DENTIST, EYE CARE, CHIROPRACTOR, VETERINARIAN|\n",
    "    | **14**|  EXERCISE/SPORTS      | WITH OR WITHOUT EQUIPTMENT | **33** |CIVIC/RELIGIOUS ACTIVITIES| 0|\n",
    "| **15**| VOLUNTEER WORK/ACTIVITIES       | 0|   **34**    |OUTDOOR EXERCISE | 0|\n",
    "| **16**| ALL OTHER WORK-RELATED ACTIVITIES AT MY WORK | 0 |   **35**    |INDOOR EXERCISE |GYM, YOGA, ETC. |\n",
    "| **17**| IN SCHOOL/CLASSROOM/LABORATORY       | 0 |   **36**    |ENTERTAINMENT |MOVIES, WATCH SPORTS, ETC |\n",
    "| **18**| MEALS AT SCHOOL/COLLEGE      | 0 | **37**    |SOCIAL/VISIT FRIENDS/RELATIVES| 0|\n",
    "| **19**| AFTER SCHOOL SPORTS/PHYSICAL ACTIVITY | 0|   **38**    | OTHER (SPECIFY) | 0 |\n"
   ]
  },
  {
   "cell_type": "markdown",
   "metadata": {},
   "source": [
    "#### Mode Choices (from CHTS data dictionary)\n"
   ]
  },
  {
   "cell_type": "markdown",
   "metadata": {},
   "source": [
    "| Code | **Mode Choice** |Code | **Mode Choice** |\n",
    "|--------|--------|--------|--------|\n",
    "| **1** | Walk | **16** | Express Bus / Commuter Bus (AC Transbay, Golden Gate Transit, etc) | \n",
    "| **2** | Bike | **17** | Premium Bus ( Metro Orange / Silver Line ) |\n",
    "| **3** | Wheelchair / Mobility Scooter | **18** | School Bus  |\n",
    "| **4** | Other Non-Motorized | **19** | Public Transit Shuttle (DASH, Emery Go Round, etc.) |\n",
    "| **5** | Auto / Van / Truck Driver | **20** | AirBART / LAX FlyAway |\n",
    "| **6** | Auto / Van / Truck Passenger| **21** | Dial-a-Ride / Paratransit (Access Services, etc.) |\n",
    "| **7** | Carpool / Vanpool| **22** | Amtrak Bus |\n",
    "| **8** | Motorcycle / Scooter / Moped| **23** | Other Bus |\n",
    "| **9** | Taxi / Hired Car / Limo|  **24** | BART, Metro Red / Purple Line|\n",
    "| **10** | Rental Car/Vehicle |  **25** | ACE, Amtrak, Caltrain, Coaster, Metrolink|\n",
    "| **11** | Private shuttle (SuperShuttle, employer, hotel, etc.)|  **26** | Metro Blue / Green / Gold Line, Muni Metro, Sacramento Light Rail, San Diego Sprinter / Trolley / Orange/Blue/Green, VTA Light Rail|\n",
    "| **12** | Greyhound Bus |  **27** | Street Car / Cable Car |\n",
    "| **13** | Plane|  **28** | Other Rail    |\n",
    "| **14** | Other Private Transit|  **29** | Ferry / Boat |\n",
    "| **15** | Local Bus, Rapid Bus |  "
   ]
  },
  {
   "cell_type": "code",
   "execution_count": 8,
   "metadata": {},
   "outputs": [
    {
     "data": {
      "text/plain": [
       "Index(['HHPERPLA', 'MODE', 'ARR_HR', 'ARR_MIN', 'DEP_HR', 'DEP_MIN', 'TRIPDUR',\n",
       "       'CITY', 'PNAME', 'STATE', 'ZIP', 'TRACT', 'SAMPN', 'PERNO', 'PLANO',\n",
       "       'APURP', 'STIME', 'ETIME', 'HHPER', 'TSERIES_NUM'],\n",
       "      dtype='object')"
      ]
     },
     "execution_count": 8,
     "metadata": {},
     "output_type": "execute_result"
    }
   ],
   "source": [
    "activity['HHPER'] = activity['SAMPN'].map(str) + activity['PERNO'].map(str)\n",
    "activity['HHPERPLA'] = activity['HHPER'].map(str) + activity['PLANO'].map(str)\n",
    "activity['TSERIES_NUM'] = activity.groupby('HHPERPLA').cumcount() +1 \n",
    "activity1 = activity.drop(\"O_APURP\", axis =1, inplace=False)\n",
    "\n",
    "activity2 = pd.merge(place1, activity1, right_on=\"HHPERPLA\", left_on=\"HHPERPLA\")\n",
    "activity2.head(10)\n",
    "activity2.columns"
   ]
  },
  {
   "cell_type": "markdown",
   "metadata": {},
   "source": [
    "#### Merge information from the persons table to get demographic information"
   ]
  },
  {
   "cell_type": "code",
   "execution_count": 9,
   "metadata": {},
   "outputs": [],
   "source": [
    "persons['HHPER'] = persons['SAMPN'].map(str) + persons['PERNO'].map(str)\n",
    "persons1 = persons[[\"HHPER\", \"RELAT\", \"GEND\", \"AGE\", \"HISP\", \"RACE1\"]]\n",
    "# list(persons.columns)"
   ]
  },
  {
   "cell_type": "code",
   "execution_count": 10,
   "metadata": {
    "scrolled": true
   },
   "outputs": [
    {
     "name": "stdout",
     "output_type": "stream",
     "text": [
      "trip records 604710\n"
     ]
    },
    {
     "data": {
      "text/plain": [
       "Index(['HHPER', 'RELAT', 'GEND', 'AGE', 'HISP', 'RACE1', 'HHPERPLA', 'MODE',\n",
       "       'ARR_HR', 'ARR_MIN', 'DEP_HR', 'DEP_MIN', 'TRIPDUR', 'CITY', 'PNAME',\n",
       "       'STATE', 'ZIP', 'TRACT', 'SAMPN', 'PERNO', 'PLANO', 'APURP', 'STIME',\n",
       "       'ETIME', 'TSERIES_NUM'],\n",
       "      dtype='object')"
      ]
     },
     "execution_count": 10,
     "metadata": {},
     "output_type": "execute_result"
    }
   ],
   "source": [
    "activity_people = pd.merge(persons1, activity2, right_on=\"HHPER\", left_on=\"HHPER\")\n",
    "\n",
    "activity_people.head(100)\n",
    "\n",
    "print(\"trip records\", len(activity_people))\n",
    "activity_people.columns"
   ]
  },
  {
   "cell_type": "code",
   "execution_count": 11,
   "metadata": {},
   "outputs": [],
   "source": [
    "sample = activity_people.sample(5000)"
   ]
  },
  {
   "cell_type": "markdown",
   "metadata": {},
   "source": [
    "#### Get just the trip records with valid zip code information that finish in CA (leave the rest out of the sample)"
   ]
  },
  {
   "cell_type": "code",
   "execution_count": 12,
   "metadata": {},
   "outputs": [
    {
     "name": "stdout",
     "output_type": "stream",
     "text": [
      "elapsed  15.291676998138428\n"
     ]
    }
   ],
   "source": [
    "import time\n",
    "start = time.time()\n",
    "def is_zip(code):\n",
    "    search = SearchEngine(simple_zipcode=True)\n",
    "    zipcode = search.by_zipcode(code)\n",
    "    if (zipcode.zipcode is None or zipcode.state != 'CA' or zipcode.zipcode == 99999):\n",
    "        return False\n",
    "    else:\n",
    "        return True\n",
    "\n",
    "sample[\"is_zip\"] = sample[\"ZIP\"].apply(lambda row: is_zip(row))\n",
    "v_zips = sample[sample[\"is_zip\"] ==True]\n",
    "v_zips.head()\n",
    "\n",
    "\n",
    "end = time.time()\n",
    "\n",
    "print(\"elapsed \", end-start)"
   ]
  },
  {
   "cell_type": "markdown",
   "metadata": {},
   "source": [
    "#### Compare before and after % to find proportion unused"
   ]
  },
  {
   "cell_type": "code",
   "execution_count": 64,
   "metadata": {},
   "outputs": [
    {
     "name": "stdout",
     "output_type": "stream",
     "text": [
      "604710\n",
      "4941\n",
      "0.00817085875874386\n"
     ]
    }
   ],
   "source": [
    "print(len(activity_people))\n",
    "print(len(v_zips))\n",
    "print(len(v_zips)/len(activity_people))"
   ]
  },
  {
   "cell_type": "markdown",
   "metadata": {},
   "source": [
    "#### Group the data by zip code start here at the trip types and return an array"
   ]
  },
  {
   "cell_type": "code",
   "execution_count": 24,
   "metadata": {},
   "outputs": [],
   "source": [
    "def get_trip_types(df):\n",
    "        school = [5,17,18,19,20]\n",
    "        work = [6,9,10,16,12,11,25]\n",
    "        personal_care = [32,30]\n",
    "        errands = [26, 24, 29]\n",
    "        discretionary = [37,36,34,35,33,14]\n",
    "        shopping = [27,28]\n",
    "        home = [3,8]\n",
    "    \n",
    "        num_sch = len(df[(df[\"APURP\"].isin(school))])\n",
    "        num_work = len(df[(df[\"APURP\"].isin(work))])\n",
    "        num_personal = len(df[(df[\"APURP\"].isin(personal_care))])\n",
    "        num_pickdrop = len(df[df[\"APURP\"] == 22])\n",
    "        num_discret = len(df[(df[\"APURP\"].isin(discretionary))])\n",
    "        num_shop = len(df[(df[\"APURP\"].isin(shopping))])\n",
    "        num_home = len(df[(df[\"APURP\"].isin(home))])"
   ]
  },
  {
   "cell_type": "code",
   "execution_count": 25,
   "metadata": {},
   "outputs": [],
   "source": [
    "def get_TOD_trips(df):\n",
    "        '''categorized by arrival time'''\n",
    "    \n",
    "    \n",
    "        early_morn = pd.Interval(left='03:00', right='06:59')\n",
    "        morn = pd.Interval(left='07:00', right='11:59')\n",
    "        afternoon = pd.Interval(left='12:00', right='16:59')\n",
    "        eve_night = pd.Interval(left='17:00', right='2:59')\n",
    "    \n",
    "     \n",
    "        num_em = len(df[(df[\"STIME\"].apply(lambda x: x in early_morn))])\n",
    "        num_m = len(df[(df[\"STIME\"].apply(lambda x: x in morn))])\n",
    "        num_aft = len(df[(df[\"STIME\"].apply(lambda x: x in afternoon))])\n",
    "        num_evn = len(df[(df[\"STIME\"].apply(lambda x: x in eve_night))])\n",
    "        return [num_em, num_m, num_aft, num_evn] #4"
   ]
  },
  {
   "cell_type": "code",
   "execution_count": 26,
   "metadata": {},
   "outputs": [],
   "source": [
    "def get_trip_modes(df):\n",
    "\n",
    "        walk = 1\n",
    "        bike_etc = [2,3,4,8] #Bike/scooter/mobility scooter/wheelchair\n",
    "        auto_etc = [5,6,7,10] #Car/taxi/TNC\n",
    "        taxi = [9]\n",
    "        local_bus = [15,16,17,18,19,21,11]\n",
    "        inter_rail = [22,23,24,25,12]\n",
    "        intra_rail = [26,27]\n",
    "        other = [13,29] #plane,ferry\n",
    "    \n",
    "    \n",
    "        num_walk = len(df[(df[\"MODE\"] == walk)])\n",
    "        num_bike = len(df[(df[\"MODE\"].isin(bike_etc))])\n",
    "        num_taxi = len(df[(df[\"MODE\"].isin(taxi))])\n",
    "        num_local_bus = len(df[(df[\"MODE\"].isin(local_bus))])\n",
    "        num_inter_rail = len(df[(df[\"MODE\"].isin(inter_rail))])\n",
    "        num_intra_rail = len(df[(df[\"MODE\"].isin(intra_rail))])\n",
    "\n",
    "        num_auto = len(df[df[\"MODE\"].isin(auto_etc)])\n",
    "        num_other = len(df[(df[\"MODE\"].isin(other))])\n",
    "\n",
    "        return [num_walk, num_bike, num_taxi, num_local_bus, num_inter_rail, num_intra_rail, num_auto,\n",
    "            num_other] #8"
   ]
  },
  {
   "cell_type": "code",
   "execution_count": 136,
   "metadata": {},
   "outputs": [],
   "source": [
    "def get_features(df):\n",
    "    \n",
    "    def get_trip_modes(df):\n",
    "\n",
    "        walk = 1\n",
    "        bike_etc = [2,3,4,8] #Bike/scooter/mobility scooter/wheelchair\n",
    "        auto_etc = [5,6,7,10] #Car/taxi/TNC\n",
    "        taxi = [9]\n",
    "        local_bus = [15,16,17,18,19,21,11]\n",
    "        inter_rail = [22,23,24,25,12]\n",
    "        intra_rail = [26,27]\n",
    "        other = [13,29] #plane,ferry\n",
    "    \n",
    "    \n",
    "        num_walk = len(df[(df[\"MODE\"] == walk)])\n",
    "        num_bike = len(df[(df[\"MODE\"].isin(bike_etc))])\n",
    "        num_taxi = len(df[(df[\"MODE\"].isin(taxi))])\n",
    "        num_local_bus = len(df[(df[\"MODE\"].isin(local_bus))])\n",
    "        num_inter_rail = len(df[(df[\"MODE\"].isin(inter_rail))])\n",
    "        num_intra_rail = len(df[(df[\"MODE\"].isin(intra_rail))])\n",
    "\n",
    "        num_auto = len(df[df[\"MODE\"].isin(auto_etc)])\n",
    "        num_other = len(df[(df[\"MODE\"].isin(other))])\n",
    "\n",
    "        return [num_walk, num_bike, num_taxi, num_local_bus, num_inter_rail, num_intra_rail, num_auto,\n",
    "            num_other]\n",
    "\n",
    "    def get_TOD_trips(df):\n",
    "        '''categorized by arrival time'''\n",
    "    \n",
    "    \n",
    "        early_morn = pd.Interval(left='03:00', right='06:59')\n",
    "        morn = pd.Interval(left='07:00', right='11:59')\n",
    "        afternoon = pd.Interval(left='12:00', right='16:59')\n",
    "        eve_night = pd.Interval(left='17:00', right='2:59')\n",
    "    \n",
    "     \n",
    "        num_em = len(df[(df[\"STIME\"].apply(lambda x: x in early_morn))])\n",
    "        num_m = len(df[(df[\"STIME\"].apply(lambda x: x in morn))])\n",
    "        num_aft = len(df[(df[\"STIME\"].apply(lambda x: x in afternoon))])\n",
    "        num_evn = len(df[(df[\"STIME\"].apply(lambda x: x in eve_night))])\n",
    "        return [num_em, num_m, num_aft, num_evn]\n",
    "\n",
    "    def get_trip_types(df):\n",
    "        school = [5,17,18,19,20]\n",
    "        work = [6,9,10,16,12,11,25]\n",
    "        personal_care = [32,30]\n",
    "        errands = [26, 24, 29]\n",
    "        discretionary = [37,36,34,35,33,14]\n",
    "        shopping = [27,28]\n",
    "        home = [3,8]\n",
    "    \n",
    "        num_sch = len(df[(df[\"APURP\"].isin(school))])\n",
    "        num_work = len(df[(df[\"APURP\"].isin(work))])\n",
    "        num_personal = len(df[(df[\"APURP\"].isin(personal_care))])\n",
    "        num_pickdrop = len(df[df[\"APURP\"] == 22])\n",
    "        num_discret = len(df[(df[\"APURP\"].isin(discretionary))])\n",
    "        num_shop = len(df[(df[\"APURP\"].isin(shopping))])\n",
    "        num_home = len(df[(df[\"APURP\"].isin(home))])\n",
    "    \n",
    "        return [num_sch, num_work, num_personal, num_pickdrop, num_discret, num_shop, num_home]\n",
    "    \n",
    "#     def get_avg_dur(df):\n",
    "#         df1 = df.fillna(df.mean())\n",
    "#         return [(np.mean(df1[\"TRIPDUR\"]))] #1\n",
    "    \n",
    "    \n",
    "    return pd.Series(np.concatenate([get_trip_types(df), get_TOD_trips(df), get_trip_modes(df)]))\n"
   ]
  },
  {
   "cell_type": "code",
   "execution_count": 133,
   "metadata": {},
   "outputs": [],
   "source": [
    "\n",
    "# f = v_zips.groupby(\"ZIP\").apply(get_features)\n",
    "# # print(f.shape)\n",
    "# f.columns = [\"num_sch\", \"num_work\", \"num_personal\", \"num_pickdrop\", \"num_discret\", \"num_shop\", \"num_home\",\n",
    "#   \"num_em\", \"num_m\", \"num_aft\", \"num_evn\", \"num_walk\", \"num_bike\", \"num_taxi\", \"num_local_bus\", \"num_inter_rail\",\n",
    "#    \"num_intra_rail\", \"num_auto\", \"num_other\", \"trip_dur\"]"
   ]
  },
  {
   "cell_type": "markdown",
   "metadata": {},
   "source": [
    "#### Explore some time sequences"
   ]
  },
  {
   "cell_type": "code",
   "execution_count": 113,
   "metadata": {},
   "outputs": [],
   "source": [
    "def get_timestamp(row):\n",
    "    if (row[\"ARR_HR\"] == 24):\n",
    "        row[\"ARR_HR\"] = 0\n",
    "    if (row[\"DEP_HR\"] == 24):\n",
    "        row[\"DEP_HR\"] = 0\n",
    "    try:\n",
    "        return [pd.Timestamp(2000, 1, 1, row[\"ARR_HR\"], row[\"ARR_MIN\"]), \n",
    "                pd.Timestamp(2000, 1, 1, row[\"DEP_HR\"], row[\"DEP_MIN\"])]\n",
    "    except ValueError as e:\n",
    "        print(e, \"zcode: \", row[\"ZIP\"], \"hour: \", row[\"ARR_HR\"])\n",
    "#             , \n",
    "#     pd.Timestamp(2000, 1, 1, row[\"ARR_HR\"], row[\"ARR_MIN\"])]"
   ]
  },
  {
   "cell_type": "code",
   "execution_count": 114,
   "metadata": {},
   "outputs": [
    {
     "data": {
      "text/html": [
       "<div>\n",
       "<style scoped>\n",
       "    .dataframe tbody tr th:only-of-type {\n",
       "        vertical-align: middle;\n",
       "    }\n",
       "\n",
       "    .dataframe tbody tr th {\n",
       "        vertical-align: top;\n",
       "    }\n",
       "\n",
       "    .dataframe thead th {\n",
       "        text-align: right;\n",
       "    }\n",
       "</style>\n",
       "<table border=\"1\" class=\"dataframe\">\n",
       "  <thead>\n",
       "    <tr style=\"text-align: right;\">\n",
       "      <th></th>\n",
       "      <th>HHPER</th>\n",
       "      <th>RELAT</th>\n",
       "      <th>GEND</th>\n",
       "      <th>AGE</th>\n",
       "      <th>HISP</th>\n",
       "      <th>RACE1</th>\n",
       "      <th>HHPERPLA</th>\n",
       "      <th>MODE</th>\n",
       "      <th>ARR_HR</th>\n",
       "      <th>ARR_MIN</th>\n",
       "      <th>...</th>\n",
       "      <th>SAMPN</th>\n",
       "      <th>PERNO</th>\n",
       "      <th>PLANO</th>\n",
       "      <th>APURP</th>\n",
       "      <th>STIME</th>\n",
       "      <th>ETIME</th>\n",
       "      <th>TSERIES_NUM</th>\n",
       "      <th>is_zip</th>\n",
       "      <th>arrival_timestamp</th>\n",
       "      <th>dep_timestamp</th>\n",
       "    </tr>\n",
       "  </thead>\n",
       "  <tbody>\n",
       "    <tr>\n",
       "      <th>25762</th>\n",
       "      <td>11589991</td>\n",
       "      <td>1</td>\n",
       "      <td>1</td>\n",
       "      <td>64</td>\n",
       "      <td>2</td>\n",
       "      <td>1.0</td>\n",
       "      <td>115899916</td>\n",
       "      <td>5.0</td>\n",
       "      <td>20</td>\n",
       "      <td>24</td>\n",
       "      <td>...</td>\n",
       "      <td>1158999</td>\n",
       "      <td>1</td>\n",
       "      <td>6</td>\n",
       "      <td>1</td>\n",
       "      <td>20:24</td>\n",
       "      <td>02:59</td>\n",
       "      <td>1</td>\n",
       "      <td>True</td>\n",
       "      <td>2000-01-01 02:59:00</td>\n",
       "      <td>2000-01-01 20:24:00</td>\n",
       "    </tr>\n",
       "    <tr>\n",
       "      <th>362397</th>\n",
       "      <td>25114281</td>\n",
       "      <td>1</td>\n",
       "      <td>2</td>\n",
       "      <td>44</td>\n",
       "      <td>2</td>\n",
       "      <td>1.0</td>\n",
       "      <td>251142813</td>\n",
       "      <td>5.0</td>\n",
       "      <td>10</td>\n",
       "      <td>15</td>\n",
       "      <td>...</td>\n",
       "      <td>2511428</td>\n",
       "      <td>1</td>\n",
       "      <td>3</td>\n",
       "      <td>25</td>\n",
       "      <td>10:15</td>\n",
       "      <td>11:00</td>\n",
       "      <td>1</td>\n",
       "      <td>True</td>\n",
       "      <td>2000-01-01 11:00:00</td>\n",
       "      <td>2000-01-01 10:15:00</td>\n",
       "    </tr>\n",
       "    <tr>\n",
       "      <th>486602</th>\n",
       "      <td>29460481</td>\n",
       "      <td>1</td>\n",
       "      <td>1</td>\n",
       "      <td>68</td>\n",
       "      <td>2</td>\n",
       "      <td>1.0</td>\n",
       "      <td>294604813</td>\n",
       "      <td>5.0</td>\n",
       "      <td>21</td>\n",
       "      <td>30</td>\n",
       "      <td>...</td>\n",
       "      <td>2946048</td>\n",
       "      <td>1</td>\n",
       "      <td>3</td>\n",
       "      <td>8</td>\n",
       "      <td>21:30</td>\n",
       "      <td>02:59</td>\n",
       "      <td>1</td>\n",
       "      <td>True</td>\n",
       "      <td>2000-01-01 02:59:00</td>\n",
       "      <td>2000-01-01 21:30:00</td>\n",
       "    </tr>\n",
       "    <tr>\n",
       "      <th>211847</th>\n",
       "      <td>17940325</td>\n",
       "      <td>7</td>\n",
       "      <td>1</td>\n",
       "      <td>14</td>\n",
       "      <td>2</td>\n",
       "      <td>1.0</td>\n",
       "      <td>179403251</td>\n",
       "      <td>NaN</td>\n",
       "      <td>3</td>\n",
       "      <td>0</td>\n",
       "      <td>...</td>\n",
       "      <td>1794032</td>\n",
       "      <td>5</td>\n",
       "      <td>1</td>\n",
       "      <td>30</td>\n",
       "      <td>03:00</td>\n",
       "      <td>09:30</td>\n",
       "      <td>1</td>\n",
       "      <td>True</td>\n",
       "      <td>2000-01-01 13:00:00</td>\n",
       "      <td>2000-01-01 03:00:00</td>\n",
       "    </tr>\n",
       "    <tr>\n",
       "      <th>393665</th>\n",
       "      <td>25813493</td>\n",
       "      <td>3</td>\n",
       "      <td>1</td>\n",
       "      <td>21</td>\n",
       "      <td>2</td>\n",
       "      <td>1.0</td>\n",
       "      <td>258134931</td>\n",
       "      <td>NaN</td>\n",
       "      <td>3</td>\n",
       "      <td>0</td>\n",
       "      <td>...</td>\n",
       "      <td>2581349</td>\n",
       "      <td>3</td>\n",
       "      <td>1</td>\n",
       "      <td>1</td>\n",
       "      <td>03:00</td>\n",
       "      <td>17:00</td>\n",
       "      <td>1</td>\n",
       "      <td>True</td>\n",
       "      <td>2000-01-01 17:40:00</td>\n",
       "      <td>2000-01-01 03:00:00</td>\n",
       "    </tr>\n",
       "  </tbody>\n",
       "</table>\n",
       "<p>5 rows × 28 columns</p>\n",
       "</div>"
      ],
      "text/plain": [
       "           HHPER  RELAT  GEND  AGE  HISP  RACE1   HHPERPLA  MODE  ARR_HR  \\\n",
       "25762   11589991      1     1   64     2    1.0  115899916   5.0      20   \n",
       "362397  25114281      1     2   44     2    1.0  251142813   5.0      10   \n",
       "486602  29460481      1     1   68     2    1.0  294604813   5.0      21   \n",
       "211847  17940325      7     1   14     2    1.0  179403251   NaN       3   \n",
       "393665  25813493      3     1   21     2    1.0  258134931   NaN       3   \n",
       "\n",
       "        ARR_MIN  ...    SAMPN  PERNO  PLANO APURP  STIME  ETIME TSERIES_NUM  \\\n",
       "25762        24  ...  1158999      1      6     1  20:24  02:59           1   \n",
       "362397       15  ...  2511428      1      3    25  10:15  11:00           1   \n",
       "486602       30  ...  2946048      1      3     8  21:30  02:59           1   \n",
       "211847        0  ...  1794032      5      1    30  03:00  09:30           1   \n",
       "393665        0  ...  2581349      3      1     1  03:00  17:00           1   \n",
       "\n",
       "        is_zip   arrival_timestamp       dep_timestamp  \n",
       "25762     True 2000-01-01 02:59:00 2000-01-01 20:24:00  \n",
       "362397    True 2000-01-01 11:00:00 2000-01-01 10:15:00  \n",
       "486602    True 2000-01-01 02:59:00 2000-01-01 21:30:00  \n",
       "211847    True 2000-01-01 13:00:00 2000-01-01 03:00:00  \n",
       "393665    True 2000-01-01 17:40:00 2000-01-01 03:00:00  \n",
       "\n",
       "[5 rows x 28 columns]"
      ]
     },
     "execution_count": 114,
     "metadata": {},
     "output_type": "execute_result"
    }
   ],
   "source": [
    "sample[\"arrival_timestamp\"] = sample.apply(lambda row: get_timestamp(row)[1], axis=1)\n",
    "sample[\"dep_timestamp\"] = sample.apply(lambda row: get_timestamp(row)[0], axis=1)\n",
    "sample.head()\n",
    "\n"
   ]
  },
  {
   "cell_type": "markdown",
   "metadata": {},
   "source": [
    "### Split the dataset into 4 parts for testing of features"
   ]
  },
  {
   "cell_type": "code",
   "execution_count": 150,
   "metadata": {},
   "outputs": [],
   "source": [
    "part1, part2, part3, part4, part5 = np.split(v_zips, 5)"
   ]
  },
  {
   "cell_type": "code",
   "execution_count": 152,
   "metadata": {},
   "outputs": [
    {
     "data": {
      "text/html": [
       "<div>\n",
       "<style scoped>\n",
       "    .dataframe tbody tr th:only-of-type {\n",
       "        vertical-align: middle;\n",
       "    }\n",
       "\n",
       "    .dataframe tbody tr th {\n",
       "        vertical-align: top;\n",
       "    }\n",
       "\n",
       "    .dataframe thead th {\n",
       "        text-align: right;\n",
       "    }\n",
       "</style>\n",
       "<table border=\"1\" class=\"dataframe\">\n",
       "  <thead>\n",
       "    <tr style=\"text-align: right;\">\n",
       "      <th></th>\n",
       "      <th>HHPER</th>\n",
       "      <th>RELAT</th>\n",
       "      <th>GEND</th>\n",
       "      <th>AGE</th>\n",
       "      <th>HISP</th>\n",
       "      <th>RACE1</th>\n",
       "      <th>HHPERPLA</th>\n",
       "      <th>MODE</th>\n",
       "      <th>ARR_HR</th>\n",
       "      <th>ARR_MIN</th>\n",
       "      <th>...</th>\n",
       "      <th>ZIP</th>\n",
       "      <th>TRACT</th>\n",
       "      <th>SAMPN</th>\n",
       "      <th>PERNO</th>\n",
       "      <th>PLANO</th>\n",
       "      <th>APURP</th>\n",
       "      <th>STIME</th>\n",
       "      <th>ETIME</th>\n",
       "      <th>TSERIES_NUM</th>\n",
       "      <th>is_zip</th>\n",
       "    </tr>\n",
       "  </thead>\n",
       "  <tbody>\n",
       "    <tr>\n",
       "      <th>462410</th>\n",
       "      <td>28439901</td>\n",
       "      <td>1</td>\n",
       "      <td>2</td>\n",
       "      <td>70</td>\n",
       "      <td>2</td>\n",
       "      <td>2.0</td>\n",
       "      <td>284399012</td>\n",
       "      <td>1.0</td>\n",
       "      <td>6</td>\n",
       "      <td>40</td>\n",
       "      <td>...</td>\n",
       "      <td>92506</td>\n",
       "      <td>31401.0</td>\n",
       "      <td>2843990</td>\n",
       "      <td>1</td>\n",
       "      <td>2</td>\n",
       "      <td>39</td>\n",
       "      <td>06:40</td>\n",
       "      <td>06:41</td>\n",
       "      <td>1</td>\n",
       "      <td>True</td>\n",
       "    </tr>\n",
       "    <tr>\n",
       "      <th>431181</th>\n",
       "      <td>26643471</td>\n",
       "      <td>1</td>\n",
       "      <td>1</td>\n",
       "      <td>40</td>\n",
       "      <td>2</td>\n",
       "      <td>1.0</td>\n",
       "      <td>266434714</td>\n",
       "      <td>5.0</td>\n",
       "      <td>8</td>\n",
       "      <td>0</td>\n",
       "      <td>...</td>\n",
       "      <td>92223</td>\n",
       "      <td>43818.0</td>\n",
       "      <td>2664347</td>\n",
       "      <td>1</td>\n",
       "      <td>4</td>\n",
       "      <td>1</td>\n",
       "      <td>08:00</td>\n",
       "      <td>10:40</td>\n",
       "      <td>1</td>\n",
       "      <td>True</td>\n",
       "    </tr>\n",
       "    <tr>\n",
       "      <th>379382</th>\n",
       "      <td>25496451</td>\n",
       "      <td>1</td>\n",
       "      <td>2</td>\n",
       "      <td>65</td>\n",
       "      <td>2</td>\n",
       "      <td>1.0</td>\n",
       "      <td>254964511</td>\n",
       "      <td>NaN</td>\n",
       "      <td>3</td>\n",
       "      <td>0</td>\n",
       "      <td>...</td>\n",
       "      <td>95209</td>\n",
       "      <td>3210.0</td>\n",
       "      <td>2549645</td>\n",
       "      <td>1</td>\n",
       "      <td>1</td>\n",
       "      <td>3</td>\n",
       "      <td>09:00</td>\n",
       "      <td>09:15</td>\n",
       "      <td>3</td>\n",
       "      <td>True</td>\n",
       "    </tr>\n",
       "    <tr>\n",
       "      <th>407402</th>\n",
       "      <td>26110912</td>\n",
       "      <td>2</td>\n",
       "      <td>2</td>\n",
       "      <td>52</td>\n",
       "      <td>1</td>\n",
       "      <td>1.0</td>\n",
       "      <td>261109121</td>\n",
       "      <td>NaN</td>\n",
       "      <td>3</td>\n",
       "      <td>0</td>\n",
       "      <td>...</td>\n",
       "      <td>92506</td>\n",
       "      <td>31100.0</td>\n",
       "      <td>2611091</td>\n",
       "      <td>2</td>\n",
       "      <td>1</td>\n",
       "      <td>8</td>\n",
       "      <td>21:00</td>\n",
       "      <td>23:00</td>\n",
       "      <td>3</td>\n",
       "      <td>True</td>\n",
       "    </tr>\n",
       "    <tr>\n",
       "      <th>382774</th>\n",
       "      <td>25568141</td>\n",
       "      <td>1</td>\n",
       "      <td>1</td>\n",
       "      <td>51</td>\n",
       "      <td>1</td>\n",
       "      <td>97.0</td>\n",
       "      <td>255681415</td>\n",
       "      <td>5.0</td>\n",
       "      <td>18</td>\n",
       "      <td>10</td>\n",
       "      <td>...</td>\n",
       "      <td>93727</td>\n",
       "      <td>1407.0</td>\n",
       "      <td>2556814</td>\n",
       "      <td>1</td>\n",
       "      <td>5</td>\n",
       "      <td>28</td>\n",
       "      <td>18:10</td>\n",
       "      <td>18:25</td>\n",
       "      <td>1</td>\n",
       "      <td>True</td>\n",
       "    </tr>\n",
       "  </tbody>\n",
       "</table>\n",
       "<p>5 rows × 26 columns</p>\n",
       "</div>"
      ],
      "text/plain": [
       "           HHPER  RELAT  GEND  AGE  HISP  RACE1   HHPERPLA  MODE  ARR_HR  \\\n",
       "462410  28439901      1     2   70     2    2.0  284399012   1.0       6   \n",
       "431181  26643471      1     1   40     2    1.0  266434714   5.0       8   \n",
       "379382  25496451      1     2   65     2    1.0  254964511   NaN       3   \n",
       "407402  26110912      2     2   52     1    1.0  261109121   NaN       3   \n",
       "382774  25568141      1     1   51     1   97.0  255681415   5.0      18   \n",
       "\n",
       "        ARR_MIN  ...    ZIP    TRACT    SAMPN PERNO PLANO APURP  STIME  ETIME  \\\n",
       "462410       40  ...  92506  31401.0  2843990     1     2    39  06:40  06:41   \n",
       "431181        0  ...  92223  43818.0  2664347     1     4     1  08:00  10:40   \n",
       "379382        0  ...  95209   3210.0  2549645     1     1     3  09:00  09:15   \n",
       "407402        0  ...  92506  31100.0  2611091     2     1     8  21:00  23:00   \n",
       "382774       10  ...  93727   1407.0  2556814     1     5    28  18:10  18:25   \n",
       "\n",
       "        TSERIES_NUM  is_zip  \n",
       "462410            1    True  \n",
       "431181            1    True  \n",
       "379382            3    True  \n",
       "407402            3    True  \n",
       "382774            1    True  \n",
       "\n",
       "[5 rows x 26 columns]"
      ]
     },
     "execution_count": 152,
     "metadata": {},
     "output_type": "execute_result"
    }
   ],
   "source": [
    "part1.head()"
   ]
  },
  {
   "cell_type": "code",
   "execution_count": 142,
   "metadata": {},
   "outputs": [
    {
     "data": {
      "text/plain": [
       "array(['92120', '93266', '95422', 92028, '92704', '95835', '95630',\n",
       "       '92606', '94947', 92708], dtype=object)"
      ]
     },
     "execution_count": 142,
     "metadata": {},
     "output_type": "execute_result"
    }
   ],
   "source": [
    "test_zips = np.random.choice(v_zips[\"ZIP\"].unique(), 10)\n",
    "test_zips"
   ]
  },
  {
   "cell_type": "code",
   "execution_count": 146,
   "metadata": {},
   "outputs": [
    {
     "data": {
      "image/png": "[encoded data removed]",
      "text/plain": [
       "<Figure size 720x576 with 1 Axes>"
      ]
     },
     "metadata": {
      "needs_background": "light"
     },
     "output_type": "display_data"
    }
   ],
   "source": [
    "plt.figure(figsize=(10,8))\n",
    "for zip_c in test_zips:\n",
    "    z = v_zips[(v_zips[\"ZIP\"] == zip_c) & (v_zips[\"MODE\"].isin([6,7]))]\n",
    "    sns.distplot(z[\"ARR_HR\"], kde=False);\n",
    "    plt.xlim(0,25)\n"
   ]
  },
  {
   "cell_type": "code",
   "execution_count": 137,
   "metadata": {},
   "outputs": [
    {
     "data": {
      "text/plain": [
       "3"
      ]
     },
     "execution_count": 137,
     "metadata": {},
     "output_type": "execute_result"
    }
   ],
   "source": [
    "get_features(sample)[0]"
   ]
  },
  {
   "cell_type": "code",
   "execution_count": null,
   "metadata": {},
   "outputs": [],
   "source": []
  }
 ],
 "metadata": {
  "kernelspec": {
   "display_name": "Python 3",
   "language": "python",
   "name": "python3"
  },
  "language_info": {
   "codemirror_mode": {
    "name": "ipython",
    "version": 3
   },
   "file_extension": ".py",
   "mimetype": "text/x-python",
   "name": "python",
   "nbconvert_exporter": "python",
   "pygments_lexer": "ipython3",
   "version": "3.6.8"
  }
 },
 "nbformat": 4,
 "nbformat_minor": 2
}
